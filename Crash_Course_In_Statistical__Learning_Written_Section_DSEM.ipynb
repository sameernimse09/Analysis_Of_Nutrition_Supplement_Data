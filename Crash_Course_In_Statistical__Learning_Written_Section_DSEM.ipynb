{
  "cells": [
    {
      "cell_type": "markdown",
      "metadata": {
        "id": "Jj6r1GAFmJ4g"
      },
      "source": [
        "# MIT License\n",
        "\n",
        "Copyright (c) 2023 Sameer Sanjay Nimse\n",
        "\n",
        "Permission is hereby granted, free of charge, to any person obtaining a copy of this software and associated documentation files (the \"Software\"), to deal in the Software without restriction, including without limitation the rights to use, copy, modify, merge, publish, distribute, sublicense, and/or sell copies of the Software, and to permit persons to whom the Software is furnished to do so, subject to the following conditions:\n",
        "\n",
        "The above copyright notice and this permission notice shall be included in all copies or substantial portions of the Software.\n",
        "\n",
        "THE SOFTWARE IS PROVIDED \"AS IS\", WITHOUT WARRANTY OF ANY KIND, EXPRESS OR IMPLIED, INCLUDING BUT NOT LIMITED TO THE WARRANTIES OF MERCHANTABILITY, FITNESS FOR A PARTICULAR PURPOSE AND NONINFRINGEMENT. IN NO EVENT SHALL THE AUTHORS OR COPYRIGHT HOLDERS BE LIABLE FOR ANY CLAIM, DAMAGES OR OTHER LIABILITY, WHETHER IN AN ACTION OF CONTRACT, TORT OR OTHERWISE, ARISING FROM, OUT OF OR IN CONNECTION WITH THE SOFTWARE OR THE USE OR OTHER DEALINGS IN THE SOFTWARE.\n",
        "\n"
      ]
    },
    {
      "cell_type": "markdown",
      "metadata": {
        "id": "YcESFJTyrydR"
      },
      "source": [
        "# **Exploring Regression Techniques for Predicting Price per Serving in Body Building Nutrition Dataset**\n",
        "\n",
        "**Introduction:**In this analysis, I worked with a body building nutrition dataset and explored various regression techniques to build a predictive model for the price per serving variable. I utilized Ordinary Least Squares (OLS), Lasso, and Ridge regression methods to train models on the dataset and evaluated their performance using various metrics such as mean squared error (MSE), mean absolute error (MAE), and R2 score.\n",
        "\n",
        "I also compared the performance of these regression models with other regression techniques such as K-Neighbors Regressor, Decision Tree, Random Forest Regressor, XGBRegressor, and AdaBoost Regressor, and determined that the Random Forest Regressor and XGBRegressor models have the highest R2 scores.\n",
        "\n",
        "\n",
        "\n",
        "**Abstract:** This study aimed to analyze the factors affecting the price per serving of supplements and evaluate the performance of various regression techniques in predicting the target variable. The dataset contained information about the product name, brand name, product category, number of flavors, number of reviews, overall rating, verified buyer rating, verified buyer number, price, and other related variables.\n",
        "\n",
        "**Regression:**\n",
        "* Regression is a statistical technique used to model the relationship between a dependent variable (often referred to as the \"outcome\" or \"response\" variable) and one or more independent variables (often referred to as \"predictors\" or \"covariates\"). The goal of regression analysis is to find a mathematical function that can best predict the dependent variable based on the independent variables.\n",
        "\n",
        "* Regression is widely used in various fields, including finance, economics, social sciences, engineering, and natural sciences, to model and predict outcomes. Some common applications of regression analysis include predicting stock prices, analyzing the effect of marketing campaigns on sales, studying the impact of environmental factors on crop yields, and estimating the relationship between a person's age, gender, and income.\n",
        "\n",
        "* There are various types of regression techniques, including linear regression, logistic regression, ridge regression, lasso regression, and others. These techniques differ in their assumptions, strengths, and limitations and are chosen based on the nature of the data and the research question being studied.\n",
        "\n",
        "**Regression Techniques:**\n",
        "1. Linear Regression: Linear regression is a method that models the linear relationship between the dependent variable and one or more independent variables. It estimates the coefficients of a linear equation by minimizing the sum of squared residuals between the predicted and actual values.\n",
        "\n",
        "2. Lasso Regression: Lasso is a linear regression method that adds a penalty term to the OLS objective function to encourage sparse solutions. It uses L1 regularization to shrink the coefficients of less important features to zero, which can improve the model's interpretability and reduce overfitting.\n",
        "\n",
        "3. Ridge Regression: Ridge is a linear regression method that also adds a penalty term to the OLS objective function, but uses L2 regularization instead. It shrinks the coefficients of all features towards zero, which can reduce the model's variance and improve its generalization performance.\n",
        "\n",
        "4. K-Neighbors Regressor: K-Neighbors Regressor is a non-parametric regression method that predicts the response variable by averaging the values of the k nearest neighbors in the training set.\n",
        "\n",
        "5. Decision Tree: Decision Tree is a non-linear regression method that partitions the feature space into a hierarchical structure of binary splits and predicts the response variable based on the path from the root node to the leaf node.\n",
        "\n",
        "6. Random Forest Regressor: Random Forest Regressor is an ensemble regression method that combines multiple decision trees trained on bootstrapped samples of the data and random subsets of the features. It averages the predictions of the individual trees to improve the model's accuracy and reduce overfitting.\n",
        "\n",
        "7. XGBRegressor: XGBRegressor is an implementation of gradient boosting regression, which combines multiple weak learners in a sequence to minimize the residual errors between the predicted and actual values.\n",
        "\n",
        "8. AdaBoost Regressor: AdaBoost Regressor is another ensemble regression method that combines multiple weak learners, but in a different way than random forests or gradient boosting. It weights the instances in the training set to emphasize the misclassified instances in each iteration, and combines the predictions of the individual models using a weighted average."
      ]
    },
    {
      "cell_type": "markdown",
      "metadata": {
        "id": "zEKQfxY2mW8w"
      },
      "source": [
        "# Data Set\n",
        "The data set consists of :\n",
        "\n",
        "14 physical characteristics i.e. average flavor rating, brand name, link, number of flavors, number of reviews, overall rating, price, product category, product_description, product name top flavor rated, verified buyer number, verified buyer rating - The independent variables\n",
        "\n",
        "Price per serving- The target variable There are a total of 840 rows and 14 columns"
      ]
    },
    {
      "cell_type": "markdown",
      "metadata": {
        "id": "Zywoa7g4sKoy"
      },
      "source": [
        "### Variable Description:\n",
        "\n",
        "**average_flavor_rating**: The average of the flavor rated by the user\n",
        "\n",
        "**brand_name**           : The name of the brand\n",
        "\n",
        "**link**                 : The link of the product\n",
        "\n",
        "**number_of_flavors**    : The total number of flavors that brand has\n",
        "\n",
        "**number_of_reviews**    : The total number of reviews for a product\n",
        "\n",
        "**overall_rating**       : The overall rating of the product\n",
        "\n",
        "**price**                : The actual price of the product\n",
        "\n",
        "**price_per_serving**    : The cost of the supplement per serving\n",
        "\n",
        "**product_category**     : The category of the supplement\n",
        "\n",
        "**product_description**   : The description of the product\n",
        "\n",
        "**product_name**          : The name of the product\n",
        "\n",
        "**top_flavor_rated**      : Top flavor of a particular supplement\n",
        "\n",
        "**verified_buyer_number** : The number of the verified buyer\n",
        "\n",
        "**verified_buyer_rating** : The rating of the verified buyer"
      ]
    },
    {
      "cell_type": "markdown",
      "metadata": {
        "id": "3FGiW3WN14eT"
      },
      "source": [
        "## Importing libraries"
      ]
    },
    {
      "cell_type": "code",
      "execution_count": 1,
      "metadata": {
        "colab": {
          "base_uri": "https://localhost:8080/"
        },
        "id": "A8q4Qm6ymKt7",
        "outputId": "11e2dd4e-3f71-4758-d490-85d76f44f630"
      },
      "outputs": [
        {
          "output_type": "stream",
          "name": "stdout",
          "text": [
            "Looking in indexes: https://pypi.org/simple, https://us-python.pkg.dev/colab-wheels/public/simple/\n",
            "Requirement already satisfied: requests in /usr/local/lib/python3.9/dist-packages (2.27.1)\n",
            "Requirement already satisfied: charset-normalizer~=2.0.0 in /usr/local/lib/python3.9/dist-packages (from requests) (2.0.12)\n",
            "Requirement already satisfied: urllib3<1.27,>=1.21.1 in /usr/local/lib/python3.9/dist-packages (from requests) (1.26.15)\n",
            "Requirement already satisfied: idna<4,>=2.5 in /usr/local/lib/python3.9/dist-packages (from requests) (3.4)\n",
            "Requirement already satisfied: certifi>=2017.4.17 in /usr/local/lib/python3.9/dist-packages (from requests) (2022.12.7)\n",
            "Looking in indexes: https://pypi.org/simple, https://us-python.pkg.dev/colab-wheels/public/simple/\n",
            "Requirement already satisfied: tabulate in /usr/local/lib/python3.9/dist-packages (0.8.10)\n",
            "Looking in indexes: https://pypi.org/simple, https://us-python.pkg.dev/colab-wheels/public/simple/\n",
            "Requirement already satisfied: colorama>=0.3.8 in /usr/local/lib/python3.9/dist-packages (0.4.6)\n",
            "Looking in indexes: https://pypi.org/simple, https://us-python.pkg.dev/colab-wheels/public/simple/\n",
            "Requirement already satisfied: future in /usr/local/lib/python3.9/dist-packages (0.18.3)\n",
            "Looking in indexes: https://pypi.org/simple, https://us-python.pkg.dev/colab-wheels/public/simple/\n",
            "Requirement already satisfied: sklearn in /usr/local/lib/python3.9/dist-packages (0.0.post4)\n",
            "Looking in indexes: https://pypi.org/simple, https://us-python.pkg.dev/colab-wheels/public/simple/\n",
            "Requirement already satisfied: scikit-learn in /usr/local/lib/python3.9/dist-packages (1.2.2)\n",
            "Requirement already satisfied: scipy>=1.3.2 in /usr/local/lib/python3.9/dist-packages (from scikit-learn) (1.10.1)\n",
            "Requirement already satisfied: threadpoolctl>=2.0.0 in /usr/local/lib/python3.9/dist-packages (from scikit-learn) (3.1.0)\n",
            "Requirement already satisfied: numpy>=1.17.3 in /usr/local/lib/python3.9/dist-packages (from scikit-learn) (1.22.4)\n",
            "Requirement already satisfied: joblib>=1.1.1 in /usr/local/lib/python3.9/dist-packages (from scikit-learn) (1.2.0)\n",
            "Looking in indexes: https://pypi.org/simple, https://us-python.pkg.dev/colab-wheels/public/simple/\n",
            "Requirement already satisfied: pydot in /usr/local/lib/python3.9/dist-packages (1.4.2)\n",
            "Requirement already satisfied: pyparsing>=2.1.4 in /usr/local/lib/python3.9/dist-packages (from pydot) (3.0.9)\n",
            "Looking in indexes: https://pypi.org/simple, https://us-python.pkg.dev/colab-wheels/public/simple/\n",
            "Requirement already satisfied: graphviz in /usr/local/lib/python3.9/dist-packages (0.20.1)\n",
            "Looking in indexes: https://pypi.org/simple, https://us-python.pkg.dev/colab-wheels/public/simple/\n",
            "Requirement already satisfied: datasist in /usr/local/lib/python3.9/dist-packages (1.5.3)\n",
            "Requirement already satisfied: numpy in /usr/local/lib/python3.9/dist-packages (from datasist) (1.22.4)\n",
            "Requirement already satisfied: jupyter in /usr/local/lib/python3.9/dist-packages (from datasist) (1.0.0)\n",
            "Requirement already satisfied: Joblib in /usr/local/lib/python3.9/dist-packages (from datasist) (1.2.0)\n",
            "Requirement already satisfied: seaborn in /usr/local/lib/python3.9/dist-packages (from datasist) (0.12.2)\n",
            "Requirement already satisfied: scikit-learn in /usr/local/lib/python3.9/dist-packages (from datasist) (1.2.2)\n",
            "Requirement already satisfied: matplotlib in /usr/local/lib/python3.9/dist-packages (from datasist) (3.7.1)\n",
            "Requirement already satisfied: pandas in /usr/local/lib/python3.9/dist-packages (from datasist) (1.5.3)\n",
            "Requirement already satisfied: nltk in /usr/local/lib/python3.9/dist-packages (from datasist) (3.8.1)\n",
            "Requirement already satisfied: notebook in /usr/local/lib/python3.9/dist-packages (from jupyter->datasist) (6.4.8)\n",
            "Requirement already satisfied: nbconvert in /usr/local/lib/python3.9/dist-packages (from jupyter->datasist) (6.5.4)\n",
            "Requirement already satisfied: qtconsole in /usr/local/lib/python3.9/dist-packages (from jupyter->datasist) (5.4.2)\n",
            "Requirement already satisfied: ipywidgets in /usr/local/lib/python3.9/dist-packages (from jupyter->datasist) (7.7.1)\n",
            "Requirement already satisfied: jupyter-console in /usr/local/lib/python3.9/dist-packages (from jupyter->datasist) (6.1.0)\n",
            "Requirement already satisfied: ipykernel in /usr/local/lib/python3.9/dist-packages (from jupyter->datasist) (5.5.6)\n",
            "Requirement already satisfied: cycler>=0.10 in /usr/local/lib/python3.9/dist-packages (from matplotlib->datasist) (0.11.0)\n",
            "Requirement already satisfied: kiwisolver>=1.0.1 in /usr/local/lib/python3.9/dist-packages (from matplotlib->datasist) (1.4.4)\n",
            "Requirement already satisfied: pyparsing>=2.3.1 in /usr/local/lib/python3.9/dist-packages (from matplotlib->datasist) (3.0.9)\n",
            "Requirement already satisfied: importlib-resources>=3.2.0 in /usr/local/lib/python3.9/dist-packages (from matplotlib->datasist) (5.12.0)\n",
            "Requirement already satisfied: contourpy>=1.0.1 in /usr/local/lib/python3.9/dist-packages (from matplotlib->datasist) (1.0.7)\n",
            "Requirement already satisfied: fonttools>=4.22.0 in /usr/local/lib/python3.9/dist-packages (from matplotlib->datasist) (4.39.3)\n",
            "Requirement already satisfied: pillow>=6.2.0 in /usr/local/lib/python3.9/dist-packages (from matplotlib->datasist) (8.4.0)\n",
            "Requirement already satisfied: python-dateutil>=2.7 in /usr/local/lib/python3.9/dist-packages (from matplotlib->datasist) (2.8.2)\n",
            "Requirement already satisfied: packaging>=20.0 in /usr/local/lib/python3.9/dist-packages (from matplotlib->datasist) (23.1)\n",
            "Requirement already satisfied: tqdm in /usr/local/lib/python3.9/dist-packages (from nltk->datasist) (4.65.0)\n",
            "Requirement already satisfied: regex>=2021.8.3 in /usr/local/lib/python3.9/dist-packages (from nltk->datasist) (2022.10.31)\n",
            "Requirement already satisfied: click in /usr/local/lib/python3.9/dist-packages (from nltk->datasist) (8.1.3)\n",
            "Requirement already satisfied: pytz>=2020.1 in /usr/local/lib/python3.9/dist-packages (from pandas->datasist) (2022.7.1)\n",
            "Requirement already satisfied: scipy>=1.3.2 in /usr/local/lib/python3.9/dist-packages (from scikit-learn->datasist) (1.10.1)\n",
            "Requirement already satisfied: threadpoolctl>=2.0.0 in /usr/local/lib/python3.9/dist-packages (from scikit-learn->datasist) (3.1.0)\n",
            "Requirement already satisfied: zipp>=3.1.0 in /usr/local/lib/python3.9/dist-packages (from importlib-resources>=3.2.0->matplotlib->datasist) (3.15.0)\n",
            "Requirement already satisfied: six>=1.5 in /usr/local/lib/python3.9/dist-packages (from python-dateutil>=2.7->matplotlib->datasist) (1.16.0)\n",
            "Requirement already satisfied: tornado>=4.2 in /usr/local/lib/python3.9/dist-packages (from ipykernel->jupyter->datasist) (6.2)\n",
            "Requirement already satisfied: traitlets>=4.1.0 in /usr/local/lib/python3.9/dist-packages (from ipykernel->jupyter->datasist) (5.7.1)\n",
            "Requirement already satisfied: ipython-genutils in /usr/local/lib/python3.9/dist-packages (from ipykernel->jupyter->datasist) (0.2.0)\n",
            "Requirement already satisfied: ipython>=5.0.0 in /usr/local/lib/python3.9/dist-packages (from ipykernel->jupyter->datasist) (7.34.0)\n",
            "Requirement already satisfied: jupyter-client in /usr/local/lib/python3.9/dist-packages (from ipykernel->jupyter->datasist) (6.1.12)\n",
            "Requirement already satisfied: widgetsnbextension~=3.6.0 in /usr/local/lib/python3.9/dist-packages (from ipywidgets->jupyter->datasist) (3.6.4)\n",
            "Requirement already satisfied: jupyterlab-widgets>=1.0.0 in /usr/local/lib/python3.9/dist-packages (from ipywidgets->jupyter->datasist) (3.0.7)\n",
            "Requirement already satisfied: pygments in /usr/local/lib/python3.9/dist-packages (from jupyter-console->jupyter->datasist) (2.14.0)\n",
            "Requirement already satisfied: prompt-toolkit!=3.0.0,!=3.0.1,<3.1.0,>=2.0.0 in /usr/local/lib/python3.9/dist-packages (from jupyter-console->jupyter->datasist) (3.0.38)\n",
            "Requirement already satisfied: entrypoints>=0.2.2 in /usr/local/lib/python3.9/dist-packages (from nbconvert->jupyter->datasist) (0.4)\n",
            "Requirement already satisfied: jinja2>=3.0 in /usr/local/lib/python3.9/dist-packages (from nbconvert->jupyter->datasist) (3.1.2)\n",
            "Requirement already satisfied: MarkupSafe>=2.0 in /usr/local/lib/python3.9/dist-packages (from nbconvert->jupyter->datasist) (2.1.2)\n",
            "Requirement already satisfied: jupyter-core>=4.7 in /usr/local/lib/python3.9/dist-packages (from nbconvert->jupyter->datasist) (5.3.0)\n",
            "Requirement already satisfied: bleach in /usr/local/lib/python3.9/dist-packages (from nbconvert->jupyter->datasist) (6.0.0)\n",
            "Requirement already satisfied: nbformat>=5.1 in /usr/local/lib/python3.9/dist-packages (from nbconvert->jupyter->datasist) (5.8.0)\n",
            "Requirement already satisfied: tinycss2 in /usr/local/lib/python3.9/dist-packages (from nbconvert->jupyter->datasist) (1.2.1)\n",
            "Requirement already satisfied: lxml in /usr/local/lib/python3.9/dist-packages (from nbconvert->jupyter->datasist) (4.9.2)\n",
            "Requirement already satisfied: beautifulsoup4 in /usr/local/lib/python3.9/dist-packages (from nbconvert->jupyter->datasist) (4.11.2)\n",
            "Requirement already satisfied: jupyterlab-pygments in /usr/local/lib/python3.9/dist-packages (from nbconvert->jupyter->datasist) (0.2.2)\n",
            "Requirement already satisfied: mistune<2,>=0.8.1 in /usr/local/lib/python3.9/dist-packages (from nbconvert->jupyter->datasist) (0.8.4)\n",
            "Requirement already satisfied: pandocfilters>=1.4.1 in /usr/local/lib/python3.9/dist-packages (from nbconvert->jupyter->datasist) (1.5.0)\n",
            "Requirement already satisfied: nbclient>=0.5.0 in /usr/local/lib/python3.9/dist-packages (from nbconvert->jupyter->datasist) (0.7.3)\n",
            "Requirement already satisfied: defusedxml in /usr/local/lib/python3.9/dist-packages (from nbconvert->jupyter->datasist) (0.7.1)\n",
            "Requirement already satisfied: Send2Trash>=1.8.0 in /usr/local/lib/python3.9/dist-packages (from notebook->jupyter->datasist) (1.8.0)\n",
            "Requirement already satisfied: terminado>=0.8.3 in /usr/local/lib/python3.9/dist-packages (from notebook->jupyter->datasist) (0.17.1)\n",
            "Requirement already satisfied: pyzmq>=17 in /usr/local/lib/python3.9/dist-packages (from notebook->jupyter->datasist) (23.2.1)\n",
            "Requirement already satisfied: argon2-cffi in /usr/local/lib/python3.9/dist-packages (from notebook->jupyter->datasist) (21.3.0)\n",
            "Requirement already satisfied: nest-asyncio>=1.5 in /usr/local/lib/python3.9/dist-packages (from notebook->jupyter->datasist) (1.5.6)\n",
            "Requirement already satisfied: prometheus-client in /usr/local/lib/python3.9/dist-packages (from notebook->jupyter->datasist) (0.16.0)\n",
            "Requirement already satisfied: qtpy>=2.0.1 in /usr/local/lib/python3.9/dist-packages (from qtconsole->jupyter->datasist) (2.3.1)\n",
            "Requirement already satisfied: matplotlib-inline in /usr/local/lib/python3.9/dist-packages (from ipython>=5.0.0->ipykernel->jupyter->datasist) (0.1.6)\n",
            "Requirement already satisfied: backcall in /usr/local/lib/python3.9/dist-packages (from ipython>=5.0.0->ipykernel->jupyter->datasist) (0.2.0)\n",
            "Requirement already satisfied: jedi>=0.16 in /usr/local/lib/python3.9/dist-packages (from ipython>=5.0.0->ipykernel->jupyter->datasist) (0.18.2)\n",
            "Requirement already satisfied: setuptools>=18.5 in /usr/local/lib/python3.9/dist-packages (from ipython>=5.0.0->ipykernel->jupyter->datasist) (67.7.1)\n",
            "Requirement already satisfied: pexpect>4.3 in /usr/local/lib/python3.9/dist-packages (from ipython>=5.0.0->ipykernel->jupyter->datasist) (4.8.0)\n",
            "Requirement already satisfied: pickleshare in /usr/local/lib/python3.9/dist-packages (from ipython>=5.0.0->ipykernel->jupyter->datasist) (0.7.5)\n",
            "Requirement already satisfied: decorator in /usr/local/lib/python3.9/dist-packages (from ipython>=5.0.0->ipykernel->jupyter->datasist) (4.4.2)\n",
            "Requirement already satisfied: platformdirs>=2.5 in /usr/local/lib/python3.9/dist-packages (from jupyter-core>=4.7->nbconvert->jupyter->datasist) (3.2.0)\n",
            "Requirement already satisfied: jsonschema>=2.6 in /usr/local/lib/python3.9/dist-packages (from nbformat>=5.1->nbconvert->jupyter->datasist) (4.3.3)\n",
            "Requirement already satisfied: fastjsonschema in /usr/local/lib/python3.9/dist-packages (from nbformat>=5.1->nbconvert->jupyter->datasist) (2.16.3)\n",
            "Requirement already satisfied: wcwidth in /usr/local/lib/python3.9/dist-packages (from prompt-toolkit!=3.0.0,!=3.0.1,<3.1.0,>=2.0.0->jupyter-console->jupyter->datasist) (0.2.6)\n",
            "Requirement already satisfied: ptyprocess in /usr/local/lib/python3.9/dist-packages (from terminado>=0.8.3->notebook->jupyter->datasist) (0.7.0)\n",
            "Requirement already satisfied: argon2-cffi-bindings in /usr/local/lib/python3.9/dist-packages (from argon2-cffi->notebook->jupyter->datasist) (21.2.0)\n",
            "Requirement already satisfied: soupsieve>1.2 in /usr/local/lib/python3.9/dist-packages (from beautifulsoup4->nbconvert->jupyter->datasist) (2.4.1)\n",
            "Requirement already satisfied: webencodings in /usr/local/lib/python3.9/dist-packages (from bleach->nbconvert->jupyter->datasist) (0.5.1)\n",
            "Requirement already satisfied: parso<0.9.0,>=0.8.0 in /usr/local/lib/python3.9/dist-packages (from jedi>=0.16->ipython>=5.0.0->ipykernel->jupyter->datasist) (0.8.3)\n",
            "Requirement already satisfied: attrs>=17.4.0 in /usr/local/lib/python3.9/dist-packages (from jsonschema>=2.6->nbformat>=5.1->nbconvert->jupyter->datasist) (23.1.0)\n",
            "Requirement already satisfied: pyrsistent!=0.17.0,!=0.17.1,!=0.17.2,>=0.14.0 in /usr/local/lib/python3.9/dist-packages (from jsonschema>=2.6->nbformat>=5.1->nbconvert->jupyter->datasist) (0.19.3)\n",
            "Requirement already satisfied: cffi>=1.0.1 in /usr/local/lib/python3.9/dist-packages (from argon2-cffi-bindings->argon2-cffi->notebook->jupyter->datasist) (1.15.1)\n",
            "Requirement already satisfied: pycparser in /usr/local/lib/python3.9/dist-packages (from cffi>=1.0.1->argon2-cffi-bindings->argon2-cffi->notebook->jupyter->datasist) (2.21)\n",
            "Looking in indexes: https://pypi.org/simple, https://us-python.pkg.dev/colab-wheels/public/simple/\n",
            "Requirement already satisfied: fitter in /usr/local/lib/python3.9/dist-packages (1.5.2)\n",
            "Requirement already satisfied: matplotlib in /usr/local/lib/python3.9/dist-packages (from fitter) (3.7.1)\n",
            "Requirement already satisfied: tqdm in /usr/local/lib/python3.9/dist-packages (from fitter) (4.65.0)\n",
            "Requirement already satisfied: click in /usr/local/lib/python3.9/dist-packages (from fitter) (8.1.3)\n",
            "Requirement already satisfied: pandas in /usr/local/lib/python3.9/dist-packages (from fitter) (1.5.3)\n",
            "Requirement already satisfied: numpy in /usr/local/lib/python3.9/dist-packages (from fitter) (1.22.4)\n",
            "Requirement already satisfied: scipy>=0.18 in /usr/local/lib/python3.9/dist-packages (from fitter) (1.10.1)\n",
            "Requirement already satisfied: joblib in /usr/local/lib/python3.9/dist-packages (from fitter) (1.2.0)\n",
            "Requirement already satisfied: cycler>=0.10 in /usr/local/lib/python3.9/dist-packages (from matplotlib->fitter) (0.11.0)\n",
            "Requirement already satisfied: kiwisolver>=1.0.1 in /usr/local/lib/python3.9/dist-packages (from matplotlib->fitter) (1.4.4)\n",
            "Requirement already satisfied: pyparsing>=2.3.1 in /usr/local/lib/python3.9/dist-packages (from matplotlib->fitter) (3.0.9)\n",
            "Requirement already satisfied: fonttools>=4.22.0 in /usr/local/lib/python3.9/dist-packages (from matplotlib->fitter) (4.39.3)\n",
            "Requirement already satisfied: python-dateutil>=2.7 in /usr/local/lib/python3.9/dist-packages (from matplotlib->fitter) (2.8.2)\n",
            "Requirement already satisfied: importlib-resources>=3.2.0 in /usr/local/lib/python3.9/dist-packages (from matplotlib->fitter) (5.12.0)\n",
            "Requirement already satisfied: pillow>=6.2.0 in /usr/local/lib/python3.9/dist-packages (from matplotlib->fitter) (8.4.0)\n",
            "Requirement already satisfied: packaging>=20.0 in /usr/local/lib/python3.9/dist-packages (from matplotlib->fitter) (23.1)\n",
            "Requirement already satisfied: contourpy>=1.0.1 in /usr/local/lib/python3.9/dist-packages (from matplotlib->fitter) (1.0.7)\n",
            "Requirement already satisfied: pytz>=2020.1 in /usr/local/lib/python3.9/dist-packages (from pandas->fitter) (2022.7.1)\n",
            "Requirement already satisfied: zipp>=3.1.0 in /usr/local/lib/python3.9/dist-packages (from importlib-resources>=3.2.0->matplotlib->fitter) (3.15.0)\n",
            "Requirement already satisfied: six>=1.5 in /usr/local/lib/python3.9/dist-packages (from python-dateutil>=2.7->matplotlib->fitter) (1.16.0)\n",
            "Looking in indexes: https://pypi.org/simple, https://us-python.pkg.dev/colab-wheels/public/simple/\n",
            "Requirement already satisfied: fancyimpute in /usr/local/lib/python3.9/dist-packages (0.7.0)\n",
            "Requirement already satisfied: cvxopt in /usr/local/lib/python3.9/dist-packages (from fancyimpute) (1.3.0)\n",
            "Requirement already satisfied: cvxpy in /usr/local/lib/python3.9/dist-packages (from fancyimpute) (1.3.1)\n",
            "Requirement already satisfied: scikit-learn>=0.24.2 in /usr/local/lib/python3.9/dist-packages (from fancyimpute) (1.2.2)\n",
            "Requirement already satisfied: nose in /usr/local/lib/python3.9/dist-packages (from fancyimpute) (1.3.7)\n",
            "Requirement already satisfied: pytest in /usr/local/lib/python3.9/dist-packages (from fancyimpute) (7.2.2)\n",
            "Requirement already satisfied: knnimpute>=0.1.0 in /usr/local/lib/python3.9/dist-packages (from fancyimpute) (0.1.0)\n",
            "Requirement already satisfied: numpy>=1.10 in /usr/local/lib/python3.9/dist-packages (from knnimpute>=0.1.0->fancyimpute) (1.22.4)\n",
            "Requirement already satisfied: six in /usr/local/lib/python3.9/dist-packages (from knnimpute>=0.1.0->fancyimpute) (1.16.0)\n",
            "Requirement already satisfied: scipy>=1.3.2 in /usr/local/lib/python3.9/dist-packages (from scikit-learn>=0.24.2->fancyimpute) (1.10.1)\n",
            "Requirement already satisfied: threadpoolctl>=2.0.0 in /usr/local/lib/python3.9/dist-packages (from scikit-learn>=0.24.2->fancyimpute) (3.1.0)\n",
            "Requirement already satisfied: joblib>=1.1.1 in /usr/local/lib/python3.9/dist-packages (from scikit-learn>=0.24.2->fancyimpute) (1.2.0)\n",
            "Requirement already satisfied: osqp>=0.4.1 in /usr/local/lib/python3.9/dist-packages (from cvxpy->fancyimpute) (0.6.2.post0)\n",
            "Requirement already satisfied: scs>=1.1.6 in /usr/local/lib/python3.9/dist-packages (from cvxpy->fancyimpute) (3.2.3)\n",
            "Requirement already satisfied: ecos>=2 in /usr/local/lib/python3.9/dist-packages (from cvxpy->fancyimpute) (2.0.12)\n",
            "Requirement already satisfied: setuptools>65.5.1 in /usr/local/lib/python3.9/dist-packages (from cvxpy->fancyimpute) (67.7.1)\n",
            "Requirement already satisfied: exceptiongroup>=1.0.0rc8 in /usr/local/lib/python3.9/dist-packages (from pytest->fancyimpute) (1.1.1)\n",
            "Requirement already satisfied: packaging in /usr/local/lib/python3.9/dist-packages (from pytest->fancyimpute) (23.1)\n",
            "Requirement already satisfied: pluggy<2.0,>=0.12 in /usr/local/lib/python3.9/dist-packages (from pytest->fancyimpute) (1.0.0)\n",
            "Requirement already satisfied: tomli>=1.0.0 in /usr/local/lib/python3.9/dist-packages (from pytest->fancyimpute) (2.0.1)\n",
            "Requirement already satisfied: attrs>=19.2.0 in /usr/local/lib/python3.9/dist-packages (from pytest->fancyimpute) (23.1.0)\n",
            "Requirement already satisfied: iniconfig in /usr/local/lib/python3.9/dist-packages (from pytest->fancyimpute) (2.0.0)\n",
            "Requirement already satisfied: qdldl in /usr/local/lib/python3.9/dist-packages (from osqp>=0.4.1->cvxpy->fancyimpute) (0.1.7)\n"
          ]
        }
      ],
      "source": [
        "# Importing all libraries \n",
        "!pip install requests\n",
        "!pip install tabulate\n",
        "!pip install \"colorama>=0.3.8\"\n",
        "!pip install future\n",
        "!pip install sklearn\n",
        "!pip install -U scikit-learn --user\n",
        "!pip install pydot\n",
        "!pip install graphviz\n",
        "!pip install datasist\n",
        "!pip install fitter\n",
        "\n",
        "\n",
        "import pandas as pd\n",
        "import numpy as np\n",
        "import sklearn\n",
        "from sklearn.model_selection import train_test_split\n",
        "import random\n",
        "from sklearn.ensemble import RandomForestRegressor\n",
        "from fitter import Fitter, get_common_distributions, get_distributions\n",
        "from matplotlib.pyplot import figure\n",
        "import pydot\n",
        "import matplotlib.pyplot as plt\n",
        "import matplotlib.image as mpimg\n",
        "import random, os, sys\n",
        "import numpy as np\n",
        "from matplotlib.pyplot import figure\n",
        "import numpy as np\n",
        "import pandas as pd\n",
        "import matplotlib.pylab as plt\n",
        "import seaborn as sns\n",
        "from sklearn.metrics import mean_squared_error, mean_absolute_error\n",
        "\n",
        "\n",
        "# Data Imputation\n",
        "!pip install fancyimpute\n",
        "from fancyimpute import IterativeImputer as MICE\n",
        "from sklearn.impute import KNNImputer\n",
        "\n",
        "# Modelling\n",
        "from sklearn.metrics import mean_squared_error, r2_score\n",
        "from sklearn.neighbors import KNeighborsRegressor\n",
        "from sklearn.tree import DecisionTreeRegressor\n",
        "from sklearn.ensemble import RandomForestRegressor,AdaBoostRegressor\n",
        "from sklearn.svm import SVR\n",
        "from sklearn.linear_model import LinearRegression, Ridge,Lasso\n",
        "from sklearn.metrics import r2_score, mean_absolute_error, mean_squared_error\n",
        "from sklearn.model_selection import RandomizedSearchCV\n",
        "from xgboost import XGBRegressor\n",
        "import warnings\n",
        "\n",
        "plt.rcParams[\"figure.figsize\"] = (12, 8)"
      ]
    },
    {
      "cell_type": "code",
      "execution_count": 2,
      "metadata": {
        "id": "LLqa8sjiHVcg"
      },
      "outputs": [],
      "source": [
        "pandas_df = pd.read_csv(\"https://raw.githubusercontent.com/sameernimse09/Data-Science/main/bodybuilding_nutrition_products.csv\")\n",
        " # Reading CSV file into Pandas DataFrame"
      ]
    },
    {
      "cell_type": "markdown",
      "metadata": {
        "id": "EpDcwn9brEBR"
      },
      "source": [
        "# **Exploratory Data Analysis**"
      ]
    },
    {
      "cell_type": "code",
      "execution_count": 3,
      "metadata": {
        "colab": {
          "base_uri": "https://localhost:8080/"
        },
        "id": "M5On3wMc_Dtw",
        "outputId": "41d2ac44-7832-4968-c996-b956d7b5cda3"
      },
      "outputs": [
        {
          "output_type": "stream",
          "name": "stdout",
          "text": [
            "<class 'pandas.core.frame.DataFrame'>\n",
            "RangeIndex: 840 entries, 0 to 839\n",
            "Data columns (total 14 columns):\n",
            " #   Column                 Non-Null Count  Dtype  \n",
            "---  ------                 --------------  -----  \n",
            " 0   average_flavor_rating  387 non-null    float64\n",
            " 1   brand_name             840 non-null    object \n",
            " 2   link                   840 non-null    object \n",
            " 3   number_of_flavors      381 non-null    float64\n",
            " 4   number_of_reviews      821 non-null    float64\n",
            " 5   overall_rating         821 non-null    float64\n",
            " 6   price                  840 non-null    float64\n",
            " 7   price_per_serving      840 non-null    float64\n",
            " 8   product_category       669 non-null    object \n",
            " 9   product_description    840 non-null    object \n",
            " 10  product_name           840 non-null    object \n",
            " 11  top_flavor_rated       381 non-null    object \n",
            " 12  verified_buyer_number  509 non-null    object \n",
            " 13  verified_buyer_rating  509 non-null    float64\n",
            "dtypes: float64(7), object(7)\n",
            "memory usage: 92.0+ KB\n"
          ]
        }
      ],
      "source": [
        "pandas_df.info()"
      ]
    },
    {
      "cell_type": "code",
      "execution_count": 4,
      "metadata": {
        "id": "bamuZffQDTr4"
      },
      "outputs": [],
      "source": [
        "pandas_df['verified_buyer_number'] = pandas_df['verified_buyer_number'].str.replace('Flavors','')\n",
        "pandas_df['verified_buyer_number'] = pandas_df['verified_buyer_number'].astype(float)"
      ]
    },
    {
      "cell_type": "code",
      "execution_count": 5,
      "metadata": {
        "colab": {
          "base_uri": "https://localhost:8080/"
        },
        "id": "AgTuDNaA_8LP",
        "outputId": "8fbe8339-c1d5-4056-c655-a3ba63df8eb0"
      },
      "outputs": [
        {
          "output_type": "execute_result",
          "data": {
            "text/plain": [
              "average_flavor_rating    453\n",
              "brand_name                 0\n",
              "link                       0\n",
              "number_of_flavors        459\n",
              "number_of_reviews         19\n",
              "overall_rating            19\n",
              "price                      0\n",
              "price_per_serving          0\n",
              "product_category         171\n",
              "product_description        0\n",
              "product_name               0\n",
              "top_flavor_rated         459\n",
              "verified_buyer_number    331\n",
              "verified_buyer_rating    331\n",
              "dtype: int64"
            ]
          },
          "metadata": {},
          "execution_count": 5
        }
      ],
      "source": [
        "pandas_df.isnull().sum()\n",
        "# Checking for any null values in the dataset"
      ]
    },
    {
      "cell_type": "code",
      "execution_count": 6,
      "metadata": {
        "colab": {
          "base_uri": "https://localhost:8080/"
        },
        "id": "ixiRbznG__dX",
        "outputId": "cf784c4a-40b3-4d96-8067-186522bec6ae"
      },
      "outputs": [
        {
          "output_type": "execute_result",
          "data": {
            "text/plain": [
              "(840, 14)"
            ]
          },
          "metadata": {},
          "execution_count": 6
        }
      ],
      "source": [
        "pandas_df.shape  # Shape of the dataframe - Here, we have 840 samples of data"
      ]
    },
    {
      "cell_type": "code",
      "execution_count": 7,
      "metadata": {
        "colab": {
          "base_uri": "https://localhost:8080/",
          "height": 443
        },
        "id": "IJDVcUfhAE_1",
        "outputId": "bf39a31f-c1ac-42e2-8dee-950ff546f6da"
      },
      "outputs": [
        {
          "output_type": "execute_result",
          "data": {
            "text/plain": [
              "   average_flavor_rating              brand_name  \\\n",
              "0                    9.1      EVLUTION NUTRITION   \n",
              "1                    8.4       Optimum Nutrition   \n",
              "2                    8.3  JYM Supplement Science   \n",
              "3                    NaN       Optimum Nutrition   \n",
              "4                    8.7  JYM Supplement Science   \n",
              "\n",
              "                                                link  number_of_flavors  \\\n",
              "0  https://sa.bodybuilding.com/store/evlution-nut...               29.0   \n",
              "1  https://sa.bodybuilding.com/store/opt/whey.htm...               43.0   \n",
              "2  https://sa.bodybuilding.com/store/jym/pre-jym....                9.0   \n",
              "3  https://sa.bodybuilding.com/store/opt/essentia...                NaN   \n",
              "4  https://sa.bodybuilding.com/store/jym/pro-jym....               14.0   \n",
              "\n",
              "   number_of_reviews  overall_rating  price  price_per_serving  \\\n",
              "0             2575.0             9.4  19.99               0.67   \n",
              "1             9926.0             9.3  57.99               0.79   \n",
              "2             3947.0             9.1  48.99               1.63   \n",
              "3             2466.0             9.1  18.99               0.63   \n",
              "4             2506.0             9.2  56.98               1.10   \n",
              "\n",
              "           product_category  \\\n",
              "0                     BCAAs   \n",
              "1     Build Muscle Products   \n",
              "2  Improve Workout Products   \n",
              "3               Amino Acids   \n",
              "4      Whey Protein Isolate   \n",
              "\n",
              "                                 product_description  \\\n",
              "0  BCAA Powder with Natural Energizers Sourced fr...   \n",
              "1  24g of Whey Protein with Amino Acids for Muscl...   \n",
              "2  Pre-Workout Powder Powerhouse Packed with 13-H...   \n",
              "3  Amino Acid Powder with Caffeine from Natural S...   \n",
              "4  24g of Pure, Quality Protein in Every Scoop wi...   \n",
              "\n",
              "               product_name    top_flavor_rated  verified_buyer_number  \\\n",
              "0               BCAA Energy      Pink Starblast                 1594.0   \n",
              "1   Gold Standard 100% Whey          Unflavored                 3932.0   \n",
              "2                   Pre JYM  Raspberry Lemonade                 3471.0   \n",
              "3  Essential AmiN.O. Energy                 NaN                    NaN   \n",
              "4                   Pro JYM             S'mores                 2275.0   \n",
              "\n",
              "   verified_buyer_rating  \n",
              "0                    9.0  \n",
              "1                    9.0  \n",
              "2                    9.0  \n",
              "3                    NaN  \n",
              "4                    9.0  "
            ],
            "text/html": [
              "\n",
              "  <div id=\"df-c535e21c-8233-4f24-837b-0d842d5b9a02\">\n",
              "    <div class=\"colab-df-container\">\n",
              "      <div>\n",
              "<style scoped>\n",
              "    .dataframe tbody tr th:only-of-type {\n",
              "        vertical-align: middle;\n",
              "    }\n",
              "\n",
              "    .dataframe tbody tr th {\n",
              "        vertical-align: top;\n",
              "    }\n",
              "\n",
              "    .dataframe thead th {\n",
              "        text-align: right;\n",
              "    }\n",
              "</style>\n",
              "<table border=\"1\" class=\"dataframe\">\n",
              "  <thead>\n",
              "    <tr style=\"text-align: right;\">\n",
              "      <th></th>\n",
              "      <th>average_flavor_rating</th>\n",
              "      <th>brand_name</th>\n",
              "      <th>link</th>\n",
              "      <th>number_of_flavors</th>\n",
              "      <th>number_of_reviews</th>\n",
              "      <th>overall_rating</th>\n",
              "      <th>price</th>\n",
              "      <th>price_per_serving</th>\n",
              "      <th>product_category</th>\n",
              "      <th>product_description</th>\n",
              "      <th>product_name</th>\n",
              "      <th>top_flavor_rated</th>\n",
              "      <th>verified_buyer_number</th>\n",
              "      <th>verified_buyer_rating</th>\n",
              "    </tr>\n",
              "  </thead>\n",
              "  <tbody>\n",
              "    <tr>\n",
              "      <th>0</th>\n",
              "      <td>9.1</td>\n",
              "      <td>EVLUTION NUTRITION</td>\n",
              "      <td>https://sa.bodybuilding.com/store/evlution-nut...</td>\n",
              "      <td>29.0</td>\n",
              "      <td>2575.0</td>\n",
              "      <td>9.4</td>\n",
              "      <td>19.99</td>\n",
              "      <td>0.67</td>\n",
              "      <td>BCAAs</td>\n",
              "      <td>BCAA Powder with Natural Energizers Sourced fr...</td>\n",
              "      <td>BCAA Energy</td>\n",
              "      <td>Pink Starblast</td>\n",
              "      <td>1594.0</td>\n",
              "      <td>9.0</td>\n",
              "    </tr>\n",
              "    <tr>\n",
              "      <th>1</th>\n",
              "      <td>8.4</td>\n",
              "      <td>Optimum Nutrition</td>\n",
              "      <td>https://sa.bodybuilding.com/store/opt/whey.htm...</td>\n",
              "      <td>43.0</td>\n",
              "      <td>9926.0</td>\n",
              "      <td>9.3</td>\n",
              "      <td>57.99</td>\n",
              "      <td>0.79</td>\n",
              "      <td>Build Muscle Products</td>\n",
              "      <td>24g of Whey Protein with Amino Acids for Muscl...</td>\n",
              "      <td>Gold Standard 100% Whey</td>\n",
              "      <td>Unflavored</td>\n",
              "      <td>3932.0</td>\n",
              "      <td>9.0</td>\n",
              "    </tr>\n",
              "    <tr>\n",
              "      <th>2</th>\n",
              "      <td>8.3</td>\n",
              "      <td>JYM Supplement Science</td>\n",
              "      <td>https://sa.bodybuilding.com/store/jym/pre-jym....</td>\n",
              "      <td>9.0</td>\n",
              "      <td>3947.0</td>\n",
              "      <td>9.1</td>\n",
              "      <td>48.99</td>\n",
              "      <td>1.63</td>\n",
              "      <td>Improve Workout Products</td>\n",
              "      <td>Pre-Workout Powder Powerhouse Packed with 13-H...</td>\n",
              "      <td>Pre JYM</td>\n",
              "      <td>Raspberry Lemonade</td>\n",
              "      <td>3471.0</td>\n",
              "      <td>9.0</td>\n",
              "    </tr>\n",
              "    <tr>\n",
              "      <th>3</th>\n",
              "      <td>NaN</td>\n",
              "      <td>Optimum Nutrition</td>\n",
              "      <td>https://sa.bodybuilding.com/store/opt/essentia...</td>\n",
              "      <td>NaN</td>\n",
              "      <td>2466.0</td>\n",
              "      <td>9.1</td>\n",
              "      <td>18.99</td>\n",
              "      <td>0.63</td>\n",
              "      <td>Amino Acids</td>\n",
              "      <td>Amino Acid Powder with Caffeine from Natural S...</td>\n",
              "      <td>Essential AmiN.O. Energy</td>\n",
              "      <td>NaN</td>\n",
              "      <td>NaN</td>\n",
              "      <td>NaN</td>\n",
              "    </tr>\n",
              "    <tr>\n",
              "      <th>4</th>\n",
              "      <td>8.7</td>\n",
              "      <td>JYM Supplement Science</td>\n",
              "      <td>https://sa.bodybuilding.com/store/jym/pro-jym....</td>\n",
              "      <td>14.0</td>\n",
              "      <td>2506.0</td>\n",
              "      <td>9.2</td>\n",
              "      <td>56.98</td>\n",
              "      <td>1.10</td>\n",
              "      <td>Whey Protein Isolate</td>\n",
              "      <td>24g of Pure, Quality Protein in Every Scoop wi...</td>\n",
              "      <td>Pro JYM</td>\n",
              "      <td>S'mores</td>\n",
              "      <td>2275.0</td>\n",
              "      <td>9.0</td>\n",
              "    </tr>\n",
              "  </tbody>\n",
              "</table>\n",
              "</div>\n",
              "      <button class=\"colab-df-convert\" onclick=\"convertToInteractive('df-c535e21c-8233-4f24-837b-0d842d5b9a02')\"\n",
              "              title=\"Convert this dataframe to an interactive table.\"\n",
              "              style=\"display:none;\">\n",
              "        \n",
              "  <svg xmlns=\"http://www.w3.org/2000/svg\" height=\"24px\"viewBox=\"0 0 24 24\"\n",
              "       width=\"24px\">\n",
              "    <path d=\"M0 0h24v24H0V0z\" fill=\"none\"/>\n",
              "    <path d=\"M18.56 5.44l.94 2.06.94-2.06 2.06-.94-2.06-.94-.94-2.06-.94 2.06-2.06.94zm-11 1L8.5 8.5l.94-2.06 2.06-.94-2.06-.94L8.5 2.5l-.94 2.06-2.06.94zm10 10l.94 2.06.94-2.06 2.06-.94-2.06-.94-.94-2.06-.94 2.06-2.06.94z\"/><path d=\"M17.41 7.96l-1.37-1.37c-.4-.4-.92-.59-1.43-.59-.52 0-1.04.2-1.43.59L10.3 9.45l-7.72 7.72c-.78.78-.78 2.05 0 2.83L4 21.41c.39.39.9.59 1.41.59.51 0 1.02-.2 1.41-.59l7.78-7.78 2.81-2.81c.8-.78.8-2.07 0-2.86zM5.41 20L4 18.59l7.72-7.72 1.47 1.35L5.41 20z\"/>\n",
              "  </svg>\n",
              "      </button>\n",
              "      \n",
              "  <style>\n",
              "    .colab-df-container {\n",
              "      display:flex;\n",
              "      flex-wrap:wrap;\n",
              "      gap: 12px;\n",
              "    }\n",
              "\n",
              "    .colab-df-convert {\n",
              "      background-color: #E8F0FE;\n",
              "      border: none;\n",
              "      border-radius: 50%;\n",
              "      cursor: pointer;\n",
              "      display: none;\n",
              "      fill: #1967D2;\n",
              "      height: 32px;\n",
              "      padding: 0 0 0 0;\n",
              "      width: 32px;\n",
              "    }\n",
              "\n",
              "    .colab-df-convert:hover {\n",
              "      background-color: #E2EBFA;\n",
              "      box-shadow: 0px 1px 2px rgba(60, 64, 67, 0.3), 0px 1px 3px 1px rgba(60, 64, 67, 0.15);\n",
              "      fill: #174EA6;\n",
              "    }\n",
              "\n",
              "    [theme=dark] .colab-df-convert {\n",
              "      background-color: #3B4455;\n",
              "      fill: #D2E3FC;\n",
              "    }\n",
              "\n",
              "    [theme=dark] .colab-df-convert:hover {\n",
              "      background-color: #434B5C;\n",
              "      box-shadow: 0px 1px 3px 1px rgba(0, 0, 0, 0.15);\n",
              "      filter: drop-shadow(0px 1px 2px rgba(0, 0, 0, 0.3));\n",
              "      fill: #FFFFFF;\n",
              "    }\n",
              "  </style>\n",
              "\n",
              "      <script>\n",
              "        const buttonEl =\n",
              "          document.querySelector('#df-c535e21c-8233-4f24-837b-0d842d5b9a02 button.colab-df-convert');\n",
              "        buttonEl.style.display =\n",
              "          google.colab.kernel.accessAllowed ? 'block' : 'none';\n",
              "\n",
              "        async function convertToInteractive(key) {\n",
              "          const element = document.querySelector('#df-c535e21c-8233-4f24-837b-0d842d5b9a02');\n",
              "          const dataTable =\n",
              "            await google.colab.kernel.invokeFunction('convertToInteractive',\n",
              "                                                     [key], {});\n",
              "          if (!dataTable) return;\n",
              "\n",
              "          const docLinkHtml = 'Like what you see? Visit the ' +\n",
              "            '<a target=\"_blank\" href=https://colab.research.google.com/notebooks/data_table.ipynb>data table notebook</a>'\n",
              "            + ' to learn more about interactive tables.';\n",
              "          element.innerHTML = '';\n",
              "          dataTable['output_type'] = 'display_data';\n",
              "          await google.colab.output.renderOutput(dataTable, element);\n",
              "          const docLink = document.createElement('div');\n",
              "          docLink.innerHTML = docLinkHtml;\n",
              "          element.appendChild(docLink);\n",
              "        }\n",
              "      </script>\n",
              "    </div>\n",
              "  </div>\n",
              "  "
            ]
          },
          "metadata": {},
          "execution_count": 7
        }
      ],
      "source": [
        "pandas_df.head()  # Sample of how our data looks"
      ]
    },
    {
      "cell_type": "code",
      "execution_count": 8,
      "metadata": {
        "colab": {
          "base_uri": "https://localhost:8080/"
        },
        "id": "A5Vk73uXAJiu",
        "outputId": "f757158f-db5d-4737-8014-42a6f9219bed"
      },
      "outputs": [
        {
          "output_type": "stream",
          "name": "stdout",
          "text": [
            "['average_flavor_rating', 'brand_name', 'link', 'number_of_flavors', 'number_of_reviews', 'overall_rating', 'price', 'price_per_serving', 'product_category', 'product_description', 'product_name', 'top_flavor_rated', 'verified_buyer_number', 'verified_buyer_rating']\n"
          ]
        }
      ],
      "source": [
        "columns = list(pandas_df.columns)\n",
        "print(columns)  # Name of all predictors and result"
      ]
    },
    {
      "cell_type": "code",
      "execution_count": 9,
      "metadata": {
        "colab": {
          "base_uri": "https://localhost:8080/",
          "height": 300
        },
        "id": "zYrOb42LALbo",
        "outputId": "5cded6e0-c3b2-4efc-dc6d-6bac19dc6d90"
      },
      "outputs": [
        {
          "output_type": "execute_result",
          "data": {
            "text/plain": [
              "       average_flavor_rating  number_of_flavors  number_of_reviews  \\\n",
              "count             387.000000         381.000000         821.000000   \n",
              "mean                8.666150           6.288714         483.512789   \n",
              "std                 0.944176           7.094891        1124.738416   \n",
              "min                 1.000000           1.000000           1.000000   \n",
              "25%                 8.300000           2.000000          24.000000   \n",
              "50%                 8.800000           4.000000          95.000000   \n",
              "75%                 9.200000           8.000000         403.000000   \n",
              "max                10.000000          43.000000        9926.000000   \n",
              "\n",
              "       overall_rating       price  price_per_serving  verified_buyer_number  \\\n",
              "count      821.000000  840.000000         840.000000             509.000000   \n",
              "mean         8.950914   30.292274           1.033310             214.300589   \n",
              "std          0.732080   17.358937           0.862362             550.441103   \n",
              "min          1.000000    2.490000           0.020000               1.000000   \n",
              "25%          8.600000   17.985000           0.430000               9.000000   \n",
              "50%          9.100000   27.990000           0.830000              34.000000   \n",
              "75%          9.400000   37.990000           1.330000             135.000000   \n",
              "max         10.000000  119.530000           7.990000            3932.000000   \n",
              "\n",
              "       verified_buyer_rating  \n",
              "count             509.000000  \n",
              "mean                7.854617  \n",
              "std                 2.057845  \n",
              "min                 1.000000  \n",
              "25%                 8.000000  \n",
              "50%                 8.000000  \n",
              "75%                 9.000000  \n",
              "max                 9.000000  "
            ],
            "text/html": [
              "\n",
              "  <div id=\"df-70188a77-c1d7-4d56-818a-f37f55b5402d\">\n",
              "    <div class=\"colab-df-container\">\n",
              "      <div>\n",
              "<style scoped>\n",
              "    .dataframe tbody tr th:only-of-type {\n",
              "        vertical-align: middle;\n",
              "    }\n",
              "\n",
              "    .dataframe tbody tr th {\n",
              "        vertical-align: top;\n",
              "    }\n",
              "\n",
              "    .dataframe thead th {\n",
              "        text-align: right;\n",
              "    }\n",
              "</style>\n",
              "<table border=\"1\" class=\"dataframe\">\n",
              "  <thead>\n",
              "    <tr style=\"text-align: right;\">\n",
              "      <th></th>\n",
              "      <th>average_flavor_rating</th>\n",
              "      <th>number_of_flavors</th>\n",
              "      <th>number_of_reviews</th>\n",
              "      <th>overall_rating</th>\n",
              "      <th>price</th>\n",
              "      <th>price_per_serving</th>\n",
              "      <th>verified_buyer_number</th>\n",
              "      <th>verified_buyer_rating</th>\n",
              "    </tr>\n",
              "  </thead>\n",
              "  <tbody>\n",
              "    <tr>\n",
              "      <th>count</th>\n",
              "      <td>387.000000</td>\n",
              "      <td>381.000000</td>\n",
              "      <td>821.000000</td>\n",
              "      <td>821.000000</td>\n",
              "      <td>840.000000</td>\n",
              "      <td>840.000000</td>\n",
              "      <td>509.000000</td>\n",
              "      <td>509.000000</td>\n",
              "    </tr>\n",
              "    <tr>\n",
              "      <th>mean</th>\n",
              "      <td>8.666150</td>\n",
              "      <td>6.288714</td>\n",
              "      <td>483.512789</td>\n",
              "      <td>8.950914</td>\n",
              "      <td>30.292274</td>\n",
              "      <td>1.033310</td>\n",
              "      <td>214.300589</td>\n",
              "      <td>7.854617</td>\n",
              "    </tr>\n",
              "    <tr>\n",
              "      <th>std</th>\n",
              "      <td>0.944176</td>\n",
              "      <td>7.094891</td>\n",
              "      <td>1124.738416</td>\n",
              "      <td>0.732080</td>\n",
              "      <td>17.358937</td>\n",
              "      <td>0.862362</td>\n",
              "      <td>550.441103</td>\n",
              "      <td>2.057845</td>\n",
              "    </tr>\n",
              "    <tr>\n",
              "      <th>min</th>\n",
              "      <td>1.000000</td>\n",
              "      <td>1.000000</td>\n",
              "      <td>1.000000</td>\n",
              "      <td>1.000000</td>\n",
              "      <td>2.490000</td>\n",
              "      <td>0.020000</td>\n",
              "      <td>1.000000</td>\n",
              "      <td>1.000000</td>\n",
              "    </tr>\n",
              "    <tr>\n",
              "      <th>25%</th>\n",
              "      <td>8.300000</td>\n",
              "      <td>2.000000</td>\n",
              "      <td>24.000000</td>\n",
              "      <td>8.600000</td>\n",
              "      <td>17.985000</td>\n",
              "      <td>0.430000</td>\n",
              "      <td>9.000000</td>\n",
              "      <td>8.000000</td>\n",
              "    </tr>\n",
              "    <tr>\n",
              "      <th>50%</th>\n",
              "      <td>8.800000</td>\n",
              "      <td>4.000000</td>\n",
              "      <td>95.000000</td>\n",
              "      <td>9.100000</td>\n",
              "      <td>27.990000</td>\n",
              "      <td>0.830000</td>\n",
              "      <td>34.000000</td>\n",
              "      <td>8.000000</td>\n",
              "    </tr>\n",
              "    <tr>\n",
              "      <th>75%</th>\n",
              "      <td>9.200000</td>\n",
              "      <td>8.000000</td>\n",
              "      <td>403.000000</td>\n",
              "      <td>9.400000</td>\n",
              "      <td>37.990000</td>\n",
              "      <td>1.330000</td>\n",
              "      <td>135.000000</td>\n",
              "      <td>9.000000</td>\n",
              "    </tr>\n",
              "    <tr>\n",
              "      <th>max</th>\n",
              "      <td>10.000000</td>\n",
              "      <td>43.000000</td>\n",
              "      <td>9926.000000</td>\n",
              "      <td>10.000000</td>\n",
              "      <td>119.530000</td>\n",
              "      <td>7.990000</td>\n",
              "      <td>3932.000000</td>\n",
              "      <td>9.000000</td>\n",
              "    </tr>\n",
              "  </tbody>\n",
              "</table>\n",
              "</div>\n",
              "      <button class=\"colab-df-convert\" onclick=\"convertToInteractive('df-70188a77-c1d7-4d56-818a-f37f55b5402d')\"\n",
              "              title=\"Convert this dataframe to an interactive table.\"\n",
              "              style=\"display:none;\">\n",
              "        \n",
              "  <svg xmlns=\"http://www.w3.org/2000/svg\" height=\"24px\"viewBox=\"0 0 24 24\"\n",
              "       width=\"24px\">\n",
              "    <path d=\"M0 0h24v24H0V0z\" fill=\"none\"/>\n",
              "    <path d=\"M18.56 5.44l.94 2.06.94-2.06 2.06-.94-2.06-.94-.94-2.06-.94 2.06-2.06.94zm-11 1L8.5 8.5l.94-2.06 2.06-.94-2.06-.94L8.5 2.5l-.94 2.06-2.06.94zm10 10l.94 2.06.94-2.06 2.06-.94-2.06-.94-.94-2.06-.94 2.06-2.06.94z\"/><path d=\"M17.41 7.96l-1.37-1.37c-.4-.4-.92-.59-1.43-.59-.52 0-1.04.2-1.43.59L10.3 9.45l-7.72 7.72c-.78.78-.78 2.05 0 2.83L4 21.41c.39.39.9.59 1.41.59.51 0 1.02-.2 1.41-.59l7.78-7.78 2.81-2.81c.8-.78.8-2.07 0-2.86zM5.41 20L4 18.59l7.72-7.72 1.47 1.35L5.41 20z\"/>\n",
              "  </svg>\n",
              "      </button>\n",
              "      \n",
              "  <style>\n",
              "    .colab-df-container {\n",
              "      display:flex;\n",
              "      flex-wrap:wrap;\n",
              "      gap: 12px;\n",
              "    }\n",
              "\n",
              "    .colab-df-convert {\n",
              "      background-color: #E8F0FE;\n",
              "      border: none;\n",
              "      border-radius: 50%;\n",
              "      cursor: pointer;\n",
              "      display: none;\n",
              "      fill: #1967D2;\n",
              "      height: 32px;\n",
              "      padding: 0 0 0 0;\n",
              "      width: 32px;\n",
              "    }\n",
              "\n",
              "    .colab-df-convert:hover {\n",
              "      background-color: #E2EBFA;\n",
              "      box-shadow: 0px 1px 2px rgba(60, 64, 67, 0.3), 0px 1px 3px 1px rgba(60, 64, 67, 0.15);\n",
              "      fill: #174EA6;\n",
              "    }\n",
              "\n",
              "    [theme=dark] .colab-df-convert {\n",
              "      background-color: #3B4455;\n",
              "      fill: #D2E3FC;\n",
              "    }\n",
              "\n",
              "    [theme=dark] .colab-df-convert:hover {\n",
              "      background-color: #434B5C;\n",
              "      box-shadow: 0px 1px 3px 1px rgba(0, 0, 0, 0.15);\n",
              "      filter: drop-shadow(0px 1px 2px rgba(0, 0, 0, 0.3));\n",
              "      fill: #FFFFFF;\n",
              "    }\n",
              "  </style>\n",
              "\n",
              "      <script>\n",
              "        const buttonEl =\n",
              "          document.querySelector('#df-70188a77-c1d7-4d56-818a-f37f55b5402d button.colab-df-convert');\n",
              "        buttonEl.style.display =\n",
              "          google.colab.kernel.accessAllowed ? 'block' : 'none';\n",
              "\n",
              "        async function convertToInteractive(key) {\n",
              "          const element = document.querySelector('#df-70188a77-c1d7-4d56-818a-f37f55b5402d');\n",
              "          const dataTable =\n",
              "            await google.colab.kernel.invokeFunction('convertToInteractive',\n",
              "                                                     [key], {});\n",
              "          if (!dataTable) return;\n",
              "\n",
              "          const docLinkHtml = 'Like what you see? Visit the ' +\n",
              "            '<a target=\"_blank\" href=https://colab.research.google.com/notebooks/data_table.ipynb>data table notebook</a>'\n",
              "            + ' to learn more about interactive tables.';\n",
              "          element.innerHTML = '';\n",
              "          dataTable['output_type'] = 'display_data';\n",
              "          await google.colab.output.renderOutput(dataTable, element);\n",
              "          const docLink = document.createElement('div');\n",
              "          docLink.innerHTML = docLinkHtml;\n",
              "          element.appendChild(docLink);\n",
              "        }\n",
              "      </script>\n",
              "    </div>\n",
              "  </div>\n",
              "  "
            ]
          },
          "metadata": {},
          "execution_count": 9
        }
      ],
      "source": [
        "pandas_df.describe()  # Statistical description of our dataset"
      ]
    },
    {
      "cell_type": "markdown",
      "metadata": {
        "id": "TWB1lLBR-cY3"
      },
      "source": [
        "This table shows summary statistics for a dataset with 840 observations and 14 variables.\n",
        "\n",
        "The variables are: average flavor rating, brand name, link, number of flavors, number of reviews, overall rating, price, product category, product_description, product name top flavor rated, verified buyer number, verified buyer rating, price per serving\n",
        "\n",
        "The \"count\" row shows the number of observations for each variable, while the \"mean\" row shows the average value of each variable.\n",
        "\n",
        "The \"std\" row shows the standard deviation of each variable, which is a measure of how much the values vary from the mean.\n",
        "\n",
        "The \"min\" and \"max\" rows show the smallest and largest values observed for each variable.\n",
        "\n",
        "The \"25%\", \"50%\", and \"75%\" rows show the values at the 25th, 50th, and 75th percentiles of the distribution, respectively.\n",
        "\n",
        "These percentiles divide the observations into quarters, with the 25th percentile being the value below which 25% of the observations fall, and so on."
      ]
    },
    {
      "cell_type": "code",
      "execution_count": 10,
      "metadata": {
        "colab": {
          "base_uri": "https://localhost:8080/",
          "height": 1000
        },
        "id": "1r8Qr0KHA5NP",
        "outputId": "38a55976-de44-45e2-a9e2-68eadcfb1d96"
      },
      "outputs": [
        {
          "output_type": "display_data",
          "data": {
            "text/plain": [
              "<Figure size 1200x800 with 1 Axes>"
            ],
            "image/png": "[encoded data removed]"
          },
          "metadata": {}
        },
        {
          "output_type": "stream",
          "name": "stdout",
          "text": [
            "Features with Missing Data:\n",
            "Index(['average_flavor_rating', 'number_of_flavors', 'number_of_reviews',\n",
            "       'overall_rating', 'product_category', 'top_flavor_rated',\n",
            "       'verified_buyer_number', 'verified_buyer_rating'],\n",
            "      dtype='object')\n",
            "Percentage of Missing Data:\n",
            "average_flavor_rating    0.539286\n",
            "number_of_flavors        0.546429\n",
            "number_of_reviews        0.022619\n",
            "overall_rating           0.022619\n",
            "product_category         0.203571\n",
            "top_flavor_rated         0.546429\n",
            "verified_buyer_number    0.394048\n",
            "verified_buyer_rating    0.394048\n",
            "dtype: float64\n"
          ]
        }
      ],
      "source": [
        "# Find the percentage of missing data for each column\n",
        "missing_data = pandas_df.isnull().mean()\n",
        "\n",
        "# Plot the percentage of missing data\n",
        "missing_data.plot(kind='bar')\n",
        "plt.show()\n",
        "\n",
        "# Select the columns with missing data\n",
        "selected_features = missing_data[missing_data > 0].index\n",
        "\n",
        "print(\"Features with Missing Data:\")\n",
        "print(selected_features)\n",
        "\n",
        "print(\"Percentage of Missing Data:\")\n",
        "print(missing_data[selected_features])"
      ]
    },
    {
      "cell_type": "markdown",
      "metadata": {
        "id": "AXZGvmO__MiF"
      },
      "source": [
        "## Null values Imputation"
      ]
    },
    {
      "cell_type": "markdown",
      "source": [
        "This code performs data preprocessing on a pandas dataframe. It fills missing values in the 'average_flavor_rating' and 'number_of_flavors' columns with their respective means, and fills missing values in the 'verified_buyer_rating' column using padding. It also imputes missing values in the 'number_of_reviews' and 'overall_rating' columns using KNN imputation. Finally, it encodes the 'brand_name' column using label encoding."
      ],
      "metadata": {
        "id": "EE8IK51dz86Q"
      }
    },
    {
      "cell_type": "code",
      "execution_count": 11,
      "metadata": {
        "id": "amfleknPA5VC"
      },
      "outputs": [],
      "source": [
        "#Imputing using the Mode function for categorical data\n",
        "\n",
        "pandas_df['product_category'] = pandas_df['product_category'].fillna(pandas_df['product_category'].mode()[0])\n",
        "pandas_df['top_flavor_rated'] = pandas_df['top_flavor_rated'].fillna(pandas_df['top_flavor_rated'].mode()[0])\n",
        "pandas_df['verified_buyer_number'] = pandas_df['verified_buyer_number'].fillna(pandas_df['verified_buyer_number'].mode()[0])\n",
        "\n",
        "\n",
        "# Imputing the NULL Values in a column for using the Mean function\n",
        "pandas_df['average_flavor_rating'] = pandas_df['average_flavor_rating'].fillna((pandas_df['average_flavor_rating'].mean()))\n",
        "pandas_df['number_of_flavors'] = pandas_df['number_of_flavors'].fillna((pandas_df['number_of_flavors'].mean()))\n",
        "\n",
        "#Imputing using padding\n",
        "\n",
        "pandas_df['verified_buyer_rating'].fillna(method='pad', inplace=True)\n",
        "\n",
        "from sklearn.impute import KNNImputer\n",
        "\n",
        "imputer = KNNImputer(n_neighbors=3)\n",
        "\n",
        "# Fit and transform the data using the imputer\n",
        "\n",
        "pandas_df['number_of_reviews'] = imputer.fit_transform(pandas_df['number_of_reviews'].values.reshape(-1, 1))\n",
        "pandas_df['overall_rating'] = imputer.fit_transform(pandas_df['overall_rating'].values.reshape(-1, 1))"
      ]
    },
    {
      "cell_type": "code",
      "execution_count": 12,
      "metadata": {
        "colab": {
          "base_uri": "https://localhost:8080/",
          "height": 461
        },
        "id": "d8V0sQzRA5gc",
        "outputId": "40bdd5a6-fe3d-407d-980b-bae37ba9340e"
      },
      "outputs": [
        {
          "output_type": "stream",
          "name": "stdout",
          "text": [
            "LabelEncoder()\n"
          ]
        },
        {
          "output_type": "execute_result",
          "data": {
            "text/plain": [
              "   average_flavor_rating  brand_name  \\\n",
              "0                9.10000          26   \n",
              "1                8.40000          62   \n",
              "2                8.30000          36   \n",
              "3                8.66615          62   \n",
              "4                8.70000          36   \n",
              "\n",
              "                                                link  number_of_flavors  \\\n",
              "0  https://sa.bodybuilding.com/store/evlution-nut...          29.000000   \n",
              "1  https://sa.bodybuilding.com/store/opt/whey.htm...          43.000000   \n",
              "2  https://sa.bodybuilding.com/store/jym/pre-jym....           9.000000   \n",
              "3  https://sa.bodybuilding.com/store/opt/essentia...           6.288714   \n",
              "4  https://sa.bodybuilding.com/store/jym/pro-jym....          14.000000   \n",
              "\n",
              "   number_of_reviews  overall_rating  price  price_per_serving  \\\n",
              "0             2575.0             9.4  19.99               0.67   \n",
              "1             9926.0             9.3  57.99               0.79   \n",
              "2             3947.0             9.1  48.99               1.63   \n",
              "3             2466.0             9.1  18.99               0.63   \n",
              "4             2506.0             9.2  56.98               1.10   \n",
              "\n",
              "           product_category  \\\n",
              "0                     BCAAs   \n",
              "1     Build Muscle Products   \n",
              "2  Improve Workout Products   \n",
              "3               Amino Acids   \n",
              "4      Whey Protein Isolate   \n",
              "\n",
              "                                 product_description  \\\n",
              "0  BCAA Powder with Natural Energizers Sourced fr...   \n",
              "1  24g of Whey Protein with Amino Acids for Muscl...   \n",
              "2  Pre-Workout Powder Powerhouse Packed with 13-H...   \n",
              "3  Amino Acid Powder with Caffeine from Natural S...   \n",
              "4  24g of Pure, Quality Protein in Every Scoop wi...   \n",
              "\n",
              "               product_name    top_flavor_rated  verified_buyer_number  \\\n",
              "0               BCAA Energy      Pink Starblast                 1594.0   \n",
              "1   Gold Standard 100% Whey          Unflavored                 3932.0   \n",
              "2                   Pre JYM  Raspberry Lemonade                 3471.0   \n",
              "3  Essential AmiN.O. Energy          Unflavored                    1.0   \n",
              "4                   Pro JYM             S'mores                 2275.0   \n",
              "\n",
              "   verified_buyer_rating  \n",
              "0                    9.0  \n",
              "1                    9.0  \n",
              "2                    9.0  \n",
              "3                    9.0  \n",
              "4                    9.0  "
            ],
            "text/html": [
              "\n",
              "  <div id=\"df-9c56463b-9d96-4980-a5aa-8ce6dcbf83cb\">\n",
              "    <div class=\"colab-df-container\">\n",
              "      <div>\n",
              "<style scoped>\n",
              "    .dataframe tbody tr th:only-of-type {\n",
              "        vertical-align: middle;\n",
              "    }\n",
              "\n",
              "    .dataframe tbody tr th {\n",
              "        vertical-align: top;\n",
              "    }\n",
              "\n",
              "    .dataframe thead th {\n",
              "        text-align: right;\n",
              "    }\n",
              "</style>\n",
              "<table border=\"1\" class=\"dataframe\">\n",
              "  <thead>\n",
              "    <tr style=\"text-align: right;\">\n",
              "      <th></th>\n",
              "      <th>average_flavor_rating</th>\n",
              "      <th>brand_name</th>\n",
              "      <th>link</th>\n",
              "      <th>number_of_flavors</th>\n",
              "      <th>number_of_reviews</th>\n",
              "      <th>overall_rating</th>\n",
              "      <th>price</th>\n",
              "      <th>price_per_serving</th>\n",
              "      <th>product_category</th>\n",
              "      <th>product_description</th>\n",
              "      <th>product_name</th>\n",
              "      <th>top_flavor_rated</th>\n",
              "      <th>verified_buyer_number</th>\n",
              "      <th>verified_buyer_rating</th>\n",
              "    </tr>\n",
              "  </thead>\n",
              "  <tbody>\n",
              "    <tr>\n",
              "      <th>0</th>\n",
              "      <td>9.10000</td>\n",
              "      <td>26</td>\n",
              "      <td>https://sa.bodybuilding.com/store/evlution-nut...</td>\n",
              "      <td>29.000000</td>\n",
              "      <td>2575.0</td>\n",
              "      <td>9.4</td>\n",
              "      <td>19.99</td>\n",
              "      <td>0.67</td>\n",
              "      <td>BCAAs</td>\n",
              "      <td>BCAA Powder with Natural Energizers Sourced fr...</td>\n",
              "      <td>BCAA Energy</td>\n",
              "      <td>Pink Starblast</td>\n",
              "      <td>1594.0</td>\n",
              "      <td>9.0</td>\n",
              "    </tr>\n",
              "    <tr>\n",
              "      <th>1</th>\n",
              "      <td>8.40000</td>\n",
              "      <td>62</td>\n",
              "      <td>https://sa.bodybuilding.com/store/opt/whey.htm...</td>\n",
              "      <td>43.000000</td>\n",
              "      <td>9926.0</td>\n",
              "      <td>9.3</td>\n",
              "      <td>57.99</td>\n",
              "      <td>0.79</td>\n",
              "      <td>Build Muscle Products</td>\n",
              "      <td>24g of Whey Protein with Amino Acids for Muscl...</td>\n",
              "      <td>Gold Standard 100% Whey</td>\n",
              "      <td>Unflavored</td>\n",
              "      <td>3932.0</td>\n",
              "      <td>9.0</td>\n",
              "    </tr>\n",
              "    <tr>\n",
              "      <th>2</th>\n",
              "      <td>8.30000</td>\n",
              "      <td>36</td>\n",
              "      <td>https://sa.bodybuilding.com/store/jym/pre-jym....</td>\n",
              "      <td>9.000000</td>\n",
              "      <td>3947.0</td>\n",
              "      <td>9.1</td>\n",
              "      <td>48.99</td>\n",
              "      <td>1.63</td>\n",
              "      <td>Improve Workout Products</td>\n",
              "      <td>Pre-Workout Powder Powerhouse Packed with 13-H...</td>\n",
              "      <td>Pre JYM</td>\n",
              "      <td>Raspberry Lemonade</td>\n",
              "      <td>3471.0</td>\n",
              "      <td>9.0</td>\n",
              "    </tr>\n",
              "    <tr>\n",
              "      <th>3</th>\n",
              "      <td>8.66615</td>\n",
              "      <td>62</td>\n",
              "      <td>https://sa.bodybuilding.com/store/opt/essentia...</td>\n",
              "      <td>6.288714</td>\n",
              "      <td>2466.0</td>\n",
              "      <td>9.1</td>\n",
              "      <td>18.99</td>\n",
              "      <td>0.63</td>\n",
              "      <td>Amino Acids</td>\n",
              "      <td>Amino Acid Powder with Caffeine from Natural S...</td>\n",
              "      <td>Essential AmiN.O. Energy</td>\n",
              "      <td>Unflavored</td>\n",
              "      <td>1.0</td>\n",
              "      <td>9.0</td>\n",
              "    </tr>\n",
              "    <tr>\n",
              "      <th>4</th>\n",
              "      <td>8.70000</td>\n",
              "      <td>36</td>\n",
              "      <td>https://sa.bodybuilding.com/store/jym/pro-jym....</td>\n",
              "      <td>14.000000</td>\n",
              "      <td>2506.0</td>\n",
              "      <td>9.2</td>\n",
              "      <td>56.98</td>\n",
              "      <td>1.10</td>\n",
              "      <td>Whey Protein Isolate</td>\n",
              "      <td>24g of Pure, Quality Protein in Every Scoop wi...</td>\n",
              "      <td>Pro JYM</td>\n",
              "      <td>S'mores</td>\n",
              "      <td>2275.0</td>\n",
              "      <td>9.0</td>\n",
              "    </tr>\n",
              "  </tbody>\n",
              "</table>\n",
              "</div>\n",
              "      <button class=\"colab-df-convert\" onclick=\"convertToInteractive('df-9c56463b-9d96-4980-a5aa-8ce6dcbf83cb')\"\n",
              "              title=\"Convert this dataframe to an interactive table.\"\n",
              "              style=\"display:none;\">\n",
              "        \n",
              "  <svg xmlns=\"http://www.w3.org/2000/svg\" height=\"24px\"viewBox=\"0 0 24 24\"\n",
              "       width=\"24px\">\n",
              "    <path d=\"M0 0h24v24H0V0z\" fill=\"none\"/>\n",
              "    <path d=\"M18.56 5.44l.94 2.06.94-2.06 2.06-.94-2.06-.94-.94-2.06-.94 2.06-2.06.94zm-11 1L8.5 8.5l.94-2.06 2.06-.94-2.06-.94L8.5 2.5l-.94 2.06-2.06.94zm10 10l.94 2.06.94-2.06 2.06-.94-2.06-.94-.94-2.06-.94 2.06-2.06.94z\"/><path d=\"M17.41 7.96l-1.37-1.37c-.4-.4-.92-.59-1.43-.59-.52 0-1.04.2-1.43.59L10.3 9.45l-7.72 7.72c-.78.78-.78 2.05 0 2.83L4 21.41c.39.39.9.59 1.41.59.51 0 1.02-.2 1.41-.59l7.78-7.78 2.81-2.81c.8-.78.8-2.07 0-2.86zM5.41 20L4 18.59l7.72-7.72 1.47 1.35L5.41 20z\"/>\n",
              "  </svg>\n",
              "      </button>\n",
              "      \n",
              "  <style>\n",
              "    .colab-df-container {\n",
              "      display:flex;\n",
              "      flex-wrap:wrap;\n",
              "      gap: 12px;\n",
              "    }\n",
              "\n",
              "    .colab-df-convert {\n",
              "      background-color: #E8F0FE;\n",
              "      border: none;\n",
              "      border-radius: 50%;\n",
              "      cursor: pointer;\n",
              "      display: none;\n",
              "      fill: #1967D2;\n",
              "      height: 32px;\n",
              "      padding: 0 0 0 0;\n",
              "      width: 32px;\n",
              "    }\n",
              "\n",
              "    .colab-df-convert:hover {\n",
              "      background-color: #E2EBFA;\n",
              "      box-shadow: 0px 1px 2px rgba(60, 64, 67, 0.3), 0px 1px 3px 1px rgba(60, 64, 67, 0.15);\n",
              "      fill: #174EA6;\n",
              "    }\n",
              "\n",
              "    [theme=dark] .colab-df-convert {\n",
              "      background-color: #3B4455;\n",
              "      fill: #D2E3FC;\n",
              "    }\n",
              "\n",
              "    [theme=dark] .colab-df-convert:hover {\n",
              "      background-color: #434B5C;\n",
              "      box-shadow: 0px 1px 3px 1px rgba(0, 0, 0, 0.15);\n",
              "      filter: drop-shadow(0px 1px 2px rgba(0, 0, 0, 0.3));\n",
              "      fill: #FFFFFF;\n",
              "    }\n",
              "  </style>\n",
              "\n",
              "      <script>\n",
              "        const buttonEl =\n",
              "          document.querySelector('#df-9c56463b-9d96-4980-a5aa-8ce6dcbf83cb button.colab-df-convert');\n",
              "        buttonEl.style.display =\n",
              "          google.colab.kernel.accessAllowed ? 'block' : 'none';\n",
              "\n",
              "        async function convertToInteractive(key) {\n",
              "          const element = document.querySelector('#df-9c56463b-9d96-4980-a5aa-8ce6dcbf83cb');\n",
              "          const dataTable =\n",
              "            await google.colab.kernel.invokeFunction('convertToInteractive',\n",
              "                                                     [key], {});\n",
              "          if (!dataTable) return;\n",
              "\n",
              "          const docLinkHtml = 'Like what you see? Visit the ' +\n",
              "            '<a target=\"_blank\" href=https://colab.research.google.com/notebooks/data_table.ipynb>data table notebook</a>'\n",
              "            + ' to learn more about interactive tables.';\n",
              "          element.innerHTML = '';\n",
              "          dataTable['output_type'] = 'display_data';\n",
              "          await google.colab.output.renderOutput(dataTable, element);\n",
              "          const docLink = document.createElement('div');\n",
              "          docLink.innerHTML = docLinkHtml;\n",
              "          element.appendChild(docLink);\n",
              "        }\n",
              "      </script>\n",
              "    </div>\n",
              "  </div>\n",
              "  "
            ]
          },
          "metadata": {},
          "execution_count": 12
        }
      ],
      "source": [
        "from sklearn.preprocessing import LabelEncoder\n",
        "\n",
        "label_encoder = LabelEncoder()\n",
        "\n",
        "print (label_encoder)\n",
        "\n",
        "pandas_df[\"brand_name\"] = label_encoder.fit_transform(pandas_df[\"brand_name\"])\n",
        "\n",
        "pandas_df.head()"
      ]
    },
    {
      "cell_type": "code",
      "execution_count": 13,
      "metadata": {
        "colab": {
          "base_uri": "https://localhost:8080/"
        },
        "id": "yAXWwfEiBKUu",
        "outputId": "62fe28ef-6572-479c-b1c4-186a5e3cf302"
      },
      "outputs": [
        {
          "output_type": "execute_result",
          "data": {
            "text/plain": [
              "0"
            ]
          },
          "metadata": {},
          "execution_count": 13
        }
      ],
      "source": [
        "#Checking for null values\n",
        "pandas_df.isnull().sum().sum()"
      ]
    },
    {
      "cell_type": "code",
      "execution_count": 14,
      "metadata": {
        "colab": {
          "base_uri": "https://localhost:8080/"
        },
        "id": "jolI2TnURWoX",
        "outputId": "9e5cbf4d-c75d-4f3b-e599-bcadffa0b413"
      },
      "outputs": [
        {
          "output_type": "stream",
          "name": "stdout",
          "text": [
            "<class 'pandas.core.frame.DataFrame'>\n",
            "RangeIndex: 840 entries, 0 to 839\n",
            "Data columns (total 14 columns):\n",
            " #   Column                 Non-Null Count  Dtype  \n",
            "---  ------                 --------------  -----  \n",
            " 0   average_flavor_rating  840 non-null    float64\n",
            " 1   brand_name             840 non-null    int64  \n",
            " 2   link                   840 non-null    object \n",
            " 3   number_of_flavors      840 non-null    float64\n",
            " 4   number_of_reviews      840 non-null    float64\n",
            " 5   overall_rating         840 non-null    float64\n",
            " 6   price                  840 non-null    float64\n",
            " 7   price_per_serving      840 non-null    float64\n",
            " 8   product_category       840 non-null    object \n",
            " 9   product_description    840 non-null    object \n",
            " 10  product_name           840 non-null    object \n",
            " 11  top_flavor_rated       840 non-null    object \n",
            " 12  verified_buyer_number  840 non-null    float64\n",
            " 13  verified_buyer_rating  840 non-null    float64\n",
            "dtypes: float64(8), int64(1), object(5)\n",
            "memory usage: 92.0+ KB\n"
          ]
        }
      ],
      "source": [
        "pandas_df.info()"
      ]
    },
    {
      "cell_type": "markdown",
      "source": [
        "This code is performing one-hot encoding on three columns of a pandas DataFrame named pandas_df. Specifically, it is encoding the columns product_category, product_name, and top_flavor_rated using the OneHotEncoder class from the sklearn.preprocessing module. The resulting encoded data is then saved as an array in the variable encoded_data.\n",
        "\n",
        "Next, the encoded data is transformed into a pandas DataFrame named encoded_df using the toarray() method and the get_feature_names_out() method of the OneHotEncoder object. Finally, the encoded_df DataFrame is printed to the console.\n",
        "\n",
        "Overall, this code is transforming categorical data into numerical data that can be used in machine learning algorithms."
      ],
      "metadata": {
        "id": "ofbuklga0uex"
      }
    },
    {
      "cell_type": "code",
      "execution_count": 15,
      "metadata": {
        "colab": {
          "base_uri": "https://localhost:8080/"
        },
        "id": "ckm0uJvdv6Qs",
        "outputId": "356dec6e-c1fc-4d7c-c258-9665fbc6067a"
      },
      "outputs": [
        {
          "output_type": "stream",
          "name": "stdout",
          "text": [
            "     product_category_Acetyl L-Carnitine  product_category_Agmatine  \\\n",
            "0                                    0.0                        0.0   \n",
            "1                                    0.0                        0.0   \n",
            "2                                    0.0                        0.0   \n",
            "3                                    0.0                        0.0   \n",
            "4                                    0.0                        0.0   \n",
            "..                                   ...                        ...   \n",
            "835                                  0.0                        0.0   \n",
            "836                                  0.0                        0.0   \n",
            "837                                  0.0                        0.0   \n",
            "838                                  0.0                        0.0   \n",
            "839                                  0.0                        0.0   \n",
            "\n",
            "     product_category_Amino Acids  product_category_Arachidonic Acid  \\\n",
            "0                             0.0                                0.0   \n",
            "1                             0.0                                0.0   \n",
            "2                             0.0                                0.0   \n",
            "3                             1.0                                0.0   \n",
            "4                             0.0                                0.0   \n",
            "..                            ...                                ...   \n",
            "835                           0.0                                0.0   \n",
            "836                           0.0                                0.0   \n",
            "837                           0.0                                0.0   \n",
            "838                           0.0                                0.0   \n",
            "839                           1.0                                0.0   \n",
            "\n",
            "     product_category_Ashwagandha  product_category_BCAAs  \\\n",
            "0                             0.0                     1.0   \n",
            "1                             0.0                     0.0   \n",
            "2                             0.0                     0.0   \n",
            "3                             0.0                     0.0   \n",
            "4                             0.0                     0.0   \n",
            "..                            ...                     ...   \n",
            "835                           0.0                     0.0   \n",
            "836                           0.0                     0.0   \n",
            "837                           0.0                     0.0   \n",
            "838                           0.0                     0.0   \n",
            "839                           0.0                     0.0   \n",
            "\n",
            "     product_category_Beef Protein  product_category_Beta-Alanine  \\\n",
            "0                              0.0                            0.0   \n",
            "1                              0.0                            0.0   \n",
            "2                              0.0                            0.0   \n",
            "3                              0.0                            0.0   \n",
            "4                              0.0                            0.0   \n",
            "..                             ...                            ...   \n",
            "835                            0.0                            0.0   \n",
            "836                            0.0                            0.0   \n",
            "837                            0.0                            0.0   \n",
            "838                            0.0                            0.0   \n",
            "839                            0.0                            0.0   \n",
            "\n",
            "     product_category_Betaine Anhydrous  product_category_Bio-Active Peptides  \\\n",
            "0                                   0.0                                   0.0   \n",
            "1                                   0.0                                   0.0   \n",
            "2                                   0.0                                   0.0   \n",
            "3                                   0.0                                   0.0   \n",
            "4                                   0.0                                   0.0   \n",
            "..                                  ...                                   ...   \n",
            "835                                 0.0                                   0.0   \n",
            "836                                 0.0                                   0.0   \n",
            "837                                 0.0                                   0.0   \n",
            "838                                 0.0                                   0.0   \n",
            "839                                 0.0                                   0.0   \n",
            "\n",
            "     ...  top_flavor_rated_Unflavored  top_flavor_rated_Unflavoured  \\\n",
            "0    ...                          0.0                           0.0   \n",
            "1    ...                          1.0                           0.0   \n",
            "2    ...                          0.0                           0.0   \n",
            "3    ...                          1.0                           0.0   \n",
            "4    ...                          0.0                           0.0   \n",
            "..   ...                          ...                           ...   \n",
            "835  ...                          1.0                           0.0   \n",
            "836  ...                          1.0                           0.0   \n",
            "837  ...                          1.0                           0.0   \n",
            "838  ...                          1.0                           0.0   \n",
            "839  ...                          1.0                           0.0   \n",
            "\n",
            "     top_flavor_rated_Uva  top_flavor_rated_Vanilla  \\\n",
            "0                     0.0                       0.0   \n",
            "1                     0.0                       0.0   \n",
            "2                     0.0                       0.0   \n",
            "3                     0.0                       0.0   \n",
            "4                     0.0                       0.0   \n",
            "..                    ...                       ...   \n",
            "835                   0.0                       0.0   \n",
            "836                   0.0                       0.0   \n",
            "837                   0.0                       0.0   \n",
            "838                   0.0                       0.0   \n",
            "839                   0.0                       0.0   \n",
            "\n",
            "     top_flavor_rated_Vanilla Bean  top_flavor_rated_Vanilla Caramel  \\\n",
            "0                              0.0                               0.0   \n",
            "1                              0.0                               0.0   \n",
            "2                              0.0                               0.0   \n",
            "3                              0.0                               0.0   \n",
            "4                              0.0                               0.0   \n",
            "..                             ...                               ...   \n",
            "835                            0.0                               0.0   \n",
            "836                            0.0                               0.0   \n",
            "837                            0.0                               0.0   \n",
            "838                            0.0                               0.0   \n",
            "839                            0.0                               0.0   \n",
            "\n",
            "     top_flavor_rated_Vanilla Ice Cream  top_flavor_rated_Variety Pack  \\\n",
            "0                                   0.0                            0.0   \n",
            "1                                   0.0                            0.0   \n",
            "2                                   0.0                            0.0   \n",
            "3                                   0.0                            0.0   \n",
            "4                                   0.0                            0.0   \n",
            "..                                  ...                            ...   \n",
            "835                                 0.0                            0.0   \n",
            "836                                 0.0                            0.0   \n",
            "837                                 0.0                            0.0   \n",
            "838                                 0.0                            0.0   \n",
            "839                                 0.0                            0.0   \n",
            "\n",
            "     top_flavor_rated_Watermelon  top_flavor_rated_White Grape  \n",
            "0                            0.0                           0.0  \n",
            "1                            0.0                           0.0  \n",
            "2                            0.0                           0.0  \n",
            "3                            0.0                           0.0  \n",
            "4                            0.0                           0.0  \n",
            "..                           ...                           ...  \n",
            "835                          0.0                           0.0  \n",
            "836                          0.0                           0.0  \n",
            "837                          0.0                           0.0  \n",
            "838                          0.0                           0.0  \n",
            "839                          0.0                           0.0  \n",
            "\n",
            "[840 rows x 837 columns]\n"
          ]
        }
      ],
      "source": [
        "import pandas as pd\n",
        "from sklearn.preprocessing import OneHotEncoder\n",
        "encoder = OneHotEncoder()\n",
        "encoded_data = encoder.fit_transform(pandas_df[['product_category','product_name','top_flavor_rated']])\n",
        "\n",
        "encoded_df = pd.DataFrame(encoded_data.toarray(), \n",
        "columns=encoder.get_feature_names_out(['product_category','product_name','top_flavor_rated']))\n",
        "\n",
        "print(encoded_df)"
      ]
    },
    {
      "cell_type": "code",
      "execution_count": 16,
      "metadata": {
        "colab": {
          "base_uri": "https://localhost:8080/",
          "height": 364
        },
        "id": "z2NuoH5rBNnz",
        "outputId": "df7767e7-3130-48a8-8469-9aa7e37b0bc9"
      },
      "outputs": [
        {
          "output_type": "execute_result",
          "data": {
            "text/plain": [
              "       average_flavor_rating  brand_name  number_of_flavors  \\\n",
              "count             840.000000  840.000000         840.000000   \n",
              "mean                8.666150   42.976190           6.288714   \n",
              "std                 0.640421   24.413832           4.774815   \n",
              "min                 1.000000    0.000000           1.000000   \n",
              "25%                 8.666150   24.000000           5.000000   \n",
              "50%                 8.666150   48.000000           6.288714   \n",
              "75%                 8.700000   62.000000           6.288714   \n",
              "max                10.000000   92.000000          43.000000   \n",
              "\n",
              "       number_of_reviews  overall_rating       price  price_per_serving  \\\n",
              "count         840.000000      840.000000  840.000000         840.000000   \n",
              "mean          483.512789        8.950914   30.292274           1.033310   \n",
              "std          1111.930069        0.723743   17.358937           0.862362   \n",
              "min             1.000000        1.000000    2.490000           0.020000   \n",
              "25%            26.000000        8.600000   17.985000           0.430000   \n",
              "50%            98.000000        9.100000   27.990000           0.830000   \n",
              "75%           453.250000        9.400000   37.990000           1.330000   \n",
              "max          9926.000000       10.000000  119.530000           7.990000   \n",
              "\n",
              "       verified_buyer_number  verified_buyer_rating  \n",
              "count             840.000000             840.000000  \n",
              "mean              130.250000               7.786905  \n",
              "std               440.827534               2.160115  \n",
              "min                 1.000000               1.000000  \n",
              "25%                 1.000000               8.000000  \n",
              "50%                 6.000000               8.000000  \n",
              "75%                61.750000               9.000000  \n",
              "max              3932.000000               9.000000  "
            ],
            "text/html": [
              "\n",
              "  <div id=\"df-c61045e9-4aeb-4497-8800-541ade3fba84\">\n",
              "    <div class=\"colab-df-container\">\n",
              "      <div>\n",
              "<style scoped>\n",
              "    .dataframe tbody tr th:only-of-type {\n",
              "        vertical-align: middle;\n",
              "    }\n",
              "\n",
              "    .dataframe tbody tr th {\n",
              "        vertical-align: top;\n",
              "    }\n",
              "\n",
              "    .dataframe thead th {\n",
              "        text-align: right;\n",
              "    }\n",
              "</style>\n",
              "<table border=\"1\" class=\"dataframe\">\n",
              "  <thead>\n",
              "    <tr style=\"text-align: right;\">\n",
              "      <th></th>\n",
              "      <th>average_flavor_rating</th>\n",
              "      <th>brand_name</th>\n",
              "      <th>number_of_flavors</th>\n",
              "      <th>number_of_reviews</th>\n",
              "      <th>overall_rating</th>\n",
              "      <th>price</th>\n",
              "      <th>price_per_serving</th>\n",
              "      <th>verified_buyer_number</th>\n",
              "      <th>verified_buyer_rating</th>\n",
              "    </tr>\n",
              "  </thead>\n",
              "  <tbody>\n",
              "    <tr>\n",
              "      <th>count</th>\n",
              "      <td>840.000000</td>\n",
              "      <td>840.000000</td>\n",
              "      <td>840.000000</td>\n",
              "      <td>840.000000</td>\n",
              "      <td>840.000000</td>\n",
              "      <td>840.000000</td>\n",
              "      <td>840.000000</td>\n",
              "      <td>840.000000</td>\n",
              "      <td>840.000000</td>\n",
              "    </tr>\n",
              "    <tr>\n",
              "      <th>mean</th>\n",
              "      <td>8.666150</td>\n",
              "      <td>42.976190</td>\n",
              "      <td>6.288714</td>\n",
              "      <td>483.512789</td>\n",
              "      <td>8.950914</td>\n",
              "      <td>30.292274</td>\n",
              "      <td>1.033310</td>\n",
              "      <td>130.250000</td>\n",
              "      <td>7.786905</td>\n",
              "    </tr>\n",
              "    <tr>\n",
              "      <th>std</th>\n",
              "      <td>0.640421</td>\n",
              "      <td>24.413832</td>\n",
              "      <td>4.774815</td>\n",
              "      <td>1111.930069</td>\n",
              "      <td>0.723743</td>\n",
              "      <td>17.358937</td>\n",
              "      <td>0.862362</td>\n",
              "      <td>440.827534</td>\n",
              "      <td>2.160115</td>\n",
              "    </tr>\n",
              "    <tr>\n",
              "      <th>min</th>\n",
              "      <td>1.000000</td>\n",
              "      <td>0.000000</td>\n",
              "      <td>1.000000</td>\n",
              "      <td>1.000000</td>\n",
              "      <td>1.000000</td>\n",
              "      <td>2.490000</td>\n",
              "      <td>0.020000</td>\n",
              "      <td>1.000000</td>\n",
              "      <td>1.000000</td>\n",
              "    </tr>\n",
              "    <tr>\n",
              "      <th>25%</th>\n",
              "      <td>8.666150</td>\n",
              "      <td>24.000000</td>\n",
              "      <td>5.000000</td>\n",
              "      <td>26.000000</td>\n",
              "      <td>8.600000</td>\n",
              "      <td>17.985000</td>\n",
              "      <td>0.430000</td>\n",
              "      <td>1.000000</td>\n",
              "      <td>8.000000</td>\n",
              "    </tr>\n",
              "    <tr>\n",
              "      <th>50%</th>\n",
              "      <td>8.666150</td>\n",
              "      <td>48.000000</td>\n",
              "      <td>6.288714</td>\n",
              "      <td>98.000000</td>\n",
              "      <td>9.100000</td>\n",
              "      <td>27.990000</td>\n",
              "      <td>0.830000</td>\n",
              "      <td>6.000000</td>\n",
              "      <td>8.000000</td>\n",
              "    </tr>\n",
              "    <tr>\n",
              "      <th>75%</th>\n",
              "      <td>8.700000</td>\n",
              "      <td>62.000000</td>\n",
              "      <td>6.288714</td>\n",
              "      <td>453.250000</td>\n",
              "      <td>9.400000</td>\n",
              "      <td>37.990000</td>\n",
              "      <td>1.330000</td>\n",
              "      <td>61.750000</td>\n",
              "      <td>9.000000</td>\n",
              "    </tr>\n",
              "    <tr>\n",
              "      <th>max</th>\n",
              "      <td>10.000000</td>\n",
              "      <td>92.000000</td>\n",
              "      <td>43.000000</td>\n",
              "      <td>9926.000000</td>\n",
              "      <td>10.000000</td>\n",
              "      <td>119.530000</td>\n",
              "      <td>7.990000</td>\n",
              "      <td>3932.000000</td>\n",
              "      <td>9.000000</td>\n",
              "    </tr>\n",
              "  </tbody>\n",
              "</table>\n",
              "</div>\n",
              "      <button class=\"colab-df-convert\" onclick=\"convertToInteractive('df-c61045e9-4aeb-4497-8800-541ade3fba84')\"\n",
              "              title=\"Convert this dataframe to an interactive table.\"\n",
              "              style=\"display:none;\">\n",
              "        \n",
              "  <svg xmlns=\"http://www.w3.org/2000/svg\" height=\"24px\"viewBox=\"0 0 24 24\"\n",
              "       width=\"24px\">\n",
              "    <path d=\"M0 0h24v24H0V0z\" fill=\"none\"/>\n",
              "    <path d=\"M18.56 5.44l.94 2.06.94-2.06 2.06-.94-2.06-.94-.94-2.06-.94 2.06-2.06.94zm-11 1L8.5 8.5l.94-2.06 2.06-.94-2.06-.94L8.5 2.5l-.94 2.06-2.06.94zm10 10l.94 2.06.94-2.06 2.06-.94-2.06-.94-.94-2.06-.94 2.06-2.06.94z\"/><path d=\"M17.41 7.96l-1.37-1.37c-.4-.4-.92-.59-1.43-.59-.52 0-1.04.2-1.43.59L10.3 9.45l-7.72 7.72c-.78.78-.78 2.05 0 2.83L4 21.41c.39.39.9.59 1.41.59.51 0 1.02-.2 1.41-.59l7.78-7.78 2.81-2.81c.8-.78.8-2.07 0-2.86zM5.41 20L4 18.59l7.72-7.72 1.47 1.35L5.41 20z\"/>\n",
              "  </svg>\n",
              "      </button>\n",
              "      \n",
              "  <style>\n",
              "    .colab-df-container {\n",
              "      display:flex;\n",
              "      flex-wrap:wrap;\n",
              "      gap: 12px;\n",
              "    }\n",
              "\n",
              "    .colab-df-convert {\n",
              "      background-color: #E8F0FE;\n",
              "      border: none;\n",
              "      border-radius: 50%;\n",
              "      cursor: pointer;\n",
              "      display: none;\n",
              "      fill: #1967D2;\n",
              "      height: 32px;\n",
              "      padding: 0 0 0 0;\n",
              "      width: 32px;\n",
              "    }\n",
              "\n",
              "    .colab-df-convert:hover {\n",
              "      background-color: #E2EBFA;\n",
              "      box-shadow: 0px 1px 2px rgba(60, 64, 67, 0.3), 0px 1px 3px 1px rgba(60, 64, 67, 0.15);\n",
              "      fill: #174EA6;\n",
              "    }\n",
              "\n",
              "    [theme=dark] .colab-df-convert {\n",
              "      background-color: #3B4455;\n",
              "      fill: #D2E3FC;\n",
              "    }\n",
              "\n",
              "    [theme=dark] .colab-df-convert:hover {\n",
              "      background-color: #434B5C;\n",
              "      box-shadow: 0px 1px 3px 1px rgba(0, 0, 0, 0.15);\n",
              "      filter: drop-shadow(0px 1px 2px rgba(0, 0, 0, 0.3));\n",
              "      fill: #FFFFFF;\n",
              "    }\n",
              "  </style>\n",
              "\n",
              "      <script>\n",
              "        const buttonEl =\n",
              "          document.querySelector('#df-c61045e9-4aeb-4497-8800-541ade3fba84 button.colab-df-convert');\n",
              "        buttonEl.style.display =\n",
              "          google.colab.kernel.accessAllowed ? 'block' : 'none';\n",
              "\n",
              "        async function convertToInteractive(key) {\n",
              "          const element = document.querySelector('#df-c61045e9-4aeb-4497-8800-541ade3fba84');\n",
              "          const dataTable =\n",
              "            await google.colab.kernel.invokeFunction('convertToInteractive',\n",
              "                                                     [key], {});\n",
              "          if (!dataTable) return;\n",
              "\n",
              "          const docLinkHtml = 'Like what you see? Visit the ' +\n",
              "            '<a target=\"_blank\" href=https://colab.research.google.com/notebooks/data_table.ipynb>data table notebook</a>'\n",
              "            + ' to learn more about interactive tables.';\n",
              "          element.innerHTML = '';\n",
              "          dataTable['output_type'] = 'display_data';\n",
              "          await google.colab.output.renderOutput(dataTable, element);\n",
              "          const docLink = document.createElement('div');\n",
              "          docLink.innerHTML = docLinkHtml;\n",
              "          element.appendChild(docLink);\n",
              "        }\n",
              "      </script>\n",
              "    </div>\n",
              "  </div>\n",
              "  "
            ]
          },
          "metadata": {},
          "execution_count": 16
        }
      ],
      "source": [
        "pandas_df.describe()"
      ]
    },
    {
      "cell_type": "code",
      "execution_count": 17,
      "metadata": {
        "id": "M9p6Ag1c72go"
      },
      "outputs": [],
      "source": [
        "pandas_df['product_category'] = pd.factorize(pandas_df['product_category'])[0]"
      ]
    },
    {
      "cell_type": "code",
      "execution_count": 18,
      "metadata": {
        "colab": {
          "base_uri": "https://localhost:8080/",
          "height": 443
        },
        "id": "bh8Lh7aC7LPn",
        "outputId": "2f6a1e28-32bb-4320-f243-ac2e2db1b788"
      },
      "outputs": [
        {
          "output_type": "execute_result",
          "data": {
            "text/plain": [
              "   average_flavor_rating  brand_name  \\\n",
              "0                9.10000          26   \n",
              "1                8.40000          62   \n",
              "2                8.30000          36   \n",
              "3                8.66615          62   \n",
              "4                8.70000          36   \n",
              "\n",
              "                                                link  number_of_flavors  \\\n",
              "0  https://sa.bodybuilding.com/store/evlution-nut...          29.000000   \n",
              "1  https://sa.bodybuilding.com/store/opt/whey.htm...          43.000000   \n",
              "2  https://sa.bodybuilding.com/store/jym/pre-jym....           9.000000   \n",
              "3  https://sa.bodybuilding.com/store/opt/essentia...           6.288714   \n",
              "4  https://sa.bodybuilding.com/store/jym/pro-jym....          14.000000   \n",
              "\n",
              "   number_of_reviews  overall_rating  price  price_per_serving  \\\n",
              "0             2575.0             9.4  19.99               0.67   \n",
              "1             9926.0             9.3  57.99               0.79   \n",
              "2             3947.0             9.1  48.99               1.63   \n",
              "3             2466.0             9.1  18.99               0.63   \n",
              "4             2506.0             9.2  56.98               1.10   \n",
              "\n",
              "   product_category                                product_description  \\\n",
              "0                 0  BCAA Powder with Natural Energizers Sourced fr...   \n",
              "1                 1  24g of Whey Protein with Amino Acids for Muscl...   \n",
              "2                 2  Pre-Workout Powder Powerhouse Packed with 13-H...   \n",
              "3                 3  Amino Acid Powder with Caffeine from Natural S...   \n",
              "4                 4  24g of Pure, Quality Protein in Every Scoop wi...   \n",
              "\n",
              "               product_name    top_flavor_rated  verified_buyer_number  \\\n",
              "0               BCAA Energy      Pink Starblast                 1594.0   \n",
              "1   Gold Standard 100% Whey          Unflavored                 3932.0   \n",
              "2                   Pre JYM  Raspberry Lemonade                 3471.0   \n",
              "3  Essential AmiN.O. Energy          Unflavored                    1.0   \n",
              "4                   Pro JYM             S'mores                 2275.0   \n",
              "\n",
              "   verified_buyer_rating  \n",
              "0                    9.0  \n",
              "1                    9.0  \n",
              "2                    9.0  \n",
              "3                    9.0  \n",
              "4                    9.0  "
            ],
            "text/html": [
              "\n",
              "  <div id=\"df-59cd48d6-d545-42c5-9db7-efb6b12caa11\">\n",
              "    <div class=\"colab-df-container\">\n",
              "      <div>\n",
              "<style scoped>\n",
              "    .dataframe tbody tr th:only-of-type {\n",
              "        vertical-align: middle;\n",
              "    }\n",
              "\n",
              "    .dataframe tbody tr th {\n",
              "        vertical-align: top;\n",
              "    }\n",
              "\n",
              "    .dataframe thead th {\n",
              "        text-align: right;\n",
              "    }\n",
              "</style>\n",
              "<table border=\"1\" class=\"dataframe\">\n",
              "  <thead>\n",
              "    <tr style=\"text-align: right;\">\n",
              "      <th></th>\n",
              "      <th>average_flavor_rating</th>\n",
              "      <th>brand_name</th>\n",
              "      <th>link</th>\n",
              "      <th>number_of_flavors</th>\n",
              "      <th>number_of_reviews</th>\n",
              "      <th>overall_rating</th>\n",
              "      <th>price</th>\n",
              "      <th>price_per_serving</th>\n",
              "      <th>product_category</th>\n",
              "      <th>product_description</th>\n",
              "      <th>product_name</th>\n",
              "      <th>top_flavor_rated</th>\n",
              "      <th>verified_buyer_number</th>\n",
              "      <th>verified_buyer_rating</th>\n",
              "    </tr>\n",
              "  </thead>\n",
              "  <tbody>\n",
              "    <tr>\n",
              "      <th>0</th>\n",
              "      <td>9.10000</td>\n",
              "      <td>26</td>\n",
              "      <td>https://sa.bodybuilding.com/store/evlution-nut...</td>\n",
              "      <td>29.000000</td>\n",
              "      <td>2575.0</td>\n",
              "      <td>9.4</td>\n",
              "      <td>19.99</td>\n",
              "      <td>0.67</td>\n",
              "      <td>0</td>\n",
              "      <td>BCAA Powder with Natural Energizers Sourced fr...</td>\n",
              "      <td>BCAA Energy</td>\n",
              "      <td>Pink Starblast</td>\n",
              "      <td>1594.0</td>\n",
              "      <td>9.0</td>\n",
              "    </tr>\n",
              "    <tr>\n",
              "      <th>1</th>\n",
              "      <td>8.40000</td>\n",
              "      <td>62</td>\n",
              "      <td>https://sa.bodybuilding.com/store/opt/whey.htm...</td>\n",
              "      <td>43.000000</td>\n",
              "      <td>9926.0</td>\n",
              "      <td>9.3</td>\n",
              "      <td>57.99</td>\n",
              "      <td>0.79</td>\n",
              "      <td>1</td>\n",
              "      <td>24g of Whey Protein with Amino Acids for Muscl...</td>\n",
              "      <td>Gold Standard 100% Whey</td>\n",
              "      <td>Unflavored</td>\n",
              "      <td>3932.0</td>\n",
              "      <td>9.0</td>\n",
              "    </tr>\n",
              "    <tr>\n",
              "      <th>2</th>\n",
              "      <td>8.30000</td>\n",
              "      <td>36</td>\n",
              "      <td>https://sa.bodybuilding.com/store/jym/pre-jym....</td>\n",
              "      <td>9.000000</td>\n",
              "      <td>3947.0</td>\n",
              "      <td>9.1</td>\n",
              "      <td>48.99</td>\n",
              "      <td>1.63</td>\n",
              "      <td>2</td>\n",
              "      <td>Pre-Workout Powder Powerhouse Packed with 13-H...</td>\n",
              "      <td>Pre JYM</td>\n",
              "      <td>Raspberry Lemonade</td>\n",
              "      <td>3471.0</td>\n",
              "      <td>9.0</td>\n",
              "    </tr>\n",
              "    <tr>\n",
              "      <th>3</th>\n",
              "      <td>8.66615</td>\n",
              "      <td>62</td>\n",
              "      <td>https://sa.bodybuilding.com/store/opt/essentia...</td>\n",
              "      <td>6.288714</td>\n",
              "      <td>2466.0</td>\n",
              "      <td>9.1</td>\n",
              "      <td>18.99</td>\n",
              "      <td>0.63</td>\n",
              "      <td>3</td>\n",
              "      <td>Amino Acid Powder with Caffeine from Natural S...</td>\n",
              "      <td>Essential AmiN.O. Energy</td>\n",
              "      <td>Unflavored</td>\n",
              "      <td>1.0</td>\n",
              "      <td>9.0</td>\n",
              "    </tr>\n",
              "    <tr>\n",
              "      <th>4</th>\n",
              "      <td>8.70000</td>\n",
              "      <td>36</td>\n",
              "      <td>https://sa.bodybuilding.com/store/jym/pro-jym....</td>\n",
              "      <td>14.000000</td>\n",
              "      <td>2506.0</td>\n",
              "      <td>9.2</td>\n",
              "      <td>56.98</td>\n",
              "      <td>1.10</td>\n",
              "      <td>4</td>\n",
              "      <td>24g of Pure, Quality Protein in Every Scoop wi...</td>\n",
              "      <td>Pro JYM</td>\n",
              "      <td>S'mores</td>\n",
              "      <td>2275.0</td>\n",
              "      <td>9.0</td>\n",
              "    </tr>\n",
              "  </tbody>\n",
              "</table>\n",
              "</div>\n",
              "      <button class=\"colab-df-convert\" onclick=\"convertToInteractive('df-59cd48d6-d545-42c5-9db7-efb6b12caa11')\"\n",
              "              title=\"Convert this dataframe to an interactive table.\"\n",
              "              style=\"display:none;\">\n",
              "        \n",
              "  <svg xmlns=\"http://www.w3.org/2000/svg\" height=\"24px\"viewBox=\"0 0 24 24\"\n",
              "       width=\"24px\">\n",
              "    <path d=\"M0 0h24v24H0V0z\" fill=\"none\"/>\n",
              "    <path d=\"M18.56 5.44l.94 2.06.94-2.06 2.06-.94-2.06-.94-.94-2.06-.94 2.06-2.06.94zm-11 1L8.5 8.5l.94-2.06 2.06-.94-2.06-.94L8.5 2.5l-.94 2.06-2.06.94zm10 10l.94 2.06.94-2.06 2.06-.94-2.06-.94-.94-2.06-.94 2.06-2.06.94z\"/><path d=\"M17.41 7.96l-1.37-1.37c-.4-.4-.92-.59-1.43-.59-.52 0-1.04.2-1.43.59L10.3 9.45l-7.72 7.72c-.78.78-.78 2.05 0 2.83L4 21.41c.39.39.9.59 1.41.59.51 0 1.02-.2 1.41-.59l7.78-7.78 2.81-2.81c.8-.78.8-2.07 0-2.86zM5.41 20L4 18.59l7.72-7.72 1.47 1.35L5.41 20z\"/>\n",
              "  </svg>\n",
              "      </button>\n",
              "      \n",
              "  <style>\n",
              "    .colab-df-container {\n",
              "      display:flex;\n",
              "      flex-wrap:wrap;\n",
              "      gap: 12px;\n",
              "    }\n",
              "\n",
              "    .colab-df-convert {\n",
              "      background-color: #E8F0FE;\n",
              "      border: none;\n",
              "      border-radius: 50%;\n",
              "      cursor: pointer;\n",
              "      display: none;\n",
              "      fill: #1967D2;\n",
              "      height: 32px;\n",
              "      padding: 0 0 0 0;\n",
              "      width: 32px;\n",
              "    }\n",
              "\n",
              "    .colab-df-convert:hover {\n",
              "      background-color: #E2EBFA;\n",
              "      box-shadow: 0px 1px 2px rgba(60, 64, 67, 0.3), 0px 1px 3px 1px rgba(60, 64, 67, 0.15);\n",
              "      fill: #174EA6;\n",
              "    }\n",
              "\n",
              "    [theme=dark] .colab-df-convert {\n",
              "      background-color: #3B4455;\n",
              "      fill: #D2E3FC;\n",
              "    }\n",
              "\n",
              "    [theme=dark] .colab-df-convert:hover {\n",
              "      background-color: #434B5C;\n",
              "      box-shadow: 0px 1px 3px 1px rgba(0, 0, 0, 0.15);\n",
              "      filter: drop-shadow(0px 1px 2px rgba(0, 0, 0, 0.3));\n",
              "      fill: #FFFFFF;\n",
              "    }\n",
              "  </style>\n",
              "\n",
              "      <script>\n",
              "        const buttonEl =\n",
              "          document.querySelector('#df-59cd48d6-d545-42c5-9db7-efb6b12caa11 button.colab-df-convert');\n",
              "        buttonEl.style.display =\n",
              "          google.colab.kernel.accessAllowed ? 'block' : 'none';\n",
              "\n",
              "        async function convertToInteractive(key) {\n",
              "          const element = document.querySelector('#df-59cd48d6-d545-42c5-9db7-efb6b12caa11');\n",
              "          const dataTable =\n",
              "            await google.colab.kernel.invokeFunction('convertToInteractive',\n",
              "                                                     [key], {});\n",
              "          if (!dataTable) return;\n",
              "\n",
              "          const docLinkHtml = 'Like what you see? Visit the ' +\n",
              "            '<a target=\"_blank\" href=https://colab.research.google.com/notebooks/data_table.ipynb>data table notebook</a>'\n",
              "            + ' to learn more about interactive tables.';\n",
              "          element.innerHTML = '';\n",
              "          dataTable['output_type'] = 'display_data';\n",
              "          await google.colab.output.renderOutput(dataTable, element);\n",
              "          const docLink = document.createElement('div');\n",
              "          docLink.innerHTML = docLinkHtml;\n",
              "          element.appendChild(docLink);\n",
              "        }\n",
              "      </script>\n",
              "    </div>\n",
              "  </div>\n",
              "  "
            ]
          },
          "metadata": {},
          "execution_count": 18
        }
      ],
      "source": [
        "pandas_df.head()"
      ]
    },
    {
      "cell_type": "code",
      "execution_count": 19,
      "metadata": {
        "colab": {
          "base_uri": "https://localhost:8080/"
        },
        "id": "QyU592cq2e9c",
        "outputId": "167971b8-14f7-42f2-e6c5-7a15b2addd6b"
      },
      "outputs": [
        {
          "output_type": "stream",
          "name": "stdout",
          "text": [
            "<class 'pandas.core.frame.DataFrame'>\n",
            "RangeIndex: 840 entries, 0 to 839\n",
            "Data columns (total 14 columns):\n",
            " #   Column                 Non-Null Count  Dtype  \n",
            "---  ------                 --------------  -----  \n",
            " 0   average_flavor_rating  840 non-null    float64\n",
            " 1   brand_name             840 non-null    int64  \n",
            " 2   link                   840 non-null    object \n",
            " 3   number_of_flavors      840 non-null    float64\n",
            " 4   number_of_reviews      840 non-null    float64\n",
            " 5   overall_rating         840 non-null    float64\n",
            " 6   price                  840 non-null    float64\n",
            " 7   price_per_serving      840 non-null    float64\n",
            " 8   product_category       840 non-null    int64  \n",
            " 9   product_description    840 non-null    object \n",
            " 10  product_name           840 non-null    object \n",
            " 11  top_flavor_rated       840 non-null    object \n",
            " 12  verified_buyer_number  840 non-null    float64\n",
            " 13  verified_buyer_rating  840 non-null    float64\n",
            "dtypes: float64(8), int64(2), object(4)\n",
            "memory usage: 92.0+ KB\n"
          ]
        }
      ],
      "source": [
        "pandas_df.info()"
      ]
    },
    {
      "cell_type": "code",
      "execution_count": 20,
      "metadata": {
        "id": "scKxSdDt3o_h"
      },
      "outputs": [],
      "source": [
        "d_columns = pandas_df[['average_flavor_rating','brand_name','number_of_flavors','number_of_reviews','overall_rating','price','price_per_serving','product_category','verified_buyer_number','verified_buyer_rating']]"
      ]
    },
    {
      "cell_type": "code",
      "execution_count": 21,
      "metadata": {
        "colab": {
          "base_uri": "https://localhost:8080/",
          "height": 901
        },
        "id": "CW37a2_UBLyw",
        "outputId": "449e55ef-0520-46f2-a2e9-1bac2a6de291"
      },
      "outputs": [
        {
          "output_type": "stream",
          "name": "stderr",
          "text": [
            "<ipython-input-21-4ecfab9efd96>:2: FutureWarning: The default value of numeric_only in DataFrame.corr is deprecated. In a future version, it will default to False. Select only valid columns or specify the value of numeric_only to silence this warning.\n",
            "  sns.heatmap(pandas_df.corr(), annot=True, cmap=\"Oranges\")\n"
          ]
        },
        {
          "output_type": "execute_result",
          "data": {
            "text/plain": [
              "<Axes: >"
            ]
          },
          "metadata": {},
          "execution_count": 21
        },
        {
          "output_type": "display_data",
          "data": {
            "text/plain": [
              "<Figure size 1200x800 with 2 Axes>"
            ],
            "image/png": "[encoded data removed]"
          },
          "metadata": {}
        }
      ],
      "source": [
        "# Heatmap showing correlation between the attributes\n",
        "sns.heatmap(pandas_df.corr(), annot=True, cmap=\"Oranges\") \n"
      ]
    },
    {
      "cell_type": "markdown",
      "metadata": {
        "id": "TBoxWJsBBVId"
      },
      "source": [
        "# **Correlation Analysis**\n",
        "Above is a graphical representation of the correlation between different features in the dataset. The heatmap displays a matrix of colors that represent the strength of the correlation between pairs of variables.\n",
        "\n",
        "We can calculate the correlation between pairs of variables using a correlation coefficient, such as the Pearson correlation coefficient. This coefficient measures the linear relationship between two variables, with values ranging from -1 (perfect negative correlation) to 1 (perfect positive correlation). A value of 0 indicates no correlation.\n",
        "\n",
        "The above heatmap displays the correlation coefficients as colors in a matrix, with each variable plotted both on the x and y axis. The color of each cell in the matrix indicates the strength of the correlation between the corresponding pair of variables, with a color scale ranging from low (e.g. light maroon) to high (e.g. dark maroon).\n",
        "\n",
        "A correlation heatmap can help you identify the relationships between pairs of variables in a dataset. You can use it to spot patterns and trends, and to identify variables that are strongly correlated (either positively or negatively). This information can be useful for exploratory data analysis and for identifying potential predictors in statistical models.\n",
        "\n",
        "From the Above Matrix we can conclude a few things\n",
        "\n",
        "* Number of reviews and verified buyer rating are highly correlated\n",
        "* Number of flavors and verfied buyer number are highlt correlated"
      ]
    },
    {
      "cell_type": "markdown",
      "metadata": {
        "id": "q1rNvDMxraRv"
      },
      "source": [
        "#Splitting the data"
      ]
    },
    {
      "cell_type": "code",
      "execution_count": 22,
      "metadata": {
        "id": "CP59p3X20bTg"
      },
      "outputs": [],
      "source": [
        "from sklearn.metrics import r2_score, mean_squared_error \n",
        "from sklearn.linear_model import LinearRegression\n",
        "from sklearn import datasets, linear_model"
      ]
    },
    {
      "cell_type": "code",
      "execution_count": 23,
      "metadata": {
        "id": "wrBwAwbsHijx"
      },
      "outputs": [],
      "source": [
        "X = pandas_df.drop([\"price_per_serving\",\"link\",\"product_description\",\"top_flavor_rated\",\"product_category\",\"product_name\"], axis=1)  # Training Feature\n",
        "Y = pandas_df[\"price_per_serving\"]  # Target"
      ]
    },
    {
      "cell_type": "code",
      "execution_count": 24,
      "metadata": {
        "id": "4G6k4K-lH6OC"
      },
      "outputs": [],
      "source": [
        "(\n",
        "    x_train,\n",
        "    x_test,\n",
        "    y_train,\n",
        "    y_test,\n",
        ") = train_test_split(  # Splitting Data into Training and Test\n",
        "    X, Y, test_size=0.1, random_state=42\n",
        ")\n"
      ]
    },
    {
      "cell_type": "markdown",
      "source": [
        "This code is used to split the data into training and testing sets. The independent variables (features) are stored in X by dropping the columns \"price_per_serving\", \"link\", \"product_description\", \"top_flavor_rated\", \"product_category\", and \"product_name\". The dependent variable (target) is stored in Y as \"price_per_serving\".\n",
        "\n",
        "The train_test_split function from scikit-learn is used to split the data into training and testing sets. The data is split into a 90:10 ratio, where 90% is used for training the model and 10% is used for testing the model's performance. The random_state parameter is set to 42 to ensure that the same data is used for each run of the code."
      ],
      "metadata": {
        "id": "K7j9cUaY1HWh"
      }
    },
    {
      "cell_type": "code",
      "execution_count": 25,
      "metadata": {
        "colab": {
          "base_uri": "https://localhost:8080/"
        },
        "id": "gA_ppOe0obnZ",
        "outputId": "0eb84220-6245-47fe-8ebc-b45cc4a49d1a"
      },
      "outputs": [
        {
          "output_type": "stream",
          "name": "stdout",
          "text": [
            "(756, 8)\n",
            "(756,)\n",
            "(84, 8)\n",
            "(84,)\n",
            "(840, 14)\n"
          ]
        }
      ],
      "source": [
        "print (x_train.shape)\n",
        "print (y_train.shape)\n",
        "print (x_test.shape)\n",
        "print (y_test.shape)\n",
        "print(pandas_df.shape)"
      ]
    },
    {
      "cell_type": "code",
      "execution_count": 26,
      "metadata": {
        "colab": {
          "base_uri": "https://localhost:8080/",
          "height": 443
        },
        "id": "uldCYHqTIIqh",
        "outputId": "e38c0565-0a01-4671-aa29-fcbdf3452d86"
      },
      "outputs": [
        {
          "output_type": "execute_result",
          "data": {
            "text/plain": [
              "   average_flavor_rating  brand_name  \\\n",
              "0                9.10000          26   \n",
              "1                8.40000          62   \n",
              "2                8.30000          36   \n",
              "3                8.66615          62   \n",
              "4                8.70000          36   \n",
              "\n",
              "                                                link  number_of_flavors  \\\n",
              "0  https://sa.bodybuilding.com/store/evlution-nut...          29.000000   \n",
              "1  https://sa.bodybuilding.com/store/opt/whey.htm...          43.000000   \n",
              "2  https://sa.bodybuilding.com/store/jym/pre-jym....           9.000000   \n",
              "3  https://sa.bodybuilding.com/store/opt/essentia...           6.288714   \n",
              "4  https://sa.bodybuilding.com/store/jym/pro-jym....          14.000000   \n",
              "\n",
              "   number_of_reviews  overall_rating  price  price_per_serving  \\\n",
              "0             2575.0             9.4  19.99               0.67   \n",
              "1             9926.0             9.3  57.99               0.79   \n",
              "2             3947.0             9.1  48.99               1.63   \n",
              "3             2466.0             9.1  18.99               0.63   \n",
              "4             2506.0             9.2  56.98               1.10   \n",
              "\n",
              "   product_category                                product_description  \\\n",
              "0                 0  BCAA Powder with Natural Energizers Sourced fr...   \n",
              "1                 1  24g of Whey Protein with Amino Acids for Muscl...   \n",
              "2                 2  Pre-Workout Powder Powerhouse Packed with 13-H...   \n",
              "3                 3  Amino Acid Powder with Caffeine from Natural S...   \n",
              "4                 4  24g of Pure, Quality Protein in Every Scoop wi...   \n",
              "\n",
              "               product_name    top_flavor_rated  verified_buyer_number  \\\n",
              "0               BCAA Energy      Pink Starblast                 1594.0   \n",
              "1   Gold Standard 100% Whey          Unflavored                 3932.0   \n",
              "2                   Pre JYM  Raspberry Lemonade                 3471.0   \n",
              "3  Essential AmiN.O. Energy          Unflavored                    1.0   \n",
              "4                   Pro JYM             S'mores                 2275.0   \n",
              "\n",
              "   verified_buyer_rating  \n",
              "0                    9.0  \n",
              "1                    9.0  \n",
              "2                    9.0  \n",
              "3                    9.0  \n",
              "4                    9.0  "
            ],
            "text/html": [
              "\n",
              "  <div id=\"df-10792a0b-f2d2-46ea-8227-5505f2438e83\">\n",
              "    <div class=\"colab-df-container\">\n",
              "      <div>\n",
              "<style scoped>\n",
              "    .dataframe tbody tr th:only-of-type {\n",
              "        vertical-align: middle;\n",
              "    }\n",
              "\n",
              "    .dataframe tbody tr th {\n",
              "        vertical-align: top;\n",
              "    }\n",
              "\n",
              "    .dataframe thead th {\n",
              "        text-align: right;\n",
              "    }\n",
              "</style>\n",
              "<table border=\"1\" class=\"dataframe\">\n",
              "  <thead>\n",
              "    <tr style=\"text-align: right;\">\n",
              "      <th></th>\n",
              "      <th>average_flavor_rating</th>\n",
              "      <th>brand_name</th>\n",
              "      <th>link</th>\n",
              "      <th>number_of_flavors</th>\n",
              "      <th>number_of_reviews</th>\n",
              "      <th>overall_rating</th>\n",
              "      <th>price</th>\n",
              "      <th>price_per_serving</th>\n",
              "      <th>product_category</th>\n",
              "      <th>product_description</th>\n",
              "      <th>product_name</th>\n",
              "      <th>top_flavor_rated</th>\n",
              "      <th>verified_buyer_number</th>\n",
              "      <th>verified_buyer_rating</th>\n",
              "    </tr>\n",
              "  </thead>\n",
              "  <tbody>\n",
              "    <tr>\n",
              "      <th>0</th>\n",
              "      <td>9.10000</td>\n",
              "      <td>26</td>\n",
              "      <td>https://sa.bodybuilding.com/store/evlution-nut...</td>\n",
              "      <td>29.000000</td>\n",
              "      <td>2575.0</td>\n",
              "      <td>9.4</td>\n",
              "      <td>19.99</td>\n",
              "      <td>0.67</td>\n",
              "      <td>0</td>\n",
              "      <td>BCAA Powder with Natural Energizers Sourced fr...</td>\n",
              "      <td>BCAA Energy</td>\n",
              "      <td>Pink Starblast</td>\n",
              "      <td>1594.0</td>\n",
              "      <td>9.0</td>\n",
              "    </tr>\n",
              "    <tr>\n",
              "      <th>1</th>\n",
              "      <td>8.40000</td>\n",
              "      <td>62</td>\n",
              "      <td>https://sa.bodybuilding.com/store/opt/whey.htm...</td>\n",
              "      <td>43.000000</td>\n",
              "      <td>9926.0</td>\n",
              "      <td>9.3</td>\n",
              "      <td>57.99</td>\n",
              "      <td>0.79</td>\n",
              "      <td>1</td>\n",
              "      <td>24g of Whey Protein with Amino Acids for Muscl...</td>\n",
              "      <td>Gold Standard 100% Whey</td>\n",
              "      <td>Unflavored</td>\n",
              "      <td>3932.0</td>\n",
              "      <td>9.0</td>\n",
              "    </tr>\n",
              "    <tr>\n",
              "      <th>2</th>\n",
              "      <td>8.30000</td>\n",
              "      <td>36</td>\n",
              "      <td>https://sa.bodybuilding.com/store/jym/pre-jym....</td>\n",
              "      <td>9.000000</td>\n",
              "      <td>3947.0</td>\n",
              "      <td>9.1</td>\n",
              "      <td>48.99</td>\n",
              "      <td>1.63</td>\n",
              "      <td>2</td>\n",
              "      <td>Pre-Workout Powder Powerhouse Packed with 13-H...</td>\n",
              "      <td>Pre JYM</td>\n",
              "      <td>Raspberry Lemonade</td>\n",
              "      <td>3471.0</td>\n",
              "      <td>9.0</td>\n",
              "    </tr>\n",
              "    <tr>\n",
              "      <th>3</th>\n",
              "      <td>8.66615</td>\n",
              "      <td>62</td>\n",
              "      <td>https://sa.bodybuilding.com/store/opt/essentia...</td>\n",
              "      <td>6.288714</td>\n",
              "      <td>2466.0</td>\n",
              "      <td>9.1</td>\n",
              "      <td>18.99</td>\n",
              "      <td>0.63</td>\n",
              "      <td>3</td>\n",
              "      <td>Amino Acid Powder with Caffeine from Natural S...</td>\n",
              "      <td>Essential AmiN.O. Energy</td>\n",
              "      <td>Unflavored</td>\n",
              "      <td>1.0</td>\n",
              "      <td>9.0</td>\n",
              "    </tr>\n",
              "    <tr>\n",
              "      <th>4</th>\n",
              "      <td>8.70000</td>\n",
              "      <td>36</td>\n",
              "      <td>https://sa.bodybuilding.com/store/jym/pro-jym....</td>\n",
              "      <td>14.000000</td>\n",
              "      <td>2506.0</td>\n",
              "      <td>9.2</td>\n",
              "      <td>56.98</td>\n",
              "      <td>1.10</td>\n",
              "      <td>4</td>\n",
              "      <td>24g of Pure, Quality Protein in Every Scoop wi...</td>\n",
              "      <td>Pro JYM</td>\n",
              "      <td>S'mores</td>\n",
              "      <td>2275.0</td>\n",
              "      <td>9.0</td>\n",
              "    </tr>\n",
              "  </tbody>\n",
              "</table>\n",
              "</div>\n",
              "      <button class=\"colab-df-convert\" onclick=\"convertToInteractive('df-10792a0b-f2d2-46ea-8227-5505f2438e83')\"\n",
              "              title=\"Convert this dataframe to an interactive table.\"\n",
              "              style=\"display:none;\">\n",
              "        \n",
              "  <svg xmlns=\"http://www.w3.org/2000/svg\" height=\"24px\"viewBox=\"0 0 24 24\"\n",
              "       width=\"24px\">\n",
              "    <path d=\"M0 0h24v24H0V0z\" fill=\"none\"/>\n",
              "    <path d=\"M18.56 5.44l.94 2.06.94-2.06 2.06-.94-2.06-.94-.94-2.06-.94 2.06-2.06.94zm-11 1L8.5 8.5l.94-2.06 2.06-.94-2.06-.94L8.5 2.5l-.94 2.06-2.06.94zm10 10l.94 2.06.94-2.06 2.06-.94-2.06-.94-.94-2.06-.94 2.06-2.06.94z\"/><path d=\"M17.41 7.96l-1.37-1.37c-.4-.4-.92-.59-1.43-.59-.52 0-1.04.2-1.43.59L10.3 9.45l-7.72 7.72c-.78.78-.78 2.05 0 2.83L4 21.41c.39.39.9.59 1.41.59.51 0 1.02-.2 1.41-.59l7.78-7.78 2.81-2.81c.8-.78.8-2.07 0-2.86zM5.41 20L4 18.59l7.72-7.72 1.47 1.35L5.41 20z\"/>\n",
              "  </svg>\n",
              "      </button>\n",
              "      \n",
              "  <style>\n",
              "    .colab-df-container {\n",
              "      display:flex;\n",
              "      flex-wrap:wrap;\n",
              "      gap: 12px;\n",
              "    }\n",
              "\n",
              "    .colab-df-convert {\n",
              "      background-color: #E8F0FE;\n",
              "      border: none;\n",
              "      border-radius: 50%;\n",
              "      cursor: pointer;\n",
              "      display: none;\n",
              "      fill: #1967D2;\n",
              "      height: 32px;\n",
              "      padding: 0 0 0 0;\n",
              "      width: 32px;\n",
              "    }\n",
              "\n",
              "    .colab-df-convert:hover {\n",
              "      background-color: #E2EBFA;\n",
              "      box-shadow: 0px 1px 2px rgba(60, 64, 67, 0.3), 0px 1px 3px 1px rgba(60, 64, 67, 0.15);\n",
              "      fill: #174EA6;\n",
              "    }\n",
              "\n",
              "    [theme=dark] .colab-df-convert {\n",
              "      background-color: #3B4455;\n",
              "      fill: #D2E3FC;\n",
              "    }\n",
              "\n",
              "    [theme=dark] .colab-df-convert:hover {\n",
              "      background-color: #434B5C;\n",
              "      box-shadow: 0px 1px 3px 1px rgba(0, 0, 0, 0.15);\n",
              "      filter: drop-shadow(0px 1px 2px rgba(0, 0, 0, 0.3));\n",
              "      fill: #FFFFFF;\n",
              "    }\n",
              "  </style>\n",
              "\n",
              "      <script>\n",
              "        const buttonEl =\n",
              "          document.querySelector('#df-10792a0b-f2d2-46ea-8227-5505f2438e83 button.colab-df-convert');\n",
              "        buttonEl.style.display =\n",
              "          google.colab.kernel.accessAllowed ? 'block' : 'none';\n",
              "\n",
              "        async function convertToInteractive(key) {\n",
              "          const element = document.querySelector('#df-10792a0b-f2d2-46ea-8227-5505f2438e83');\n",
              "          const dataTable =\n",
              "            await google.colab.kernel.invokeFunction('convertToInteractive',\n",
              "                                                     [key], {});\n",
              "          if (!dataTable) return;\n",
              "\n",
              "          const docLinkHtml = 'Like what you see? Visit the ' +\n",
              "            '<a target=\"_blank\" href=https://colab.research.google.com/notebooks/data_table.ipynb>data table notebook</a>'\n",
              "            + ' to learn more about interactive tables.';\n",
              "          element.innerHTML = '';\n",
              "          dataTable['output_type'] = 'display_data';\n",
              "          await google.colab.output.renderOutput(dataTable, element);\n",
              "          const docLink = document.createElement('div');\n",
              "          docLink.innerHTML = docLinkHtml;\n",
              "          element.appendChild(docLink);\n",
              "        }\n",
              "      </script>\n",
              "    </div>\n",
              "  </div>\n",
              "  "
            ]
          },
          "metadata": {},
          "execution_count": 26
        }
      ],
      "source": [
        "pandas_df.head()"
      ]
    },
    {
      "cell_type": "code",
      "source": [
        "def evaluate_model(true, predicted):\n",
        "    mae = mean_absolute_error(true, predicted)\n",
        "    mse = mean_squared_error(true, predicted)\n",
        "    rmse = np.sqrt(mean_squared_error(true, predicted))\n",
        "    r2_square = r2_score(true, predicted)\n",
        "    return mae, rmse, r2_square"
      ],
      "metadata": {
        "id": "dBtaBW2PGyxK"
      },
      "execution_count": 27,
      "outputs": []
    },
    {
      "cell_type": "markdown",
      "source": [
        "This is a function called evaluate_model that takes in two arguments true and predicted.\n",
        "\n",
        "The purpose of this function is to evaluate the performance of a regression model by computing four common metrics:\n",
        "\n",
        "Mean Absolute Error (MAE)\n",
        "Mean Squared Error (MSE)\n",
        "Root Mean Squared Error (RMSE)\n",
        "R-squared (R2)\n",
        "These metrics are calculated using the mean_absolute_error(), mean_squared_error(), np.sqrt(), and r2_score() functions from the scikit-learn library.\n",
        "\n",
        "The function returns the calculated MAE, RMSE, and R2 metrics."
      ],
      "metadata": {
        "id": "xKakbTJf3rmP"
      }
    },
    {
      "cell_type": "markdown",
      "source": [
        "# **Linear Regression**"
      ],
      "metadata": {
        "id": "1VWpZngve8CB"
      }
    },
    {
      "cell_type": "markdown",
      "source": [
        "*Linear regression is a widely used statistical technique that aims to establish a relationship between a dependent variable and one or more independent variables. It is called \"linear\" regression because it assumes that the relationship between the dependent and independent variables can be represented by a straight line. The basic idea of linear regression is to find the line of best fit that minimizes the distance between the predicted and actual values.*\n",
        "\n",
        "*In simple linear regression, there is only one independent variable, while in multiple linear regression, there are more than one independent variables. The goal of linear regression is to find the coefficients of the independent variables that minimize the sum of the squared residuals between the predicted and actual values.*\n",
        "\n",
        "*Linear regression is often used for prediction and forecasting, as well as for identifying relationships between variables. It is widely used in fields such as economics, finance, social sciences, and engineering. However, it has certain limitations, such as the assumption of linearity and the presence of outliers that can significantly affect the results. Therefore, it is important to carefully evaluate the assumptions and limitations of linear regression before using it.*"
      ],
      "metadata": {
        "id": "CV3fVIhq4llH"
      }
    },
    {
      "cell_type": "code",
      "execution_count": 28,
      "metadata": {
        "id": "-uiPgakty8eP",
        "colab": {
          "base_uri": "https://localhost:8080/",
          "height": 74
        },
        "outputId": "51589e03-bf11-4523-efd8-c78a497cfda4"
      },
      "outputs": [
        {
          "output_type": "execute_result",
          "data": {
            "text/plain": [
              "LinearRegression()"
            ],
            "text/html": [
              "<style>#sk-container-id-1 {color: black;background-color: white;}#sk-container-id-1 pre{padding: 0;}#sk-container-id-1 div.sk-toggleable {background-color: white;}#sk-container-id-1 label.sk-toggleable__label {cursor: pointer;display: block;width: 100%;margin-bottom: 0;padding: 0.3em;box-sizing: border-box;text-align: center;}#sk-container-id-1 label.sk-toggleable__label-arrow:before {content: \"▸\";float: left;margin-right: 0.25em;color: #696969;}#sk-container-id-1 label.sk-toggleable__label-arrow:hover:before {color: black;}#sk-container-id-1 div.sk-estimator:hover label.sk-toggleable__label-arrow:before {color: black;}#sk-container-id-1 div.sk-toggleable__content {max-height: 0;max-width: 0;overflow: hidden;text-align: left;background-color: #f0f8ff;}#sk-container-id-1 div.sk-toggleable__content pre {margin: 0.2em;color: black;border-radius: 0.25em;background-color: #f0f8ff;}#sk-container-id-1 input.sk-toggleable__control:checked~div.sk-toggleable__content {max-height: 200px;max-width: 100%;overflow: auto;}#sk-container-id-1 input.sk-toggleable__control:checked~label.sk-toggleable__label-arrow:before {content: \"▾\";}#sk-container-id-1 div.sk-estimator input.sk-toggleable__control:checked~label.sk-toggleable__label {background-color: #d4ebff;}#sk-container-id-1 div.sk-label input.sk-toggleable__control:checked~label.sk-toggleable__label {background-color: #d4ebff;}#sk-container-id-1 input.sk-hidden--visually {border: 0;clip: rect(1px 1px 1px 1px);clip: rect(1px, 1px, 1px, 1px);height: 1px;margin: -1px;overflow: hidden;padding: 0;position: absolute;width: 1px;}#sk-container-id-1 div.sk-estimator {font-family: monospace;background-color: #f0f8ff;border: 1px dotted black;border-radius: 0.25em;box-sizing: border-box;margin-bottom: 0.5em;}#sk-container-id-1 div.sk-estimator:hover {background-color: #d4ebff;}#sk-container-id-1 div.sk-parallel-item::after {content: \"\";width: 100%;border-bottom: 1px solid gray;flex-grow: 1;}#sk-container-id-1 div.sk-label:hover label.sk-toggleable__label {background-color: #d4ebff;}#sk-container-id-1 div.sk-serial::before {content: \"\";position: absolute;border-left: 1px solid gray;box-sizing: border-box;top: 0;bottom: 0;left: 50%;z-index: 0;}#sk-container-id-1 div.sk-serial {display: flex;flex-direction: column;align-items: center;background-color: white;padding-right: 0.2em;padding-left: 0.2em;position: relative;}#sk-container-id-1 div.sk-item {position: relative;z-index: 1;}#sk-container-id-1 div.sk-parallel {display: flex;align-items: stretch;justify-content: center;background-color: white;position: relative;}#sk-container-id-1 div.sk-item::before, #sk-container-id-1 div.sk-parallel-item::before {content: \"\";position: absolute;border-left: 1px solid gray;box-sizing: border-box;top: 0;bottom: 0;left: 50%;z-index: -1;}#sk-container-id-1 div.sk-parallel-item {display: flex;flex-direction: column;z-index: 1;position: relative;background-color: white;}#sk-container-id-1 div.sk-parallel-item:first-child::after {align-self: flex-end;width: 50%;}#sk-container-id-1 div.sk-parallel-item:last-child::after {align-self: flex-start;width: 50%;}#sk-container-id-1 div.sk-parallel-item:only-child::after {width: 0;}#sk-container-id-1 div.sk-dashed-wrapped {border: 1px dashed gray;margin: 0 0.4em 0.5em 0.4em;box-sizing: border-box;padding-bottom: 0.4em;background-color: white;}#sk-container-id-1 div.sk-label label {font-family: monospace;font-weight: bold;display: inline-block;line-height: 1.2em;}#sk-container-id-1 div.sk-label-container {text-align: center;}#sk-container-id-1 div.sk-container {/* jupyter's `normalize.less` sets `[hidden] { display: none; }` but bootstrap.min.css set `[hidden] { display: none !important; }` so we also need the `!important` here to be able to override the default hidden behavior on the sphinx rendered scikit-learn.org. See: https://github.com/scikit-learn/scikit-learn/issues/21755 */display: inline-block !important;position: relative;}#sk-container-id-1 div.sk-text-repr-fallback {display: none;}</style><div id=\"sk-container-id-1\" class=\"sk-top-container\"><div class=\"sk-text-repr-fallback\"><pre>LinearRegression()</pre><b>In a Jupyter environment, please rerun this cell to show the HTML representation or trust the notebook. <br />On GitHub, the HTML representation is unable to render, please try loading this page with nbviewer.org.</b></div><div class=\"sk-container\" hidden><div class=\"sk-item\"><div class=\"sk-estimator sk-toggleable\"><input class=\"sk-toggleable__control sk-hidden--visually\" id=\"sk-estimator-id-1\" type=\"checkbox\" checked><label for=\"sk-estimator-id-1\" class=\"sk-toggleable__label sk-toggleable__label-arrow\">LinearRegression</label><div class=\"sk-toggleable__content\"><pre>LinearRegression()</pre></div></div></div></div></div>"
            ]
          },
          "metadata": {},
          "execution_count": 28
        }
      ],
      "source": [
        "linear_model = sklearn.linear_model.LinearRegression()  # Initializing a Linear Model\n",
        "linear_model.fit(x_train, y_train)  # Training a linear model\n"
      ]
    },
    {
      "cell_type": "markdown",
      "source": [
        "This code initializes a linear regression model using the sklearn.linear_model.LinearRegression() function and assigns it to the variable linear_model. Then, it fits the model to the training data using the fit() method of the linear_model object."
      ],
      "metadata": {
        "id": "eXdet_KI4bV4"
      }
    },
    {
      "cell_type": "code",
      "source": [
        "y_train_pred = linear_model.predict(x_train)\n",
        "y_test_pred = linear_model.predict(x_test)\n"
      ],
      "metadata": {
        "id": "LHpQqvGR7wy5"
      },
      "execution_count": 29,
      "outputs": []
    },
    {
      "cell_type": "code",
      "source": [
        "linear_train_mae , linear_train_rmse, linear_train_r2 = evaluate_model(y_train, y_train_pred)\n",
        "\n",
        "linear_test_mae , linear_test_rmse, linear_test_r2 = evaluate_model(y_test, y_test_pred)\n",
        "\n",
        "linear_train_mse = mean_squared_error(y_train, y_train_pred)\n",
        "linear_test_mse = mean_squared_error(y_test, y_test_pred)"
      ],
      "metadata": {
        "id": "hUZdbO9C7h9F"
      },
      "execution_count": 30,
      "outputs": []
    },
    {
      "cell_type": "markdown",
      "source": [
        "* After training a linear regression model and making predictions on the training and testing data, the evaluate_model function is used to calculate three evaluation metrics: mean absolute error (MAE), root mean squared error (RMSE), and R-squared (R2) score.\n",
        "\n",
        "* These metrics provide information about the performance of the model in terms of how close the predicted values are to the actual values. The evaluate_model function takes in two arrays, true and predicted, representing the true values and predicted values, respectively."
      ],
      "metadata": {
        "id": "jNa5-hAI44G1"
      }
    },
    {
      "cell_type": "code",
      "source": [
        "# print performance metrics for the training dataset\n",
        "print('Model performance for Training set')\n",
        "print(\"- Mean Squared Error: {:.4f}\".format(linear_train_mse))\n",
        "print(\"- Root Mean Squared Error: {:.4f}\".format(linear_train_rmse))\n",
        "print(\"- Mean Absolute Error: {:.4f}\".format(linear_train_mae))\n",
        "print(\"- R2 Score: {:.4f}\".format(linear_train_r2))\n",
        "print('----------------------------------')\n",
        "\n",
        "# print performance metrics for the test dataset\n",
        "print('Model performance for Test set')\n",
        "print(\"- Mean Squared Error: {:.4f}\".format(linear_test_mse))\n",
        "print(\"- Root Mean Squared Error: {:.4f}\".format(linear_test_rmse))\n",
        "print(\"- Mean Absolute Error: {:.4f}\".format(linear_test_mae))\n",
        "print(\"- R2 Score: {:.4f}\".format(linear_test_r2))\n",
        "\n",
        "print('='*35)\n",
        "\n"
      ],
      "metadata": {
        "colab": {
          "base_uri": "https://localhost:8080/"
        },
        "id": "SM2CcBBw7Ycp",
        "outputId": "6da60965-1446-4a26-d5a3-68dc126d2b3a"
      },
      "execution_count": 31,
      "outputs": [
        {
          "output_type": "stream",
          "name": "stdout",
          "text": [
            "Model performance for Training set\n",
            "- Mean Squared Error: 0.6260\n",
            "- Root Mean Squared Error: 0.7912\n",
            "- Mean Absolute Error: 0.5435\n",
            "- R2 Score: 0.1635\n",
            "----------------------------------\n",
            "Model performance for Test set\n",
            "- Mean Squared Error: 0.6158\n",
            "- Root Mean Squared Error: 0.7847\n",
            "- Mean Absolute Error: 0.5807\n",
            "- R2 Score: 0.1023\n",
            "===================================\n"
          ]
        }
      ]
    },
    {
      "cell_type": "markdown",
      "source": [
        "This code prints out the performance metrics of a linear regression model on both the training set and test set. The performance metrics being evaluated are:\n",
        "\n",
        "* Mean Squared Error (MSE): measures the average squared difference between the predicted and actual values.\n",
        "* Root Mean Squared Error (RMSE): measures the square root of the MSE.\n",
        "* Mean Absolute Error (MAE): measures the average absolute difference between the predicted and actual values.\n",
        "* R2 Score: measures the proportion of variance in the target variable that is explained by the model.\n",
        "\n",
        "The first four print statements display the performance metrics for the training set, while the last four print statements display the performance metrics for the test set. The equal signs at the bottom of the output serve as a separator between the two sets of performance metrics."
      ],
      "metadata": {
        "id": "0GyyKBwd5uyV"
      }
    },
    {
      "cell_type": "markdown",
      "source": [
        "* The output is showing the performance metrics of a Linear Regression model on both the training and test set. The training set evaluation metrics include Mean Squared Error (MSE), Root Mean Squared Error (RMSE), Mean Absolute Error (MAE), and R2 Score. Similarly, the test set evaluation metrics include MSE, RMSE, MAE, and R2 Score.\n",
        "\n",
        "* The values for the evaluation metrics indicate the performance of the model on the data. A good model will have lower values of MSE, RMSE, and MAE and higher values of R2 Score. In this case, the model has an R2 Score of 0.1635 on the training set, which indicates that only 16.35% of the variability in the target variable is explained by the model. Similarly, the R2 Score of 0.1023 on the test set indicates that the model is not performing well on unseen data.\n",
        "\n",
        "* Overall, the model is not performing well, as the R2 Score is low and the values for MSE, RMSE, and MAE are relatively high. This suggests that the model may not be capturing the underlying patterns in the data well, and may require further adjustments or a different approach to improve its performance."
      ],
      "metadata": {
        "id": "_mgFgGf8DAlb"
      }
    },
    {
      "cell_type": "markdown",
      "metadata": {
        "id": "gF4nCWG5RFbX"
      },
      "source": [
        "# **Lasso Regression**"
      ]
    },
    {
      "cell_type": "markdown",
      "source": [
        "*Lasso regression is a linear regression model that uses L1 regularization technique to improve its performance. It is also known as L1 regularization. Lasso regression adds a penalty term to the cost function of the linear regression model, which shrinks the coefficients of the less important features to zero, thereby eliminating those features from the model.*\n",
        "\n",
        "*The L1 regularization technique adds an absolute sum of the coefficients to the cost function. This means that the Lasso regression algorithm tries to minimize the sum of the absolute values of the coefficients. As a result, some of the coefficients will be equal to zero, and the corresponding features will be eliminated from the model.*\n",
        "\n",
        "*Lasso regression is useful in feature selection, where we have a large number of features and we need to select only the important features. It can also be used to prevent overfitting in a linear regression model. However, the disadvantage of Lasso regression is that it can only be used with linear models, and it is not suitable for non-linear models.*"
      ],
      "metadata": {
        "id": "ebyEY-yX6C_B"
      }
    },
    {
      "cell_type": "code",
      "execution_count": 32,
      "metadata": {
        "id": "IaHs6R1BRKTY"
      },
      "outputs": [],
      "source": [
        "from sklearn.linear_model import Lasso"
      ]
    },
    {
      "cell_type": "code",
      "source": [
        "lasso = Lasso(alpha=0.1)\n",
        "lasso.fit(x_train, y_train)"
      ],
      "metadata": {
        "colab": {
          "base_uri": "https://localhost:8080/",
          "height": 74
        },
        "id": "1HgmNav0WqGE",
        "outputId": "3c4a8b51-88f3-41dc-8b76-4b6655c9c088"
      },
      "execution_count": 33,
      "outputs": [
        {
          "output_type": "execute_result",
          "data": {
            "text/plain": [
              "Lasso(alpha=0.1)"
            ],
            "text/html": [
              "<style>#sk-container-id-2 {color: black;background-color: white;}#sk-container-id-2 pre{padding: 0;}#sk-container-id-2 div.sk-toggleable {background-color: white;}#sk-container-id-2 label.sk-toggleable__label {cursor: pointer;display: block;width: 100%;margin-bottom: 0;padding: 0.3em;box-sizing: border-box;text-align: center;}#sk-container-id-2 label.sk-toggleable__label-arrow:before {content: \"▸\";float: left;margin-right: 0.25em;color: #696969;}#sk-container-id-2 label.sk-toggleable__label-arrow:hover:before {color: black;}#sk-container-id-2 div.sk-estimator:hover label.sk-toggleable__label-arrow:before {color: black;}#sk-container-id-2 div.sk-toggleable__content {max-height: 0;max-width: 0;overflow: hidden;text-align: left;background-color: #f0f8ff;}#sk-container-id-2 div.sk-toggleable__content pre {margin: 0.2em;color: black;border-radius: 0.25em;background-color: #f0f8ff;}#sk-container-id-2 input.sk-toggleable__control:checked~div.sk-toggleable__content {max-height: 200px;max-width: 100%;overflow: auto;}#sk-container-id-2 input.sk-toggleable__control:checked~label.sk-toggleable__label-arrow:before {content: \"▾\";}#sk-container-id-2 div.sk-estimator input.sk-toggleable__control:checked~label.sk-toggleable__label {background-color: #d4ebff;}#sk-container-id-2 div.sk-label input.sk-toggleable__control:checked~label.sk-toggleable__label {background-color: #d4ebff;}#sk-container-id-2 input.sk-hidden--visually {border: 0;clip: rect(1px 1px 1px 1px);clip: rect(1px, 1px, 1px, 1px);height: 1px;margin: -1px;overflow: hidden;padding: 0;position: absolute;width: 1px;}#sk-container-id-2 div.sk-estimator {font-family: monospace;background-color: #f0f8ff;border: 1px dotted black;border-radius: 0.25em;box-sizing: border-box;margin-bottom: 0.5em;}#sk-container-id-2 div.sk-estimator:hover {background-color: #d4ebff;}#sk-container-id-2 div.sk-parallel-item::after {content: \"\";width: 100%;border-bottom: 1px solid gray;flex-grow: 1;}#sk-container-id-2 div.sk-label:hover label.sk-toggleable__label {background-color: #d4ebff;}#sk-container-id-2 div.sk-serial::before {content: \"\";position: absolute;border-left: 1px solid gray;box-sizing: border-box;top: 0;bottom: 0;left: 50%;z-index: 0;}#sk-container-id-2 div.sk-serial {display: flex;flex-direction: column;align-items: center;background-color: white;padding-right: 0.2em;padding-left: 0.2em;position: relative;}#sk-container-id-2 div.sk-item {position: relative;z-index: 1;}#sk-container-id-2 div.sk-parallel {display: flex;align-items: stretch;justify-content: center;background-color: white;position: relative;}#sk-container-id-2 div.sk-item::before, #sk-container-id-2 div.sk-parallel-item::before {content: \"\";position: absolute;border-left: 1px solid gray;box-sizing: border-box;top: 0;bottom: 0;left: 50%;z-index: -1;}#sk-container-id-2 div.sk-parallel-item {display: flex;flex-direction: column;z-index: 1;position: relative;background-color: white;}#sk-container-id-2 div.sk-parallel-item:first-child::after {align-self: flex-end;width: 50%;}#sk-container-id-2 div.sk-parallel-item:last-child::after {align-self: flex-start;width: 50%;}#sk-container-id-2 div.sk-parallel-item:only-child::after {width: 0;}#sk-container-id-2 div.sk-dashed-wrapped {border: 1px dashed gray;margin: 0 0.4em 0.5em 0.4em;box-sizing: border-box;padding-bottom: 0.4em;background-color: white;}#sk-container-id-2 div.sk-label label {font-family: monospace;font-weight: bold;display: inline-block;line-height: 1.2em;}#sk-container-id-2 div.sk-label-container {text-align: center;}#sk-container-id-2 div.sk-container {/* jupyter's `normalize.less` sets `[hidden] { display: none; }` but bootstrap.min.css set `[hidden] { display: none !important; }` so we also need the `!important` here to be able to override the default hidden behavior on the sphinx rendered scikit-learn.org. See: https://github.com/scikit-learn/scikit-learn/issues/21755 */display: inline-block !important;position: relative;}#sk-container-id-2 div.sk-text-repr-fallback {display: none;}</style><div id=\"sk-container-id-2\" class=\"sk-top-container\"><div class=\"sk-text-repr-fallback\"><pre>Lasso(alpha=0.1)</pre><b>In a Jupyter environment, please rerun this cell to show the HTML representation or trust the notebook. <br />On GitHub, the HTML representation is unable to render, please try loading this page with nbviewer.org.</b></div><div class=\"sk-container\" hidden><div class=\"sk-item\"><div class=\"sk-estimator sk-toggleable\"><input class=\"sk-toggleable__control sk-hidden--visually\" id=\"sk-estimator-id-2\" type=\"checkbox\" checked><label for=\"sk-estimator-id-2\" class=\"sk-toggleable__label sk-toggleable__label-arrow\">Lasso</label><div class=\"sk-toggleable__content\"><pre>Lasso(alpha=0.1)</pre></div></div></div></div></div>"
            ]
          },
          "metadata": {},
          "execution_count": 33
        }
      ]
    },
    {
      "cell_type": "markdown",
      "source": [
        "This code initializes a Lasso regression model with a regularization parameter alpha of 0.1 and fits it to the training data. Lasso regression is a type of linear regression that adds a penalty term to the cost function, which encourages the model to use fewer features or to set some feature coefficients to zero. This helps to prevent overfitting and can improve the model's generalization performance. The regularization strength is controlled by the alpha parameter, with larger values resulting in stronger regularization and smaller coefficients"
      ],
      "metadata": {
        "id": "CgjVrfHj7Krc"
      }
    },
    {
      "cell_type": "code",
      "source": [
        "y_train_pred = lasso.predict(x_train)\n",
        "y_test_pred = lasso.predict(x_test)\n",
        "\n",
        "lasso_train_mae , lasso_train_rmse, lasso_train_r2 = evaluate_model(y_train, y_train_pred)\n",
        "\n",
        "lasso_test_mae , lasso_test_rmse, lasso_test_r2 = evaluate_model(y_test, y_test_pred)\n",
        "\n",
        "lasso_train_mse = mean_squared_error(y_train, y_train_pred)\n",
        "lasso_test_mse = mean_squared_error(y_test, y_test_pred)"
      ],
      "metadata": {
        "id": "37OIjtysaQZs"
      },
      "execution_count": 34,
      "outputs": []
    },
    {
      "cell_type": "code",
      "source": [
        "# print performance metrics for the training dataset\n",
        "print('Model performance for Training set')\n",
        "print(\"- Mean Squared Error: {:.4f}\".format(lasso_train_mse))\n",
        "print(\"- Root Mean Squared Error: {:.4f}\".format(lasso_train_rmse))\n",
        "print(\"- Mean Absolute Error: {:.4f}\".format(lasso_train_mae))\n",
        "print(\"- R2 Score: {:.4f}\".format(lasso_train_r2))\n",
        "print('----------------------------------')\n",
        "\n",
        "# print performance metrics for the test dataset\n",
        "print('Model performance for Test set')\n",
        "print(\"- Mean Squared Error: {:.4f}\".format(lasso_test_mse))\n",
        "print(\"- Root Mean Squared Error: {:.4f}\".format(lasso_test_rmse))\n",
        "print(\"- Mean Absolute Error: {:.4f}\".format(lasso_test_mae))\n",
        "print(\"- R2 Score: {:.4f}\".format(lasso_test_r2))\n",
        "# r2_list.append(model_test_r2)\n",
        "\n",
        "print('='*35)\n",
        "# print('\\n')\n"
      ],
      "metadata": {
        "colab": {
          "base_uri": "https://localhost:8080/"
        },
        "id": "REEeK2ndCzmH",
        "outputId": "146eb1bd-32bb-4962-b294-cef8189446e9"
      },
      "execution_count": 35,
      "outputs": [
        {
          "output_type": "stream",
          "name": "stdout",
          "text": [
            "Model performance for Training set\n",
            "- Mean Squared Error: 0.6303\n",
            "- Root Mean Squared Error: 0.7939\n",
            "- Mean Absolute Error: 0.5477\n",
            "- R2 Score: 0.1579\n",
            "----------------------------------\n",
            "Model performance for Test set\n",
            "- Mean Squared Error: 0.6030\n",
            "- Root Mean Squared Error: 0.7766\n",
            "- Mean Absolute Error: 0.5737\n",
            "- R2 Score: 0.1209\n",
            "===================================\n"
          ]
        }
      ]
    },
    {
      "cell_type": "markdown",
      "source": [
        "* The output shows the model performance metrics for the Lasso Regression model on both the training and test sets.\n",
        "\n",
        "* For the training set, the Mean Squared Error (MSE) is 0.6303, which indicates that on average, the predicted values deviate from the actual values by 0.6303 units squared. The Root Mean Squared Error (RMSE) is 0.7939, which is the square root of the MSE and represents the average deviation of the predicted values from the actual values in the same units as the target variable. The Mean Absolute Error (MAE) is 0.5477, which is the average absolute difference between the predicted and actual values. The R2 score is 0.1579, which is a statistical measure that represents the proportion of the variance in the target variable that can be explained by the model.\n",
        "\n",
        "* For the test set, the MSE is 0.6030, which is lower than the training set MSE, indicating that the model performs slightly better on the test set. The RMSE is 0.7766, which is lower than the training set RMSE, and the MAE is 0.5737. The R2 score is 0.1209, which is also higher than the training set R2 score, but still relatively low.\n",
        "\n",
        "* Overall, the Lasso Regression model has moderate performance on both the training and test sets, but may not be the best model for this particular dataset."
      ],
      "metadata": {
        "id": "eFMP8sQHEJOr"
      }
    },
    {
      "cell_type": "markdown",
      "source": [
        "## **Ridge Regression**"
      ],
      "metadata": {
        "id": "bK9mjB__Wlup"
      }
    },
    {
      "cell_type": "markdown",
      "source": [
        "*Ridge regression is a type of linear regression that adds a penalty term to the ordinary least squares method to prevent overfitting. The penalty term, which is the squared sum of the magnitude of the coefficients multiplied by a hyperparameter called alpha, forces the model to choose coefficients that are smaller and more generalizable to new data. Ridge regression is particularly useful when the dataset has multicollinearity, or high correlation between the predictor variables, which can cause instability in the coefficients estimated by ordinary least squares. By introducing the penalty term, ridge regression is able to provide more stable and reliable estimates of the coefficients, even when multicollinearity is present.*"
      ],
      "metadata": {
        "id": "JdobG8Zc7Z0V"
      }
    },
    {
      "cell_type": "code",
      "source": [
        "from sklearn.linear_model import Ridge"
      ],
      "metadata": {
        "id": "swixmAnvzq9q"
      },
      "execution_count": 36,
      "outputs": []
    },
    {
      "cell_type": "code",
      "source": [
        "ridge = Ridge(alpha=0.1)\n",
        "ridge.fit(x_train, y_train)"
      ],
      "metadata": {
        "colab": {
          "base_uri": "https://localhost:8080/",
          "height": 74
        },
        "id": "IMaiysSK0dpU",
        "outputId": "313819e8-3986-4917-baad-6c0b1c46f2ba"
      },
      "execution_count": 37,
      "outputs": [
        {
          "output_type": "execute_result",
          "data": {
            "text/plain": [
              "Ridge(alpha=0.1)"
            ],
            "text/html": [
              "<style>#sk-container-id-3 {color: black;background-color: white;}#sk-container-id-3 pre{padding: 0;}#sk-container-id-3 div.sk-toggleable {background-color: white;}#sk-container-id-3 label.sk-toggleable__label {cursor: pointer;display: block;width: 100%;margin-bottom: 0;padding: 0.3em;box-sizing: border-box;text-align: center;}#sk-container-id-3 label.sk-toggleable__label-arrow:before {content: \"▸\";float: left;margin-right: 0.25em;color: #696969;}#sk-container-id-3 label.sk-toggleable__label-arrow:hover:before {color: black;}#sk-container-id-3 div.sk-estimator:hover label.sk-toggleable__label-arrow:before {color: black;}#sk-container-id-3 div.sk-toggleable__content {max-height: 0;max-width: 0;overflow: hidden;text-align: left;background-color: #f0f8ff;}#sk-container-id-3 div.sk-toggleable__content pre {margin: 0.2em;color: black;border-radius: 0.25em;background-color: #f0f8ff;}#sk-container-id-3 input.sk-toggleable__control:checked~div.sk-toggleable__content {max-height: 200px;max-width: 100%;overflow: auto;}#sk-container-id-3 input.sk-toggleable__control:checked~label.sk-toggleable__label-arrow:before {content: \"▾\";}#sk-container-id-3 div.sk-estimator input.sk-toggleable__control:checked~label.sk-toggleable__label {background-color: #d4ebff;}#sk-container-id-3 div.sk-label input.sk-toggleable__control:checked~label.sk-toggleable__label {background-color: #d4ebff;}#sk-container-id-3 input.sk-hidden--visually {border: 0;clip: rect(1px 1px 1px 1px);clip: rect(1px, 1px, 1px, 1px);height: 1px;margin: -1px;overflow: hidden;padding: 0;position: absolute;width: 1px;}#sk-container-id-3 div.sk-estimator {font-family: monospace;background-color: #f0f8ff;border: 1px dotted black;border-radius: 0.25em;box-sizing: border-box;margin-bottom: 0.5em;}#sk-container-id-3 div.sk-estimator:hover {background-color: #d4ebff;}#sk-container-id-3 div.sk-parallel-item::after {content: \"\";width: 100%;border-bottom: 1px solid gray;flex-grow: 1;}#sk-container-id-3 div.sk-label:hover label.sk-toggleable__label {background-color: #d4ebff;}#sk-container-id-3 div.sk-serial::before {content: \"\";position: absolute;border-left: 1px solid gray;box-sizing: border-box;top: 0;bottom: 0;left: 50%;z-index: 0;}#sk-container-id-3 div.sk-serial {display: flex;flex-direction: column;align-items: center;background-color: white;padding-right: 0.2em;padding-left: 0.2em;position: relative;}#sk-container-id-3 div.sk-item {position: relative;z-index: 1;}#sk-container-id-3 div.sk-parallel {display: flex;align-items: stretch;justify-content: center;background-color: white;position: relative;}#sk-container-id-3 div.sk-item::before, #sk-container-id-3 div.sk-parallel-item::before {content: \"\";position: absolute;border-left: 1px solid gray;box-sizing: border-box;top: 0;bottom: 0;left: 50%;z-index: -1;}#sk-container-id-3 div.sk-parallel-item {display: flex;flex-direction: column;z-index: 1;position: relative;background-color: white;}#sk-container-id-3 div.sk-parallel-item:first-child::after {align-self: flex-end;width: 50%;}#sk-container-id-3 div.sk-parallel-item:last-child::after {align-self: flex-start;width: 50%;}#sk-container-id-3 div.sk-parallel-item:only-child::after {width: 0;}#sk-container-id-3 div.sk-dashed-wrapped {border: 1px dashed gray;margin: 0 0.4em 0.5em 0.4em;box-sizing: border-box;padding-bottom: 0.4em;background-color: white;}#sk-container-id-3 div.sk-label label {font-family: monospace;font-weight: bold;display: inline-block;line-height: 1.2em;}#sk-container-id-3 div.sk-label-container {text-align: center;}#sk-container-id-3 div.sk-container {/* jupyter's `normalize.less` sets `[hidden] { display: none; }` but bootstrap.min.css set `[hidden] { display: none !important; }` so we also need the `!important` here to be able to override the default hidden behavior on the sphinx rendered scikit-learn.org. See: https://github.com/scikit-learn/scikit-learn/issues/21755 */display: inline-block !important;position: relative;}#sk-container-id-3 div.sk-text-repr-fallback {display: none;}</style><div id=\"sk-container-id-3\" class=\"sk-top-container\"><div class=\"sk-text-repr-fallback\"><pre>Ridge(alpha=0.1)</pre><b>In a Jupyter environment, please rerun this cell to show the HTML representation or trust the notebook. <br />On GitHub, the HTML representation is unable to render, please try loading this page with nbviewer.org.</b></div><div class=\"sk-container\" hidden><div class=\"sk-item\"><div class=\"sk-estimator sk-toggleable\"><input class=\"sk-toggleable__control sk-hidden--visually\" id=\"sk-estimator-id-3\" type=\"checkbox\" checked><label for=\"sk-estimator-id-3\" class=\"sk-toggleable__label sk-toggleable__label-arrow\">Ridge</label><div class=\"sk-toggleable__content\"><pre>Ridge(alpha=0.1)</pre></div></div></div></div></div>"
            ]
          },
          "metadata": {},
          "execution_count": 37
        }
      ]
    },
    {
      "cell_type": "code",
      "source": [
        "y_train_pred = ridge.predict(x_train)\n",
        "y_test_pred = ridge.predict(x_test)\n",
        "\n",
        "ridge_train_mae , ridge_train_rmse, ridge_train_r2 = evaluate_model(y_train, y_train_pred)\n",
        "\n",
        "ridge_test_mae , ridge_test_rmse, ridge_test_r2 = evaluate_model(y_test, y_test_pred)\n",
        "\n",
        "ridge_train_mse = mean_squared_error(y_train, y_train_pred)\n",
        "ridge_test_mse = mean_squared_error(y_test, y_test_pred)"
      ],
      "metadata": {
        "id": "8YdALIwI0r7H"
      },
      "execution_count": 38,
      "outputs": []
    },
    {
      "cell_type": "code",
      "source": [
        "# print performance metrics for the training dataset\n",
        "print('Model performance for Training set')\n",
        "print(\"- Mean Squared Error: {:.4f}\".format(ridge_train_mse))\n",
        "print(\"- Root Mean Squared Error: {:.4f}\".format(ridge_train_rmse))\n",
        "print(\"- Mean Absolute Error: {:.4f}\".format(ridge_train_mae))\n",
        "print(\"- R2 Score: {:.4f}\".format(ridge_train_r2))\n",
        "print('----------------------------------')\n",
        "\n",
        "# print performance metrics for the test dataset\n",
        "print('Model performance for Test set')\n",
        "print(\"- Mean Squared Error: {:.4f}\".format(ridge_test_mse))\n",
        "print(\"- Root Mean Squared Error: {:.4f}\".format(ridge_test_rmse))\n",
        "print(\"- Mean Absolute Error: {:.4f}\".format(ridge_test_mae))\n",
        "print(\"- R2 Score: {:.4f}\".format(ridge_test_r2))\n",
        "# r2_list.append(model_test_r2)\n",
        "\n",
        "print('='*35)\n",
        "# print('\\n')\n",
        "\n"
      ],
      "metadata": {
        "colab": {
          "base_uri": "https://localhost:8080/"
        },
        "id": "oI0oWkI2b-CB",
        "outputId": "1e01ab3e-5684-4c37-986e-c91149f16b06"
      },
      "execution_count": 39,
      "outputs": [
        {
          "output_type": "stream",
          "name": "stdout",
          "text": [
            "Model performance for Training set\n",
            "- Mean Squared Error: 0.6260\n",
            "- Root Mean Squared Error: 0.7912\n",
            "- Mean Absolute Error: 0.5435\n",
            "- R2 Score: 0.1635\n",
            "----------------------------------\n",
            "Model performance for Test set\n",
            "- Mean Squared Error: 0.6158\n",
            "- Root Mean Squared Error: 0.7847\n",
            "- Mean Absolute Error: 0.5807\n",
            "- R2 Score: 0.1023\n",
            "===================================\n"
          ]
        }
      ]
    },
    {
      "cell_type": "markdown",
      "source": [
        "* The output is presenting the model performance for Ridge Regression on a training and a test set. Ridge Regression is a type of linear regression that uses L2 regularization to overcome overfitting.\n",
        "\n",
        "* For the training set, the model has achieved a mean squared error (MSE) of 0.6260, a root mean squared error (RMSE) of 0.7912, a mean absolute error (MAE) of 0.5435, and an R2 score of 0.1635.\n",
        "\n",
        "* For the test set, the model has achieved a mean squared error (MSE) of 0.6158, a root mean squared error (RMSE) of 0.7847, a mean absolute error (MAE) of 0.5807, and an R2 score of 0.1023.\n",
        "\n",
        "* The lower the values of MSE, RMSE, and MAE, the better the model performance. The R2 score represents how well the model fits the data, with a score closer to 1 indicating a better fit. In this case, the model has a relatively low R2 score, indicating that it may not be the best fit for the data."
      ],
      "metadata": {
        "id": "12RV3K69EXLQ"
      }
    },
    {
      "cell_type": "markdown",
      "source": [
        "# **K-Neighbors Regressor**"
      ],
      "metadata": {
        "id": "2vjcpThPGL17"
      }
    },
    {
      "cell_type": "markdown",
      "source": [
        "*K Neighbors Regressor is a supervised learning algorithm used for regression problems. It works by predicting the target variable based on the K nearest data points. The number of nearest neighbors (K) is chosen by the user. For a given new input, the algorithm calculates the distance to all the training data points and selects the K nearest data points. The predicted value is the average of the K nearest neighbors' target variable values.*\n",
        "\n",
        "*K Neighbors Regressor is a non-parametric algorithm, which means it does not make any assumptions about the underlying data distribution. It can capture complex patterns and is suitable for small datasets. However, it can be computationally expensive for large datasets. The performance of K Neighbors Regressor can be affected by the choice of the number of neighbors, distance metric, and the type of weighting used for the neighbors.*\n",
        "\n",
        "\n",
        "\n",
        "\n"
      ],
      "metadata": {
        "id": "WLB5CFgw7rKa"
      }
    },
    {
      "cell_type": "code",
      "source": [
        "from sklearn.neighbors import KNeighborsRegressor"
      ],
      "metadata": {
        "id": "hGBBKHcNGei0"
      },
      "execution_count": 40,
      "outputs": []
    },
    {
      "cell_type": "code",
      "source": [
        "knn = KNeighborsRegressor(n_neighbors=5)\n",
        "knn.fit(x_train, y_train)"
      ],
      "metadata": {
        "colab": {
          "base_uri": "https://localhost:8080/",
          "height": 74
        },
        "id": "pm_YxKQzGelC",
        "outputId": "53437262-4d61-41e7-d73f-0c63a58d1897"
      },
      "execution_count": 41,
      "outputs": [
        {
          "output_type": "execute_result",
          "data": {
            "text/plain": [
              "KNeighborsRegressor()"
            ],
            "text/html": [
              "<style>#sk-container-id-4 {color: black;background-color: white;}#sk-container-id-4 pre{padding: 0;}#sk-container-id-4 div.sk-toggleable {background-color: white;}#sk-container-id-4 label.sk-toggleable__label {cursor: pointer;display: block;width: 100%;margin-bottom: 0;padding: 0.3em;box-sizing: border-box;text-align: center;}#sk-container-id-4 label.sk-toggleable__label-arrow:before {content: \"▸\";float: left;margin-right: 0.25em;color: #696969;}#sk-container-id-4 label.sk-toggleable__label-arrow:hover:before {color: black;}#sk-container-id-4 div.sk-estimator:hover label.sk-toggleable__label-arrow:before {color: black;}#sk-container-id-4 div.sk-toggleable__content {max-height: 0;max-width: 0;overflow: hidden;text-align: left;background-color: #f0f8ff;}#sk-container-id-4 div.sk-toggleable__content pre {margin: 0.2em;color: black;border-radius: 0.25em;background-color: #f0f8ff;}#sk-container-id-4 input.sk-toggleable__control:checked~div.sk-toggleable__content {max-height: 200px;max-width: 100%;overflow: auto;}#sk-container-id-4 input.sk-toggleable__control:checked~label.sk-toggleable__label-arrow:before {content: \"▾\";}#sk-container-id-4 div.sk-estimator input.sk-toggleable__control:checked~label.sk-toggleable__label {background-color: #d4ebff;}#sk-container-id-4 div.sk-label input.sk-toggleable__control:checked~label.sk-toggleable__label {background-color: #d4ebff;}#sk-container-id-4 input.sk-hidden--visually {border: 0;clip: rect(1px 1px 1px 1px);clip: rect(1px, 1px, 1px, 1px);height: 1px;margin: -1px;overflow: hidden;padding: 0;position: absolute;width: 1px;}#sk-container-id-4 div.sk-estimator {font-family: monospace;background-color: #f0f8ff;border: 1px dotted black;border-radius: 0.25em;box-sizing: border-box;margin-bottom: 0.5em;}#sk-container-id-4 div.sk-estimator:hover {background-color: #d4ebff;}#sk-container-id-4 div.sk-parallel-item::after {content: \"\";width: 100%;border-bottom: 1px solid gray;flex-grow: 1;}#sk-container-id-4 div.sk-label:hover label.sk-toggleable__label {background-color: #d4ebff;}#sk-container-id-4 div.sk-serial::before {content: \"\";position: absolute;border-left: 1px solid gray;box-sizing: border-box;top: 0;bottom: 0;left: 50%;z-index: 0;}#sk-container-id-4 div.sk-serial {display: flex;flex-direction: column;align-items: center;background-color: white;padding-right: 0.2em;padding-left: 0.2em;position: relative;}#sk-container-id-4 div.sk-item {position: relative;z-index: 1;}#sk-container-id-4 div.sk-parallel {display: flex;align-items: stretch;justify-content: center;background-color: white;position: relative;}#sk-container-id-4 div.sk-item::before, #sk-container-id-4 div.sk-parallel-item::before {content: \"\";position: absolute;border-left: 1px solid gray;box-sizing: border-box;top: 0;bottom: 0;left: 50%;z-index: -1;}#sk-container-id-4 div.sk-parallel-item {display: flex;flex-direction: column;z-index: 1;position: relative;background-color: white;}#sk-container-id-4 div.sk-parallel-item:first-child::after {align-self: flex-end;width: 50%;}#sk-container-id-4 div.sk-parallel-item:last-child::after {align-self: flex-start;width: 50%;}#sk-container-id-4 div.sk-parallel-item:only-child::after {width: 0;}#sk-container-id-4 div.sk-dashed-wrapped {border: 1px dashed gray;margin: 0 0.4em 0.5em 0.4em;box-sizing: border-box;padding-bottom: 0.4em;background-color: white;}#sk-container-id-4 div.sk-label label {font-family: monospace;font-weight: bold;display: inline-block;line-height: 1.2em;}#sk-container-id-4 div.sk-label-container {text-align: center;}#sk-container-id-4 div.sk-container {/* jupyter's `normalize.less` sets `[hidden] { display: none; }` but bootstrap.min.css set `[hidden] { display: none !important; }` so we also need the `!important` here to be able to override the default hidden behavior on the sphinx rendered scikit-learn.org. See: https://github.com/scikit-learn/scikit-learn/issues/21755 */display: inline-block !important;position: relative;}#sk-container-id-4 div.sk-text-repr-fallback {display: none;}</style><div id=\"sk-container-id-4\" class=\"sk-top-container\"><div class=\"sk-text-repr-fallback\"><pre>KNeighborsRegressor()</pre><b>In a Jupyter environment, please rerun this cell to show the HTML representation or trust the notebook. <br />On GitHub, the HTML representation is unable to render, please try loading this page with nbviewer.org.</b></div><div class=\"sk-container\" hidden><div class=\"sk-item\"><div class=\"sk-estimator sk-toggleable\"><input class=\"sk-toggleable__control sk-hidden--visually\" id=\"sk-estimator-id-4\" type=\"checkbox\" checked><label for=\"sk-estimator-id-4\" class=\"sk-toggleable__label sk-toggleable__label-arrow\">KNeighborsRegressor</label><div class=\"sk-toggleable__content\"><pre>KNeighborsRegressor()</pre></div></div></div></div></div>"
            ]
          },
          "metadata": {},
          "execution_count": 41
        }
      ]
    },
    {
      "cell_type": "code",
      "source": [
        "y_train_pred = knn.predict(x_train)\n",
        "y_test_pred = knn.predict(x_test)\n",
        "\n",
        "knn_train_mae, knn_train_rmse, knn_train_r2 = evaluate_model(y_train, y_train_pred)\n",
        "knn_test_mae, knn_test_rmse, knn_test_r2 = evaluate_model(y_test, y_test_pred)\n",
        "\n",
        "knn_train_mse = mean_squared_error(y_train, y_train_pred)\n",
        "knn_test_mse = mean_squared_error(y_test, y_test_pred)"
      ],
      "metadata": {
        "id": "jxVRsn2XHzUf"
      },
      "execution_count": 42,
      "outputs": []
    },
    {
      "cell_type": "code",
      "source": [
        "# print performance metrics for the training dataset\n",
        "print('Model performance for Training set')\n",
        "print(\"- Mean Squared Error: {:.4f}\".format(knn_train_mse))\n",
        "print(\"- Root Mean Squared Error: {:.4f}\".format(knn_train_rmse))\n",
        "print(\"- Mean Absolute Error: {:.4f}\".format(knn_train_mae))\n",
        "print(\"- R2 Score: {:.4f}\".format(knn_train_r2))\n",
        "print('----------------------------------')\n",
        "\n",
        "# print performance metrics for the test dataset\n",
        "print('Model performance for Test set')\n",
        "print(\"- Mean Squared Error: {:.4f}\".format(knn_test_mse))\n",
        "print(\"- Root Mean Squared Error: {:.4f}\".format(knn_test_rmse))\n",
        "print(\"- Mean Absolute Error: {:.4f}\".format(knn_test_mae))\n",
        "print(\"- R2 Score: {:.4f}\".format(knn_test_r2))\n",
        "print('='*35)"
      ],
      "metadata": {
        "colab": {
          "base_uri": "https://localhost:8080/"
        },
        "id": "B0uqEonOHzW9",
        "outputId": "9a058d9e-fac0-4324-92e7-e1c55c62bb5b"
      },
      "execution_count": 43,
      "outputs": [
        {
          "output_type": "stream",
          "name": "stdout",
          "text": [
            "Model performance for Training set\n",
            "- Mean Squared Error: 0.3729\n",
            "- Root Mean Squared Error: 0.6107\n",
            "- Mean Absolute Error: 0.4192\n",
            "- R2 Score: 0.5017\n",
            "----------------------------------\n",
            "Model performance for Test set\n",
            "- Mean Squared Error: 0.5994\n",
            "- Root Mean Squared Error: 0.7742\n",
            "- Mean Absolute Error: 0.5408\n",
            "- R2 Score: 0.1262\n",
            "===================================\n"
          ]
        }
      ]
    },
    {
      "cell_type": "markdown",
      "source": [
        "* The output shows the model performance of the k-nearest neighbor regressor on both the training and test sets.\n",
        "\n",
        "* For the training set, the mean squared error (MSE) is 0.3729, the root mean squared error (RMSE) is 0.6107, and the mean absolute error (MAE) is 0.4192. The R2 score, which measures how well the model fits the data, is 0.5017.\n",
        "\n",
        "* For the test set, the MSE is 0.5994, the RMSE is 0.7742, and the MAE is 0.5408. The R2 score for the test set is 0.1262.\n",
        "\n",
        "* Overall, the k-nearest neighbor regressor appears to perform moderately well, with a relatively low RMSE and a moderate R2 score, indicating that the model is capturing some of the variation in the data. However, it is worth noting that the R2 score for the test set is lower than for the training set, indicating that the model may be overfitting to the training data.\n",
        "\n",
        "\n",
        "\n",
        "\n"
      ],
      "metadata": {
        "id": "_ThsuM3aFChl"
      }
    },
    {
      "cell_type": "markdown",
      "source": [
        "# **Decision Tree Regressor**"
      ],
      "metadata": {
        "id": "Le5FhQD3IL2G"
      }
    },
    {
      "cell_type": "markdown",
      "source": [
        "*Decision Tree Regressor is a machine learning algorithm used for regression problems. It is based on the concept of decision trees, where the dataset is split into smaller subsets by applying a series of decision rules based on the features of the data. The decision rules are based on maximizing the information gain of the dataset at each split.*\n",
        "\n",
        "*In Decision Tree Regressor, the target variable is split into a series of intervals, and the algorithm tries to minimize the variance within each interval. The splitting process continues until the desired level of accuracy is achieved or a stopping criterion is reached.*\n",
        "\n",
        "*The decision tree regressor is useful for non-linear datasets where the relationship between the features and the target variable is non-linear. It can handle missing data and categorical data as well. However, decision trees can easily overfit the training data, which can lead to poor generalization to new data. Therefore, pruning techniques such as maximum depth, minimum samples per leaf, and minimum impurity decrease can be used to prevent overfitting.*"
      ],
      "metadata": {
        "id": "uZ13uDfl73kY"
      }
    },
    {
      "cell_type": "code",
      "source": [
        "from sklearn.tree import DecisionTreeRegressor"
      ],
      "metadata": {
        "id": "6jrG825ZIMqX"
      },
      "execution_count": 44,
      "outputs": []
    },
    {
      "cell_type": "code",
      "source": [
        "# Create a Decision Tree Regressor instance\n",
        "dt = DecisionTreeRegressor(max_depth=5, random_state=42)\n",
        "\n",
        "# Fit the model on the training data\n",
        "dt.fit(x_train, y_train)\n",
        "\n",
        "# Make predictions on both training and test data\n",
        "y_train_pred = dt.predict(x_train)\n",
        "y_test_pred = dt.predict(x_test)\n",
        "\n",
        "# Evaluate the model on both training and test data\n",
        "dt_train_mae, dt_train_rmse, dt_train_r2 = evaluate_model(y_train, y_train_pred)\n",
        "dt_test_mae, dt_test_rmse, dt_test_r2 = evaluate_model(y_test, y_test_pred)\n",
        "dt_train_mse = mean_squared_error(y_train, y_train_pred)\n",
        "dt_test_mse = mean_squared_error(y_test, y_test_pred)\n"
      ],
      "metadata": {
        "id": "_fD_O6dRIM5N"
      },
      "execution_count": 45,
      "outputs": []
    },
    {
      "cell_type": "code",
      "source": [
        "# Print performance metrics for the training dataset\n",
        "print('Model performance for Training set')\n",
        "print(\"- Mean Squared Error: {:.4f}\".format(dt_train_mse))\n",
        "print(\"- Root Mean Squared Error: {:.4f}\".format(dt_train_rmse))\n",
        "print(\"- Mean Absolute Error: {:.4f}\".format(dt_train_mae))\n",
        "print(\"- R2 Score: {:.4f}\".format(dt_train_r2))\n",
        "print('----------------------------------')\n",
        "\n",
        "# Print performance metrics for the test dataset\n",
        "print('Model performance for Test set')\n",
        "print(\"- Mean Squared Error: {:.4f}\".format(dt_test_mse))\n",
        "print(\"- Root Mean Squared Error: {:.4f}\".format(dt_test_rmse))\n",
        "print(\"- Mean Absolute Error: {:.4f}\".format(dt_test_mae))\n",
        "print(\"- R2 Score: {:.4f}\".format(dt_test_r2))\n",
        "print('='*35)"
      ],
      "metadata": {
        "colab": {
          "base_uri": "https://localhost:8080/"
        },
        "id": "kICWCqX4INF8",
        "outputId": "c97f75e5-64ef-4359-b8c6-c4b18895c8dd"
      },
      "execution_count": 46,
      "outputs": [
        {
          "output_type": "stream",
          "name": "stdout",
          "text": [
            "Model performance for Training set\n",
            "- Mean Squared Error: 0.4152\n",
            "- Root Mean Squared Error: 0.6444\n",
            "- Mean Absolute Error: 0.4061\n",
            "- R2 Score: 0.4452\n",
            "----------------------------------\n",
            "Model performance for Test set\n",
            "- Mean Squared Error: 0.4537\n",
            "- Root Mean Squared Error: 0.6736\n",
            "- Mean Absolute Error: 0.4686\n",
            "- R2 Score: 0.3386\n",
            "===================================\n"
          ]
        }
      ]
    },
    {
      "cell_type": "markdown",
      "source": [
        "* The output shows the performance metrics of a Decision Tree Regressor model for both the training set and the test set. The Mean Squared Error (MSE), Root Mean Squared Error (RMSE), Mean Absolute Error (MAE), and R2 Score are provided.\n",
        "\n",
        "* For the training set, the MSE is 0.4152, which indicates that the average squared difference between the predicted and actual values is 0.4152. The RMSE is 0.6444, which indicates that the average difference between the predicted and actual values is 0.6444. The MAE is 0.4061, which indicates that the average absolute difference between the predicted and actual values is 0.4061. The R2 score is 0.4452, which indicates that 44.52% of the variance in the target variable is explained by the model.\n",
        "\n",
        "* For the test set, the MSE is 0.4537, which indicates that the average squared difference between the predicted and actual values is 0.4537. The RMSE is 0.6736, which indicates that the average difference between the predicted and actual values is 0.6736. The MAE is 0.4686, which indicates that the average absolute difference between the predicted and actual values is 0.4686. The R2 score is 0.3386, which indicates that 33.86% of the variance in the target variable is explained by the model.\n",
        "\n",
        "* Overall, the decision tree regressor model has a moderate performance in terms of accuracy, as the R2 score is relatively low for both the training and test sets.\n",
        "\n",
        "\n",
        "\n",
        "\n"
      ],
      "metadata": {
        "id": "0-tIT-1nH5BS"
      }
    },
    {
      "cell_type": "markdown",
      "source": [
        "# **Random forest Regressor**"
      ],
      "metadata": {
        "id": "IdGB5U6BJwF-"
      }
    },
    {
      "cell_type": "markdown",
      "source": [
        "*Random Forest Regressor is a type of ensemble learning algorithm used for regression tasks. It is an extension of the decision tree algorithm, which is known for its tendency to overfit. Random Forest Regressor mitigates this issue by creating multiple decision trees using bootstrapped samples of the training data and randomly selecting a subset of features for each tree.*\n",
        "\n",
        "*Each decision tree in a Random Forest Regressor is trained on a different subset of the data and a different subset of features. When making predictions, the algorithm aggregates the predictions from all the individual trees to arrive at a final prediction.*\n",
        "\n",
        "*This method provides several benefits over a single decision tree, including better performance, reduced overfitting, and the ability to handle both categorical and continuous data. Additionally, Random Forest Regressor provides feature importance scores, which can help in understanding the relative importance of each feature in the model.*"
      ],
      "metadata": {
        "id": "_o8LfISc8fzl"
      }
    },
    {
      "cell_type": "code",
      "source": [
        "from sklearn.ensemble import RandomForestRegressor"
      ],
      "metadata": {
        "id": "c88wDkK5Jwb1"
      },
      "execution_count": 47,
      "outputs": []
    },
    {
      "cell_type": "code",
      "source": [
        "rf = RandomForestRegressor(n_estimators=100, random_state=42)\n",
        "rf.fit(x_train, y_train)\n",
        "y_train_pred = rf.predict(x_train)\n",
        "y_test_pred = rf.predict(x_test)\n",
        "\n",
        "rf_train_mae, rf_train_rmse, rf_train_r2 = evaluate_model(y_train, y_train_pred)\n",
        "rf_test_mae, rf_test_rmse, rf_test_r2 = evaluate_model(y_test, y_test_pred)\n",
        "\n",
        "rf_train_mse = mean_squared_error(y_train, y_train_pred)\n",
        "rf_test_mse = mean_squared_error(y_test, y_test_pred)\n"
      ],
      "metadata": {
        "id": "JdhkNmA3Jwfx"
      },
      "execution_count": 48,
      "outputs": []
    },
    {
      "cell_type": "code",
      "source": [
        "# print performance metrics for the training dataset\n",
        "print('Model performance for Training set')\n",
        "print(\"- Mean Squared Error: {:.4f}\".format(rf_train_mse))\n",
        "print(\"- Root Mean Squared Error: {:.4f}\".format(rf_train_rmse))\n",
        "print(\"- Mean Absolute Error: {:.4f}\".format(rf_train_mae))\n",
        "print(\"- R2 Score: {:.4f}\".format(rf_train_r2))\n",
        "print('----------------------------------')\n",
        "\n",
        "# print performance metrics for the test dataset\n",
        "print('Model performance for Test set')\n",
        "print(\"- Mean Squared Error: {:.4f}\".format(rf_test_mse))\n",
        "print(\"- Root Mean Squared Error: {:.4f}\".format(rf_test_rmse))\n",
        "print(\"- Mean Absolute Error: {:.4f}\".format(rf_test_mae))\n",
        "print(\"- R2 Score: {:.4f}\".format(rf_test_r2))\n",
        "print('='*35)\n"
      ],
      "metadata": {
        "colab": {
          "base_uri": "https://localhost:8080/"
        },
        "id": "8siocSTFJwjV",
        "outputId": "6cd52c09-c3e6-4c02-82db-5b8549f3914f"
      },
      "execution_count": 49,
      "outputs": [
        {
          "output_type": "stream",
          "name": "stdout",
          "text": [
            "Model performance for Training set\n",
            "- Mean Squared Error: 0.0703\n",
            "- Root Mean Squared Error: 0.2652\n",
            "- Mean Absolute Error: 0.1653\n",
            "- R2 Score: 0.9060\n",
            "----------------------------------\n",
            "Model performance for Test set\n",
            "- Mean Squared Error: 0.3245\n",
            "- Root Mean Squared Error: 0.5696\n",
            "- Mean Absolute Error: 0.4149\n",
            "- R2 Score: 0.5270\n",
            "===================================\n"
          ]
        }
      ]
    },
    {
      "cell_type": "markdown",
      "source": [
        "* For the training set, the model achieved an MSE of 0.0703, indicating that on average, the predicted values deviated from the actual values by 0.0703. The RMSE of 0.2652 indicates that the predictions had an average error of 0.2652. The MAE of 0.1653 shows that the predicted values were, on average, off by 0.1653 from the actual values. The R2 Score of 0.9060 indicates that the model explains 90.60% of the variance in the target variable.\n",
        "\n",
        "* For the test set, the model achieved an MSE of 0.3245, which is higher than the training set MSE, indicating that the model is overfitting the training data. The RMSE of 0.5696 shows that the model's predictions had an average error of 0.5696. The MAE of 0.4149 indicates that the predicted values were, on average, off by 0.4149 from the actual values. The R2 Score of 0.5270 indicates that the model explains 52.70% of the variance in the target variable on the test set.\n",
        "\n",
        "* The model performance metrics show that the Random Forest Regressor performed very well on the training set, with a low Mean Squared Error, Root Mean Squared Error, and Mean Absolute Error, as well as a high R2 Score, indicating that the model can explain a significant amount of variance in the target variable. However, the performance on the test set is slightly worse, with higher errors and a lower R2 Score, indicating that the model may be overfitting to the training data.\n",
        "\n",
        "* Overall, Random Forest Regressor is a good choice for regression tasks, as it can handle large datasets with many features and can also capture nonlinear relationships between the features and the target variable. It can also provide useful information about feature importance and can help identify the most important features for making predictions.\n",
        "\n",
        "\n"
      ],
      "metadata": {
        "id": "8uNZywAOIO7Q"
      }
    },
    {
      "cell_type": "markdown",
      "source": [
        "# **XGB Regressor**"
      ],
      "metadata": {
        "id": "2u94Uz9cKEFJ"
      }
    },
    {
      "cell_type": "markdown",
      "source": [
        "*XGBoost (eXtreme Gradient Boosting) is a powerful gradient boosting machine learning algorithm designed for speed and performance. It is an ensemble learning method that combines multiple weak models to create a strong model.*\n",
        "\n",
        "*In XGBoost, decision trees are used as base learners. Unlike traditional gradient boosting, XGBoost uses a more regularized model formalization to control overfitting and increase accuracy. It also uses a custom loss function and a gradient descent optimization method for updating model parameters during the training process.*\n",
        "\n",
        "*XGBoost is known for its scalability and ability to handle large datasets with a high number of features. It is widely used in machine learning competitions and has been shown to achieve state-of-the-art performance on many benchmark datasets.*\n"
      ],
      "metadata": {
        "id": "SUz5qb_h8qYV"
      }
    },
    {
      "cell_type": "code",
      "source": [
        "from xgboost import XGBRegressor"
      ],
      "metadata": {
        "id": "p0j_FRcbKEUl"
      },
      "execution_count": 50,
      "outputs": []
    },
    {
      "cell_type": "code",
      "source": [
        "# Create an instance of XGBRegressor\n",
        "xgb_reg = XGBRegressor()\n",
        "\n",
        "# Train the model\n",
        "xgb_reg.fit(x_train, y_train)\n",
        "\n",
        "# Make predictions on train and test set\n",
        "y_train_pred = xgb_reg.predict(x_train)\n",
        "y_test_pred = xgb_reg.predict(x_test)\n",
        "\n",
        "# Evaluate performance on train and test set\n",
        "xgb_train_mae, xgb_train_rmse, xgb_train_r2 = evaluate_model(y_train, y_train_pred)\n",
        "xgb_test_mae, xgb_test_rmse, xgb_test_r2 = evaluate_model(y_test, y_test_pred)\n",
        "\n",
        "xgb_train_mse = mean_squared_error(y_train, y_train_pred)\n",
        "xgb_test_mse = mean_squared_error(y_test, y_test_pred)\n"
      ],
      "metadata": {
        "id": "pnZuWU56KEXN"
      },
      "execution_count": 51,
      "outputs": []
    },
    {
      "cell_type": "code",
      "source": [
        "# print performance metrics for the training dataset\n",
        "print('Model performance for Training set')\n",
        "print(\"- Mean Squared Error: {:.4f}\".format(xgb_train_mse))\n",
        "print(\"- Root Mean Squared Error: {:.4f}\".format(xgb_train_rmse))\n",
        "print(\"- Mean Absolute Error: {:.4f}\".format(xgb_train_mae))\n",
        "print(\"- R2 Score: {:.4f}\".format(xgb_train_r2))\n",
        "print('----------------------------------')\n",
        "\n",
        "# print performance metrics for the test dataset\n",
        "print('Model performance for Test set')\n",
        "print(\"- Mean Squared Error: {:.4f}\".format(xgb_test_mse))\n",
        "print(\"- Root Mean Squared Error: {:.4f}\".format(xgb_test_rmse))\n",
        "print(\"- Mean Absolute Error: {:.4f}\".format(xgb_test_mae))\n",
        "print(\"- R2 Score: {:.4f}\".format(xgb_test_r2))\n",
        "\n",
        "print('='*35)"
      ],
      "metadata": {
        "colab": {
          "base_uri": "https://localhost:8080/"
        },
        "id": "DSqpGK8bKEyB",
        "outputId": "a7c4d9cd-3bf8-4dae-8371-74c94bbdd161"
      },
      "execution_count": 52,
      "outputs": [
        {
          "output_type": "stream",
          "name": "stdout",
          "text": [
            "Model performance for Training set\n",
            "- Mean Squared Error: 0.0014\n",
            "- Root Mean Squared Error: 0.0380\n",
            "- Mean Absolute Error: 0.0243\n",
            "- R2 Score: 0.9981\n",
            "----------------------------------\n",
            "Model performance for Test set\n",
            "- Mean Squared Error: 0.3393\n",
            "- Root Mean Squared Error: 0.5825\n",
            "- Mean Absolute Error: 0.4455\n",
            "- R2 Score: 0.5055\n",
            "===================================\n"
          ]
        }
      ]
    },
    {
      "cell_type": "markdown",
      "source": [
        "* The XGBoost (Extreme Gradient Boosting) Regressor is a popular implementation of gradient boosting algorithm used for regression problems. It is an ensemble learning technique that combines multiple weak models to create a strong predictive model.\n",
        "\n",
        "* In the above output, we have the performance metrics for both the training and test datasets. The training set performance metrics include the mean squared error (MSE), root mean squared error (RMSE), mean absolute error (MAE), and R2 score. Similarly, the test set performance metrics include MSE, RMSE, MAE, and R2 score.\n",
        "\n",
        "* The performance on the training set is excellent, with a low MSE, RMSE, and MAE. The R2 score of 0.9981 indicates that the model explains 99.81% of the variance in the target variable in the training set.\n",
        "\n",
        "* On the other hand, the performance on the test set is not as good as the training set, but it is still relatively good. The MSE, RMSE, and MAE values are higher than the training set, indicating that the model is not performing as well on the unseen data. The R2 score of 0.5055 indicates that the model explains 50.55% of the variance in the target variable in the test set. Overall, XGB Regressor is a powerful model for regression tasks and can provide high accuracy results with proper tuning of hyperparameters.\n",
        "\n",
        "\n",
        "\n",
        "\n"
      ],
      "metadata": {
        "id": "wVwumAQOIdtf"
      }
    },
    {
      "cell_type": "markdown",
      "source": [
        "# **AdaBoost Regressor**"
      ],
      "metadata": {
        "id": "3tHV1clAKyUo"
      }
    },
    {
      "cell_type": "markdown",
      "source": [
        "*AdaBoostRegressor is a type of ensemble learning algorithm that combines multiple weak models to create a stronger model. The algorithm works by training a series of weak decision tree models sequentially, where each subsequent model tries to improve upon the mistakes made by the previous model. The final prediction is the weighted average of the predictions from all the models.*\n",
        "\n",
        "*During training, the algorithm assigns higher weights to the samples that were not predicted correctly in the previous model, and lower weights to the samples that were predicted correctly. This way, the subsequent models can focus on the samples that were difficult to predict and try to improve their prediction accuracy.*\n",
        "\n",
        "*The hyperparameters that can be tuned in AdaBoostRegressor include the number of weak models (n_estimators), the learning rate (learning_rate), and the maximum depth of the decision trees (max_depth). The algorithm is sensitive to noisy data and outliers, and may overfit if the number of weak models is too large.*"
      ],
      "metadata": {
        "id": "Y2qX9jDI84vD"
      }
    },
    {
      "cell_type": "code",
      "source": [
        "from sklearn.ensemble import AdaBoostRegressor\n",
        "from sklearn.metrics import mean_squared_error, mean_absolute_error, r2_score"
      ],
      "metadata": {
        "id": "q4lQd4lKKyip"
      },
      "execution_count": 53,
      "outputs": []
    },
    {
      "cell_type": "code",
      "source": [
        "# Create AdaBoost Regressor model and fit training data\n",
        "ada = AdaBoostRegressor(random_state=42)\n",
        "ada.fit(x_train, y_train)\n",
        "\n",
        "# Make predictions on training and test data\n",
        "y_train_pred = ada.predict(x_train)\n",
        "y_test_pred = ada.predict(x_test)\n",
        "\n",
        "# Evaluate model on training data\n",
        "ada_train_mse = mean_squared_error(y_train, y_train_pred)\n",
        "ada_train_mae = mean_absolute_error(y_train, y_train_pred)\n",
        "ada_train_rmse = mean_squared_error(y_train, y_train_pred, squared=False)\n",
        "ada_train_r2 = r2_score(y_train, y_train_pred)\n",
        "\n",
        "# Evaluate model on test data\n",
        "ada_test_mse = mean_squared_error(y_test, y_test_pred)\n",
        "ada_test_mae = mean_absolute_error(y_test, y_test_pred)\n",
        "ada_test_rmse = mean_squared_error(y_test, y_test_pred, squared=False)\n",
        "ada_test_r2 = r2_score(y_test, y_test_pred)"
      ],
      "metadata": {
        "id": "1xBPqtv7Kyk-"
      },
      "execution_count": 54,
      "outputs": []
    },
    {
      "cell_type": "code",
      "source": [
        "# Print performance metrics for training and test data\n",
        "print('Model performance for Training set')\n",
        "print(\"- Mean Squared Error: {:.4f}\".format(ada_train_mse))\n",
        "print(\"- Root Mean Squared Error: {:.4f}\".format(ada_train_rmse))\n",
        "print(\"- Mean Absolute Error: {:.4f}\".format(ada_train_mae))\n",
        "print(\"- R2 Score: {:.4f}\".format(ada_train_r2))\n",
        "print('----------------------------------')\n",
        "\n",
        "print('Model performance for Test set')\n",
        "print(\"- Mean Squared Error: {:.4f}\".format(ada_test_mse))\n",
        "print(\"- Root Mean Squared Error: {:.4f}\".format(ada_test_rmse))\n",
        "print(\"- Mean Absolute Error: {:.4f}\".format(ada_test_mae))\n",
        "print(\"- R2 Score: {:.4f}\".format(ada_test_r2))\n",
        "print('='*35)"
      ],
      "metadata": {
        "colab": {
          "base_uri": "https://localhost:8080/"
        },
        "id": "tqcs08gZKyow",
        "outputId": "f6b2eb5b-8807-4e05-d95e-e8eb815fffd4"
      },
      "execution_count": 55,
      "outputs": [
        {
          "output_type": "stream",
          "name": "stdout",
          "text": [
            "Model performance for Training set\n",
            "- Mean Squared Error: 0.4712\n",
            "- Root Mean Squared Error: 0.6864\n",
            "- Mean Absolute Error: 0.5898\n",
            "- R2 Score: 0.3704\n",
            "----------------------------------\n",
            "Model performance for Test set\n",
            "- Mean Squared Error: 0.4910\n",
            "- Root Mean Squared Error: 0.7007\n",
            "- Mean Absolute Error: 0.5778\n",
            "- R2 Score: 0.2843\n",
            "===================================\n"
          ]
        }
      ]
    },
    {
      "cell_type": "markdown",
      "source": [
        "* In this case, the model performance for the training set has an MSE of 0.4712, an RMSE of 0.6864, an MAE of 0.5898, and an R2 score of 0.3704. This means that the model is able to explain 37.04% of the variance in the training set. The performance of the model on the test set is also not too far off from the training set, with an MSE of 0.4910, an RMSE of 0.7007, an MAE of 0.5778, and an R2 score of 0.2843.\n",
        "\n",
        "* Overall, the performance of the AdaBoost Regressor is not very good in this case, as indicated by the relatively high errors and low R2 scores. It may be possible to improve the performance of the model by tuning the hyperparameters or using a different algorithm altogether."
      ],
      "metadata": {
        "id": "iLLBZz1bLm7m"
      }
    },
    {
      "cell_type": "markdown",
      "source": [
        "# **Visualizing The Outputs**"
      ],
      "metadata": {
        "id": "uQ1DeecpyD-r"
      }
    },
    {
      "cell_type": "code",
      "source": [
        "import numpy as np\n",
        "import matplotlib.pyplot as plt\n",
        "\n",
        "# Define performance metrics\n",
        "rmse_scores = [linear_test_rmse, lasso_test_rmse, ridge_test_rmse, knn_test_rmse, dt_test_rmse, rf_test_rmse, xgb_test_rmse, ada_test_rmse]\n",
        "mae_scores = [linear_test_mae, lasso_test_mae, ridge_test_mae, knn_test_mae, dt_test_mae, rf_test_mae, xgb_test_mae, ada_test_mae]\n",
        "mse_scores = [linear_test_mse, lasso_test_mse, ridge_test_mse, knn_test_mse, dt_test_mse, rf_test_mse, xgb_test_mse, ada_test_mse]\n",
        "\n",
        "# Define model names\n",
        "model_names = ['Linear Regression', 'Lasso', 'Ridge', 'KNN', 'Decision Tree', 'Random Forest', 'XGBoost', 'AdaBoost']\n",
        "\n",
        "# Set figure size and create subplots\n",
        "fig, ax = plt.subplots(figsize=(12, 6))\n",
        "\n",
        "# Set bar width and position\n",
        "bar_width = 0.2\n",
        "x_pos = np.arange(len(model_names))\n",
        "\n",
        "# Plot bars for RMSE scores\n",
        "ax.bar(x_pos - bar_width, rmse_scores, width=bar_width, label='RMSE')\n",
        "\n",
        "# Plot bars for MAE scores\n",
        "ax.bar(x_pos, mae_scores, width=bar_width, label='MAE')\n",
        "\n",
        "# Plot bars for MSE scores\n",
        "ax.bar(x_pos + bar_width, mse_scores, width=bar_width, label='MSE')\n",
        "\n",
        "# Set x-axis ticks and labels\n",
        "ax.set_xticks(x_pos)\n",
        "ax.set_xticklabels(model_names)\n",
        "\n",
        "# Set y-axis label\n",
        "ax.set_ylabel('Score')\n",
        "\n",
        "# Set plot title\n",
        "ax.set_title('Model Performance Comparison')\n",
        "\n",
        "# Set legend\n",
        "ax.legend()\n",
        "\n",
        "# Display the plot\n",
        "plt.show()\n"
      ],
      "metadata": {
        "colab": {
          "base_uri": "https://localhost:8080/",
          "height": 545
        },
        "id": "IbvbnKfIMhBk",
        "outputId": "1dcdba61-ebb9-4041-f586-b80e6fbbd0ba"
      },
      "execution_count": 56,
      "outputs": [
        {
          "output_type": "display_data",
          "data": {
            "text/plain": [
              "<Figure size 1200x600 with 1 Axes>"
            ],
            "image/png": "[encoded data removed]"
          },
          "metadata": {}
        }
      ]
    },
    {
      "cell_type": "markdown",
      "source": [
        "The code defines performance metrics (RMSE, MAE, MSE) and model names for several regression models, and then plots the scores for each metric for each model in a bar graph using Matplotlib. The x-axis shows the model names, while the y-axis shows the score for each metric. The legend shows which bar corresponds to which metric. This allows for easy comparison of the performance of different regression models."
      ],
      "metadata": {
        "id": "aJZppQAm9Kga"
      }
    },
    {
      "cell_type": "code",
      "source": [
        "import matplotlib.pyplot as plt\n",
        "import numpy as np\n",
        "\n",
        "# Define R2 scores\n",
        "r2_scores = [linear_test_r2, lasso_test_r2, ridge_test_r2, knn_test_r2, dt_test_r2, rf_test_r2, xgb_test_r2, ada_test_r2]\n",
        "\n",
        "# Define model names\n",
        "model_names = ['Linear Regression', 'Lasso', 'Ridge', 'KNN', 'Decision Tree', 'Random Forest', 'XGBoost', 'AdaBoost']\n",
        "\n",
        "# Define x-axis positions\n",
        "x_pos = np.arange(len(model_names))\n",
        "\n",
        "# Create bar chart\n",
        "plt.bar(x_pos, r2_scores, align='center', alpha=0.8)\n",
        "\n",
        "# Set x-axis labels and title\n",
        "plt.xticks(x_pos, model_names, rotation=45)\n",
        "plt.xlabel('Model')\n",
        "plt.ylabel('R2 Score')\n",
        "plt.title('Comparison of R2 Scores for Different Models')\n",
        "\n",
        "# Show plot\n",
        "plt.show()\n"
      ],
      "metadata": {
        "colab": {
          "base_uri": "https://localhost:8080/",
          "height": 801
        },
        "id": "QGY1ATYYU8C7",
        "outputId": "b202dad3-478b-4d76-9b53-439b1851cd04"
      },
      "execution_count": 57,
      "outputs": [
        {
          "output_type": "display_data",
          "data": {
            "text/plain": [
              "<Figure size 1200x800 with 1 Axes>"
            ],
            "image/png": "[encoded data removed]"
          },
          "metadata": {}
        }
      ]
    },
    {
      "cell_type": "markdown",
      "source": [
        "The code defines a bar chart that compares the R2 scores of different regression models, including Linear Regression, Lasso, Ridge, KNN, Decision Tree, Random Forest, XGBoost, and AdaBoost. The x-axis shows the model names and the y-axis shows the R2 scores. The chart is created using the plt.bar function from the matplotlib library. The bar chart allows for easy comparison of the R2 scores among different models, helping to identify which models perform better than others. The plt.xticks function sets the x-axis labels to the model names and rotates them by 45 degrees for better visibility. The plot is shown using the plt.show function."
      ],
      "metadata": {
        "id": "BQErU2AL9j0-"
      }
    },
    {
      "cell_type": "markdown",
      "source": [
        "## Comparison between the most accurate and the least accurate model"
      ],
      "metadata": {
        "id": "8AZGTxRmyg0n"
      }
    },
    {
      "cell_type": "code",
      "source": [
        "sns.regplot(x=y_test,y=rf.predict(x_test),ci=None,color ='blue');\n",
        "sns.regplot(x=y_test,y=linear_model.predict(x_test),ci=None,color ='orange');"
      ],
      "metadata": {
        "id": "jRTFtJC3yhJl",
        "colab": {
          "base_uri": "https://localhost:8080/",
          "height": 696
        },
        "outputId": "09ea7c16-6b8e-420e-bcd7-790b1b30bf4f"
      },
      "execution_count": 58,
      "outputs": [
        {
          "output_type": "display_data",
          "data": {
            "text/plain": [
              "<Figure size 1200x800 with 1 Axes>"
            ],
            "image/png": "[encoded data removed]"
          },
          "metadata": {}
        }
      ]
    },
    {
      "cell_type": "markdown",
      "source": [
        "The code generates a scatter plot with two regression lines, one for the predicted values using a random forest regressor and another for the predicted values using a linear regression model. The color blue represents the random forest regressor's predictions, while the color orange represents the linear regression model's predictions.\n",
        "\n",
        "Comparing this plot with the previous plots of the two models separately, you can see the predicted values of both models on the same plot, making it easier to compare the performance of the two models. The plot shows how closely the predicted values of the two models align with the actual values (represented by the x-axis).\n",
        "\n",
        "If the predicted values of the two models are close to each other and to the actual values, it suggests that both models are performing well. If the predicted values of one model are closer to the actual values than the other, it suggests that one model is outperforming the other.\n",
        "\n",
        "Overall, this plot helps you to compare the performance of the random forest regressor and linear regression model side by side, which can aid in selecting the best model for your particular problem."
      ],
      "metadata": {
        "id": "bgfwcLgByhul"
      }
    },
    {
      "cell_type": "markdown",
      "source": [
        "# Compare Regression on the basis of R2 Scores"
      ],
      "metadata": {
        "id": "AhBXDioo1vuv"
      }
    },
    {
      "cell_type": "code",
      "source": [
        "# Define performance metric\n",
        "r2_scores = [linear_test_r2, lasso_test_r2, ridge_test_r2, knn_test_r2, dt_test_r2, rf_test_r2, xgb_test_r2, ada_test_r2]\n",
        "\n",
        "# Define model names\n",
        "model_names = ['Linear Regression', 'Lasso', 'Ridge', 'KNN', 'Decision Tree', 'Random Forest', 'XGBoost', 'AdaBoost']\n",
        "\n",
        "# Create a dictionary with model names and corresponding R2 scores\n",
        "model_r2_dict = dict(zip(model_names, r2_scores))\n",
        "\n",
        "# Create a pandas dataframe from the dictionary\n",
        "model_r2_df = pd.DataFrame(list(model_r2_dict.items()), columns=['Model Name', 'R2_Score'])\n",
        "\n",
        "# Sort the dataframe by R2 score in descending order\n",
        "model_r2_df = model_r2_df.sort_values(by='R2_Score', ascending=False)\n"
      ],
      "metadata": {
        "id": "wdVjEFqdeAzI"
      },
      "execution_count": 59,
      "outputs": []
    },
    {
      "cell_type": "markdown",
      "source": [
        "This code snippet creates a dictionary of model names and their corresponding R2 scores, then converts it into a pandas dataframe and sorts the dataframe by the R2 scores in descending order. The resulting dataframe shows the model names and their corresponding R2 scores in order of best to worst performing models. This allows for easy comparison and identification of the best performing model."
      ],
      "metadata": {
        "id": "2UrU0_QN-U_l"
      }
    },
    {
      "cell_type": "code",
      "source": [
        "print(model_r2_df)"
      ],
      "metadata": {
        "colab": {
          "base_uri": "https://localhost:8080/"
        },
        "id": "U1b4Xk5p3be-",
        "outputId": "349d57ba-abee-4cca-b7ee-8b4f1bbf31a9"
      },
      "execution_count": 60,
      "outputs": [
        {
          "output_type": "stream",
          "name": "stdout",
          "text": [
            "          Model Name  R2_Score\n",
            "5      Random Forest  0.527007\n",
            "6            XGBoost  0.505453\n",
            "4      Decision Tree  0.338604\n",
            "7           AdaBoost  0.284278\n",
            "3                KNN  0.126237\n",
            "1              Lasso  0.120936\n",
            "2              Ridge  0.102327\n",
            "0  Linear Regression  0.102325\n"
          ]
        }
      ]
    },
    {
      "cell_type": "markdown",
      "source": [
        "* This output shows the R2 score of various regression models for the given dataset, sorted in descending order. The R2 score is a measure of how well the regression model fits the data, with a value of 1 indicating a perfect fit and a value of 0 indicating a model that is no better than using the mean value of the target variable.\n",
        "\n",
        "# **Conclusion:**\n",
        "* The random forest model had the highest R2 score of 0.527, indicating that it fit the data the best among the models tested. The XGBoost model had the second highest R2 score of 0.505, followed by the decision tree model with an R2 score of 0.339. The AdaBoost model had an R2 score of 0.284, indicating a moderate fit, while the KNN, Lasso, Ridge, and linear regression models had lower R2 scores of 0.126, 0.121, 0.102, and 0.102 respectively.\n",
        "\n",
        "* Overall, the random forest and XGBoost models appear to have the best fit for the given dataset based on the R2 scores."
      ],
      "metadata": {
        "id": "mmyk0gZXhQW-"
      }
    },
    {
      "cell_type": "markdown",
      "source": [
        "# **Advantages And Limitations**\n",
        "\n",
        "\n",
        "## 1. Linear Regression:\n",
        "* Advantages:\n",
        "  * Simple to implement and easy to interpret.\n",
        "  * It works well when there is a linear relationship between the independent and dependent variables.\n",
        "* Limitations:\n",
        "  * It assumes that there is a linear relationship between the independent and dependent variables.\n",
        "  * It is sensitive to outliers and can be affected by multicollinearity.\n",
        "\n",
        "## 2. Lasso Regression:\n",
        "* Advantages:\n",
        "  * Helps to prevent overfitting by reducing the complexity of the model.\n",
        "  * Can be used to select the most important features in a dataset.\n",
        "* Limitations:\n",
        "  * Can be sensitive to the scale of the variables.\n",
        "  * It may not work well when there is a large number of variables.\n",
        "\n",
        "## 3.Ridge Regression:\n",
        "* Advantages:\n",
        "  * Helps to prevent overfitting by reducing the complexity of the model.\n",
        "  * It works well when there is a high degree of multicollinearity between the independent variables.\n",
        "* Limitations:\n",
        "  * It can be sensitive to the scale of the variables.\n",
        "  * It may not work well when there are a large number of variables.\n",
        "\n",
        "## 4.K-Neighbors Regressor:\n",
        "* Advantages:\n",
        "  * It is a non-parametric method and does not make any assumptions about the data distribution.\n",
        "  * It works well when the relationship between the independent and dependent variables is nonlinear.\n",
        "* Limitations:\n",
        "  * It is computationally expensive when there is a large number of observations in the dataset.\n",
        "  * It can be sensitive to the choice of k-value.\n",
        "\n",
        "## 5. Decision Tree:\n",
        "* Advantages:\n",
        "  * Easy to understand and interpret.\n",
        "  * It can capture nonlinear relationships between the independent and dependent variables.\n",
        "* Limitations:\n",
        "  * Can easily overfit the training data.\n",
        "  * Can be unstable and sensitive to small variations in the data.\n",
        "\n",
        "## 6. Random Forest Regressor:\n",
        "* Advantages:\n",
        "  * Helps to prevent overfitting by combining multiple decision trees.\n",
        "  * It can handle a large number of variables and observations.\n",
        "* Limitations:\n",
        "  * It can be slow to train and may require a large amount of memory.\n",
        "  * It can be difficult to interpret the results.\n",
        "\n",
        "## 7. XGBRegressor:\n",
        "* Advantages:\n",
        "  * It is a powerful ensemble learning technique that can handle a large number of variables and observations.\n",
        "  * It is known for its high predictive accuracy.\n",
        "* Limitations:\n",
        "  * It can be sensitive to the choice of hyperparameters.\n",
        "  * It can be computationally expensive to train.\n",
        "\n",
        "## 8. AdaBoost Regressor:\n",
        "* Advantages:\n",
        "  * Helps to improve the accuracy of the model by combining multiple weak learners.\n",
        "  * It can handle a large number of variables and observations.\n",
        "* Limitations:\n",
        "  * It can be sensitive to noisy data.\n",
        "  * It can be computationally expensive to train.\n",
        "\n",
        "Overall, the choice of regression technique depends on the specific characteristics of the dataset and the research question being asked. Each technique has its own advantages and limitations, and it is important to carefully consider these when selecting an appropriate method."
      ],
      "metadata": {
        "id": "7cN9Qa4D6jWP"
      }
    },
    {
      "cell_type": "markdown",
      "source": [
        "**References:**\n",
        "\n",
        "* Scikit-learn documentation: https://scikit-learn.org/stable/documentation.html\n",
        "* XGBoost documentation: https://xgboost.readthedocs.io/en/latest/index.html\n",
        "* Seaborn documentation: https://seaborn.pydata.org/\n",
        "* Python documentation: https://docs.python.org/\n",
        "* Towards Data Science: https://towardsdatascience.com/\n",
        "* Analytics Vidhya: https://www.analyticsvidhya.com/\n",
        "* Machine Learning Mastery: https://machinelearningmastery.com/"
      ],
      "metadata": {
        "id": "VlTOBLyNI6F2"
      }
    }
  ],
  "metadata": {
    "colab": {
      "provenance": []
    },
    "gpuClass": "standard",
    "kernelspec": {
      "display_name": "Python 3",
      "name": "python3"
    },
    "language_info": {
      "name": "python"
    }
  },
  "nbformat": 4,
  "nbformat_minor": 0
}