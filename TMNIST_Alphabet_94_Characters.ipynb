{
  "nbformat": 4,
  "nbformat_minor": 0,
  "metadata": {
    "colab": {
      "provenance": []
    },
    "kernelspec": {
      "name": "python3",
      "display_name": "Python 3"
    },
    "language_info": {
      "name": "python"
    },
    "accelerator": "GPU",
    "gpuClass": "standard"
  },
  "cells": [
    {
      "cell_type": "markdown",
      "source": [
        "# **TMNIST Alphabet (94 characters) 94.11% Accuracy**\n"
      ],
      "metadata": {
        "id": "72R6tF7Jr4yo"
      }
    },
    {
      "cell_type": "markdown",
      "source": [
        "# Abstract\n",
        "\n",
        "The TMNIST dataset is a benchmark dataset of handwritten Thai numerals that is commonly used in the field of machine learning for image classification tasks. It consists of a set of 60,000 training images and 10,000 test images of size 28x28 pixels, each representing a handwritten Thai numeral from 0 to 9. The dataset was created as an extension of the MNIST dataset, which is a similar dataset of handwritten digits in English. The Tmnist dataset was introduced to enable researchers and practitioners to develop machine learning algorithms for recognizing handwritten Thai numerals, which is an important task for many applications in Thailand. The dataset is publicly available and can be used for both academic and commercial purposes, with the aim of advancing the development of image classification models for Thai characters.\n",
        "\n",
        "\"Deep learning has been revolutionizing the field of computer vision, and Convolutional Neural Networks (CNNs) have been one of the most popular architectures for image recognition tasks.\"\n",
        "\n",
        "Kaggle Link: https://www.kaggle.com/code/sheshngupta/tminst-character-recognition-94-4-accuracy"
      ],
      "metadata": {
        "id": "1KUNm873rK20"
      }
    },
    {
      "cell_type": "markdown",
      "source": [
        "## Importing libraries"
      ],
      "metadata": {
        "id": "HizV7uTQGg2F"
      }
    },
    {
      "cell_type": "code",
      "source": [
        "import numpy as np \n",
        "import pandas as pd \n",
        "import re\n",
        "\n",
        "from sklearn.model_selection import train_test_split\n",
        "from sklearn.utils import shuffle\n",
        "\n",
        "import tensorflow as tf \n",
        "from tensorflow.keras.utils import to_categorical\n",
        "\n",
        "import matplotlib.pyplot as plt\n",
        "import warnings\n",
        "warnings.filterwarnings('ignore')\n",
        "%matplotlib inline\n",
        "\n",
        "import numpy as np # linear algebra\n",
        "import pandas as pd # data processing, CSV file I/O (e.g. pd.read_csv)\n",
        "from sklearn.model_selection import train_test_split\n",
        "from sklearn.preprocessing import LabelBinarizer\n",
        "import tensorflow as tf\n",
        "from tensorflow.keras.models import Sequential\n",
        "from tensorflow.keras.layers import Dense, Dropout, Flatten, Conv2D, MaxPooling2D, SimpleRNN\n",
        "from tensorflow.keras.callbacks import EarlyStopping\n",
        "from sklearn.metrics import roc_auc_score, accuracy_score"
      ],
      "metadata": {
        "id": "VkIHaUgpEHNn"
      },
      "execution_count": 1,
      "outputs": []
    },
    {
      "cell_type": "markdown",
      "source": [
        "# Import Kaggle Dataset"
      ],
      "metadata": {
        "id": "X5a15bzipUpf"
      }
    },
    {
      "cell_type": "code",
      "execution_count": 2,
      "metadata": {
        "id": "uHmZIKiePUY6"
      },
      "outputs": [],
      "source": [
        "#import kaggle\n",
        "! pip install -q kaggle"
      ]
    },
    {
      "cell_type": "code",
      "source": [
        "from google.colab import files\n",
        "files.upload()"
      ],
      "metadata": {
        "id": "wZT32yPYlASn",
        "colab": {
          "base_uri": "https://localhost:8080/",
          "height": 91
        },
        "outputId": "6af7456c-35a4-442f-b04d-613a6e252c8e"
      },
      "execution_count": 3,
      "outputs": [
        {
          "output_type": "display_data",
          "data": {
            "text/plain": [
              "<IPython.core.display.HTML object>"
            ],
            "text/html": [
              "\n",
              "     <input type=\"file\" id=\"files-07272f70-34de-4873-b300-cbb8cdcaa973\" name=\"files[]\" multiple disabled\n",
              "        style=\"border:none\" />\n",
              "     <output id=\"result-07272f70-34de-4873-b300-cbb8cdcaa973\">\n",
              "      Upload widget is only available when the cell has been executed in the\n",
              "      current browser session. Please rerun this cell to enable.\n",
              "      </output>\n",
              "      <script>// Copyright 2017 Google LLC\n",
              "//\n",
              "// Licensed under the Apache License, Version 2.0 (the \"License\");\n",
              "// you may not use this file except in compliance with the License.\n",
              "// You may obtain a copy of the License at\n",
              "//\n",
              "//      http://www.apache.org/licenses/LICENSE-2.0\n",
              "//\n",
              "// Unless required by applicable law or agreed to in writing, software\n",
              "// distributed under the License is distributed on an \"AS IS\" BASIS,\n",
              "// WITHOUT WARRANTIES OR CONDITIONS OF ANY KIND, either express or implied.\n",
              "// See the License for the specific language governing permissions and\n",
              "// limitations under the License.\n",
              "\n",
              "/**\n",
              " * @fileoverview Helpers for google.colab Python module.\n",
              " */\n",
              "(function(scope) {\n",
              "function span(text, styleAttributes = {}) {\n",
              "  const element = document.createElement('span');\n",
              "  element.textContent = text;\n",
              "  for (const key of Object.keys(styleAttributes)) {\n",
              "    element.style[key] = styleAttributes[key];\n",
              "  }\n",
              "  return element;\n",
              "}\n",
              "\n",
              "// Max number of bytes which will be uploaded at a time.\n",
              "const MAX_PAYLOAD_SIZE = 100 * 1024;\n",
              "\n",
              "function _uploadFiles(inputId, outputId) {\n",
              "  const steps = uploadFilesStep(inputId, outputId);\n",
              "  const outputElement = document.getElementById(outputId);\n",
              "  // Cache steps on the outputElement to make it available for the next call\n",
              "  // to uploadFilesContinue from Python.\n",
              "  outputElement.steps = steps;\n",
              "\n",
              "  return _uploadFilesContinue(outputId);\n",
              "}\n",
              "\n",
              "// This is roughly an async generator (not supported in the browser yet),\n",
              "// where there are multiple asynchronous steps and the Python side is going\n",
              "// to poll for completion of each step.\n",
              "// This uses a Promise to block the python side on completion of each step,\n",
              "// then passes the result of the previous step as the input to the next step.\n",
              "function _uploadFilesContinue(outputId) {\n",
              "  const outputElement = document.getElementById(outputId);\n",
              "  const steps = outputElement.steps;\n",
              "\n",
              "  const next = steps.next(outputElement.lastPromiseValue);\n",
              "  return Promise.resolve(next.value.promise).then((value) => {\n",
              "    // Cache the last promise value to make it available to the next\n",
              "    // step of the generator.\n",
              "    outputElement.lastPromiseValue = value;\n",
              "    return next.value.response;\n",
              "  });\n",
              "}\n",
              "\n",
              "/**\n",
              " * Generator function which is called between each async step of the upload\n",
              " * process.\n",
              " * @param {string} inputId Element ID of the input file picker element.\n",
              " * @param {string} outputId Element ID of the output display.\n",
              " * @return {!Iterable<!Object>} Iterable of next steps.\n",
              " */\n",
              "function* uploadFilesStep(inputId, outputId) {\n",
              "  const inputElement = document.getElementById(inputId);\n",
              "  inputElement.disabled = false;\n",
              "\n",
              "  const outputElement = document.getElementById(outputId);\n",
              "  outputElement.innerHTML = '';\n",
              "\n",
              "  const pickedPromise = new Promise((resolve) => {\n",
              "    inputElement.addEventListener('change', (e) => {\n",
              "      resolve(e.target.files);\n",
              "    });\n",
              "  });\n",
              "\n",
              "  const cancel = document.createElement('button');\n",
              "  inputElement.parentElement.appendChild(cancel);\n",
              "  cancel.textContent = 'Cancel upload';\n",
              "  const cancelPromise = new Promise((resolve) => {\n",
              "    cancel.onclick = () => {\n",
              "      resolve(null);\n",
              "    };\n",
              "  });\n",
              "\n",
              "  // Wait for the user to pick the files.\n",
              "  const files = yield {\n",
              "    promise: Promise.race([pickedPromise, cancelPromise]),\n",
              "    response: {\n",
              "      action: 'starting',\n",
              "    }\n",
              "  };\n",
              "\n",
              "  cancel.remove();\n",
              "\n",
              "  // Disable the input element since further picks are not allowed.\n",
              "  inputElement.disabled = true;\n",
              "\n",
              "  if (!files) {\n",
              "    return {\n",
              "      response: {\n",
              "        action: 'complete',\n",
              "      }\n",
              "    };\n",
              "  }\n",
              "\n",
              "  for (const file of files) {\n",
              "    const li = document.createElement('li');\n",
              "    li.append(span(file.name, {fontWeight: 'bold'}));\n",
              "    li.append(span(\n",
              "        `(${file.type || 'n/a'}) - ${file.size} bytes, ` +\n",
              "        `last modified: ${\n",
              "            file.lastModifiedDate ? file.lastModifiedDate.toLocaleDateString() :\n",
              "                                    'n/a'} - `));\n",
              "    const percent = span('0% done');\n",
              "    li.appendChild(percent);\n",
              "\n",
              "    outputElement.appendChild(li);\n",
              "\n",
              "    const fileDataPromise = new Promise((resolve) => {\n",
              "      const reader = new FileReader();\n",
              "      reader.onload = (e) => {\n",
              "        resolve(e.target.result);\n",
              "      };\n",
              "      reader.readAsArrayBuffer(file);\n",
              "    });\n",
              "    // Wait for the data to be ready.\n",
              "    let fileData = yield {\n",
              "      promise: fileDataPromise,\n",
              "      response: {\n",
              "        action: 'continue',\n",
              "      }\n",
              "    };\n",
              "\n",
              "    // Use a chunked sending to avoid message size limits. See b/62115660.\n",
              "    let position = 0;\n",
              "    do {\n",
              "      const length = Math.min(fileData.byteLength - position, MAX_PAYLOAD_SIZE);\n",
              "      const chunk = new Uint8Array(fileData, position, length);\n",
              "      position += length;\n",
              "\n",
              "      const base64 = btoa(String.fromCharCode.apply(null, chunk));\n",
              "      yield {\n",
              "        response: {\n",
              "          action: 'append',\n",
              "          file: file.name,\n",
              "          data: base64,\n",
              "        },\n",
              "      };\n",
              "\n",
              "      let percentDone = fileData.byteLength === 0 ?\n",
              "          100 :\n",
              "          Math.round((position / fileData.byteLength) * 100);\n",
              "      percent.textContent = `${percentDone}% done`;\n",
              "\n",
              "    } while (position < fileData.byteLength);\n",
              "  }\n",
              "\n",
              "  // All done.\n",
              "  yield {\n",
              "    response: {\n",
              "      action: 'complete',\n",
              "    }\n",
              "  };\n",
              "}\n",
              "\n",
              "scope.google = scope.google || {};\n",
              "scope.google.colab = scope.google.colab || {};\n",
              "scope.google.colab._files = {\n",
              "  _uploadFiles,\n",
              "  _uploadFilesContinue,\n",
              "};\n",
              "})(self);\n",
              "</script> "
            ]
          },
          "metadata": {}
        },
        {
          "output_type": "stream",
          "name": "stdout",
          "text": [
            "Saving kaggle.json to kaggle.json\n"
          ]
        },
        {
          "output_type": "execute_result",
          "data": {
            "text/plain": [
              "{'kaggle.json': b'{\"username\":\"sameernimse\",\"key\":\"ae195b010310cbf5245e1ad1435ec1c2\"}'}"
            ]
          },
          "metadata": {},
          "execution_count": 3
        }
      ]
    },
    {
      "cell_type": "code",
      "source": [
        "# create kaggle folder\n",
        "! mkdir ~/.kaggle"
      ],
      "metadata": {
        "id": "XMezW_XFlIy1"
      },
      "execution_count": 4,
      "outputs": []
    },
    {
      "cell_type": "code",
      "source": [
        "# ls -ld /root/.kaggle"
      ],
      "metadata": {
        "id": "j_NZipBucVFz"
      },
      "execution_count": 5,
      "outputs": []
    },
    {
      "cell_type": "code",
      "source": [
        "# copy kaggle.json to folder created\n",
        "! cp kaggle.json ~/.kaggle/"
      ],
      "metadata": {
        "id": "lKuGf82ulfSX"
      },
      "execution_count": 6,
      "outputs": []
    },
    {
      "cell_type": "code",
      "source": [
        "# permission for json to act\n",
        "! chmod 600 ~/.kaggle/kaggle.json"
      ],
      "metadata": {
        "id": "mFV2OeqLlogG"
      },
      "execution_count": 7,
      "outputs": []
    },
    {
      "cell_type": "code",
      "source": [
        "# list all datasets in kaggle.json\n",
        "! kaggle datasets list"
      ],
      "metadata": {
        "id": "Jw925B53l-aZ",
        "colab": {
          "base_uri": "https://localhost:8080/"
        },
        "outputId": "8b6ecfb3-eed0-434c-baf6-7b889ccec086"
      },
      "execution_count": 8,
      "outputs": [
        {
          "output_type": "stream",
          "name": "stdout",
          "text": [
            "ref                                                               title                                              size  lastUpdated          downloadCount  voteCount  usabilityRating  \n",
            "----------------------------------------------------------------  ------------------------------------------------  -----  -------------------  -------------  ---------  ---------------  \n",
            "salvatorerastelli/spotify-and-youtube                             Spotify and Youtube                                 9MB  2023-03-20 15:43:25           7059        264  1.0              \n",
            "ppb00x/country-gdp                                                Country_GDP                                         7KB  2023-04-07 06:47:36            718         26  1.0              \n",
            "erdemtaha/cancer-data                                             Cancer Data                                        49KB  2023-03-22 07:57:00           2695         69  1.0              \n",
            "omartorres25/honda-data                                           Honda Cars Data                                   184KB  2023-03-28 04:19:11            777         21  1.0              \n",
            "lokeshparab/amazon-products-dataset                               Amazon Products Sales Dataset 2023                 80MB  2023-03-26 10:45:19           3103         71  1.0              \n",
            "ulrikthygepedersen/fastfood-nutrition                             Fastfood Nutrition                                 12KB  2023-03-21 10:02:41           2700         60  1.0              \n",
            "rkiattisak/student-performance-in-mathematics                     Student performance prediction                      9KB  2023-03-12 04:32:56           8100        172  1.0              \n",
            "ppb00x/credit-risk-customers                                      credit_risk_customers                              18KB  2023-04-12 08:28:28            804         23  1.0              \n",
            "arnabchaki/data-science-salaries-2023                             Data Science Salaries 2023  💸                      25KB  2023-04-13 09:55:16            619         27  1.0              \n",
            "kapturovalexander/nvidia-amd-intel-asus-msi-share-prices          NVIDIA, AMD, Intel, ASUS, MSI share prices (GPU)  902KB  2023-04-13 12:15:18            314         26  1.0              \n",
            "ashishraut64/internet-users                                       Global Internet users                             163KB  2023-03-29 12:25:13           1842         51  1.0              \n",
            "rkiattisak/smart-watch-prices                                     Smart Watch prices                                  5KB  2023-04-12 06:04:23            457         22  1.0              \n",
            "arnabchaki/popular-video-games-1980-2023                          Popular Video Games 1980 - 2023 🎮                   1MB  2023-03-23 16:16:51           3446        101  1.0              \n",
            "ashishraut64/global-methane-emissions                             Global Emissions.                                  31KB  2023-03-27 09:02:51           2500         52  1.0              \n",
            "tayyarhussain/best-selling-game-consoles-of-all-time              Best-Selling Gaming Consoles Dataset                1KB  2023-04-01 10:59:00            664         22  1.0              \n",
            "shrutiambekar/smartphone-specifications-and-prices-in-india       Smartphone Specifications and Prices in India      36KB  2023-04-13 06:13:13            318         21  1.0              \n",
            "kapturovalexander/bitcoin-and-ethereum-prices-from-start-to-2023  Bitcoin & Ethereum prices (from start to 2023)    149KB  2023-04-09 06:07:57            726         29  1.0              \n",
            "r1chardson/the-world-university-rankings-2011-2023                THE World University Rankings 2011-2023             1MB  2023-04-03 12:43:37           1587         40  1.0              \n",
            "dgoenrique/netflix-movies-and-tv-shows                            Netflix Movies and TV Shows                         2MB  2023-03-13 18:49:00           3638         87  1.0              \n",
            "dansbecker/melbourne-housing-snapshot                             Melbourne Housing Snapshot                        451KB  2018-06-05 12:52:24         112716       1246  0.7058824        \n"
          ]
        }
      ]
    },
    {
      "cell_type": "code",
      "source": [
        "! kaggle datasets download -d nikbearbrown/tmnist-alphabet-94-characters"
      ],
      "metadata": {
        "id": "0dJcRChIBKsY",
        "colab": {
          "base_uri": "https://localhost:8080/"
        },
        "outputId": "550ff436-ab25-4bd0-caac-465642bc7224"
      },
      "execution_count": 9,
      "outputs": [
        {
          "output_type": "stream",
          "name": "stdout",
          "text": [
            "Downloading tmnist-alphabet-94-characters.zip to /content\n",
            " 89% 75.0M/84.7M [00:00<00:00, 134MB/s]\n",
            "100% 84.7M/84.7M [00:00<00:00, 133MB/s]\n"
          ]
        }
      ]
    },
    {
      "cell_type": "code",
      "source": [
        "! unzip \\*.zip"
      ],
      "metadata": {
        "colab": {
          "base_uri": "https://localhost:8080/"
        },
        "id": "Bjz5nOe8C7F6",
        "outputId": "d8f420f4-643d-48c3-c85a-64144862142f"
      },
      "execution_count": 10,
      "outputs": [
        {
          "output_type": "stream",
          "name": "stdout",
          "text": [
            "Archive:  tmnist-alphabet-94-characters.zip\n",
            "  inflating: 94_character_TMNIST.csv  \n"
          ]
        }
      ]
    },
    {
      "cell_type": "code",
      "source": [
        "df = pd.read_csv('94_character_TMNIST.csv')\n",
        "df.head()"
      ],
      "metadata": {
        "colab": {
          "base_uri": "https://localhost:8080/",
          "height": 235
        },
        "id": "DIDkfn60Dn2G",
        "outputId": "aaebb115-264e-4971-a081-32cbbde4b83e"
      },
      "execution_count": 11,
      "outputs": [
        {
          "output_type": "execute_result",
          "data": {
            "text/plain": [
              "                  names labels    1    2    3    4    5    6    7    8  ...  \\\n",
              "0         Salsa-Regular      6  0.0  0.0  0.0  0.0  0.0  0.0  0.0  0.0  ...   \n",
              "1  MouseMemoirs-Regular      D  0.0  0.0  0.0  0.0  0.0  0.0  0.0  0.0  ...   \n",
              "2     Creepster-Regular      f  0.0  0.0  0.0  0.0  0.0  0.0  0.0  0.0  ...   \n",
              "3     SeoulNamsan-Light      /  0.0  0.0  0.0  0.0  0.0  0.0  0.0  0.0  ...   \n",
              "4  HachiMaruPop-Regular      F  0.0  0.0  0.0  0.0  0.0  0.0  0.0  0.0  ...   \n",
              "\n",
              "   775  776  777  778  779  780  781  782  783  784  \n",
              "0  0.0  0.0  0.0  0.0  0.0  0.0  0.0  0.0  0.0  0.0  \n",
              "1  0.0  0.0  0.0  0.0  0.0  0.0  0.0  0.0  0.0  0.0  \n",
              "2  0.0  0.0  0.0  0.0  0.0  0.0  0.0  0.0  0.0  0.0  \n",
              "3  0.0  0.0  0.0  0.0  0.0  0.0  0.0  0.0  0.0  0.0  \n",
              "4  0.0  0.0  0.0  0.0  0.0  0.0  0.0  0.0  0.0  0.0  \n",
              "\n",
              "[5 rows x 786 columns]"
            ],
            "text/html": [
              "\n",
              "  <div id=\"df-e37f3f93-d500-4ff3-9d4b-7bd0347ac55b\">\n",
              "    <div class=\"colab-df-container\">\n",
              "      <div>\n",
              "<style scoped>\n",
              "    .dataframe tbody tr th:only-of-type {\n",
              "        vertical-align: middle;\n",
              "    }\n",
              "\n",
              "    .dataframe tbody tr th {\n",
              "        vertical-align: top;\n",
              "    }\n",
              "\n",
              "    .dataframe thead th {\n",
              "        text-align: right;\n",
              "    }\n",
              "</style>\n",
              "<table border=\"1\" class=\"dataframe\">\n",
              "  <thead>\n",
              "    <tr style=\"text-align: right;\">\n",
              "      <th></th>\n",
              "      <th>names</th>\n",
              "      <th>labels</th>\n",
              "      <th>1</th>\n",
              "      <th>2</th>\n",
              "      <th>3</th>\n",
              "      <th>4</th>\n",
              "      <th>5</th>\n",
              "      <th>6</th>\n",
              "      <th>7</th>\n",
              "      <th>8</th>\n",
              "      <th>...</th>\n",
              "      <th>775</th>\n",
              "      <th>776</th>\n",
              "      <th>777</th>\n",
              "      <th>778</th>\n",
              "      <th>779</th>\n",
              "      <th>780</th>\n",
              "      <th>781</th>\n",
              "      <th>782</th>\n",
              "      <th>783</th>\n",
              "      <th>784</th>\n",
              "    </tr>\n",
              "  </thead>\n",
              "  <tbody>\n",
              "    <tr>\n",
              "      <th>0</th>\n",
              "      <td>Salsa-Regular</td>\n",
              "      <td>6</td>\n",
              "      <td>0.0</td>\n",
              "      <td>0.0</td>\n",
              "      <td>0.0</td>\n",
              "      <td>0.0</td>\n",
              "      <td>0.0</td>\n",
              "      <td>0.0</td>\n",
              "      <td>0.0</td>\n",
              "      <td>0.0</td>\n",
              "      <td>...</td>\n",
              "      <td>0.0</td>\n",
              "      <td>0.0</td>\n",
              "      <td>0.0</td>\n",
              "      <td>0.0</td>\n",
              "      <td>0.0</td>\n",
              "      <td>0.0</td>\n",
              "      <td>0.0</td>\n",
              "      <td>0.0</td>\n",
              "      <td>0.0</td>\n",
              "      <td>0.0</td>\n",
              "    </tr>\n",
              "    <tr>\n",
              "      <th>1</th>\n",
              "      <td>MouseMemoirs-Regular</td>\n",
              "      <td>D</td>\n",
              "      <td>0.0</td>\n",
              "      <td>0.0</td>\n",
              "      <td>0.0</td>\n",
              "      <td>0.0</td>\n",
              "      <td>0.0</td>\n",
              "      <td>0.0</td>\n",
              "      <td>0.0</td>\n",
              "      <td>0.0</td>\n",
              "      <td>...</td>\n",
              "      <td>0.0</td>\n",
              "      <td>0.0</td>\n",
              "      <td>0.0</td>\n",
              "      <td>0.0</td>\n",
              "      <td>0.0</td>\n",
              "      <td>0.0</td>\n",
              "      <td>0.0</td>\n",
              "      <td>0.0</td>\n",
              "      <td>0.0</td>\n",
              "      <td>0.0</td>\n",
              "    </tr>\n",
              "    <tr>\n",
              "      <th>2</th>\n",
              "      <td>Creepster-Regular</td>\n",
              "      <td>f</td>\n",
              "      <td>0.0</td>\n",
              "      <td>0.0</td>\n",
              "      <td>0.0</td>\n",
              "      <td>0.0</td>\n",
              "      <td>0.0</td>\n",
              "      <td>0.0</td>\n",
              "      <td>0.0</td>\n",
              "      <td>0.0</td>\n",
              "      <td>...</td>\n",
              "      <td>0.0</td>\n",
              "      <td>0.0</td>\n",
              "      <td>0.0</td>\n",
              "      <td>0.0</td>\n",
              "      <td>0.0</td>\n",
              "      <td>0.0</td>\n",
              "      <td>0.0</td>\n",
              "      <td>0.0</td>\n",
              "      <td>0.0</td>\n",
              "      <td>0.0</td>\n",
              "    </tr>\n",
              "    <tr>\n",
              "      <th>3</th>\n",
              "      <td>SeoulNamsan-Light</td>\n",
              "      <td>/</td>\n",
              "      <td>0.0</td>\n",
              "      <td>0.0</td>\n",
              "      <td>0.0</td>\n",
              "      <td>0.0</td>\n",
              "      <td>0.0</td>\n",
              "      <td>0.0</td>\n",
              "      <td>0.0</td>\n",
              "      <td>0.0</td>\n",
              "      <td>...</td>\n",
              "      <td>0.0</td>\n",
              "      <td>0.0</td>\n",
              "      <td>0.0</td>\n",
              "      <td>0.0</td>\n",
              "      <td>0.0</td>\n",
              "      <td>0.0</td>\n",
              "      <td>0.0</td>\n",
              "      <td>0.0</td>\n",
              "      <td>0.0</td>\n",
              "      <td>0.0</td>\n",
              "    </tr>\n",
              "    <tr>\n",
              "      <th>4</th>\n",
              "      <td>HachiMaruPop-Regular</td>\n",
              "      <td>F</td>\n",
              "      <td>0.0</td>\n",
              "      <td>0.0</td>\n",
              "      <td>0.0</td>\n",
              "      <td>0.0</td>\n",
              "      <td>0.0</td>\n",
              "      <td>0.0</td>\n",
              "      <td>0.0</td>\n",
              "      <td>0.0</td>\n",
              "      <td>...</td>\n",
              "      <td>0.0</td>\n",
              "      <td>0.0</td>\n",
              "      <td>0.0</td>\n",
              "      <td>0.0</td>\n",
              "      <td>0.0</td>\n",
              "      <td>0.0</td>\n",
              "      <td>0.0</td>\n",
              "      <td>0.0</td>\n",
              "      <td>0.0</td>\n",
              "      <td>0.0</td>\n",
              "    </tr>\n",
              "  </tbody>\n",
              "</table>\n",
              "<p>5 rows × 786 columns</p>\n",
              "</div>\n",
              "      <button class=\"colab-df-convert\" onclick=\"convertToInteractive('df-e37f3f93-d500-4ff3-9d4b-7bd0347ac55b')\"\n",
              "              title=\"Convert this dataframe to an interactive table.\"\n",
              "              style=\"display:none;\">\n",
              "        \n",
              "  <svg xmlns=\"http://www.w3.org/2000/svg\" height=\"24px\"viewBox=\"0 0 24 24\"\n",
              "       width=\"24px\">\n",
              "    <path d=\"M0 0h24v24H0V0z\" fill=\"none\"/>\n",
              "    <path d=\"M18.56 5.44l.94 2.06.94-2.06 2.06-.94-2.06-.94-.94-2.06-.94 2.06-2.06.94zm-11 1L8.5 8.5l.94-2.06 2.06-.94-2.06-.94L8.5 2.5l-.94 2.06-2.06.94zm10 10l.94 2.06.94-2.06 2.06-.94-2.06-.94-.94-2.06-.94 2.06-2.06.94z\"/><path d=\"M17.41 7.96l-1.37-1.37c-.4-.4-.92-.59-1.43-.59-.52 0-1.04.2-1.43.59L10.3 9.45l-7.72 7.72c-.78.78-.78 2.05 0 2.83L4 21.41c.39.39.9.59 1.41.59.51 0 1.02-.2 1.41-.59l7.78-7.78 2.81-2.81c.8-.78.8-2.07 0-2.86zM5.41 20L4 18.59l7.72-7.72 1.47 1.35L5.41 20z\"/>\n",
              "  </svg>\n",
              "      </button>\n",
              "      \n",
              "  <style>\n",
              "    .colab-df-container {\n",
              "      display:flex;\n",
              "      flex-wrap:wrap;\n",
              "      gap: 12px;\n",
              "    }\n",
              "\n",
              "    .colab-df-convert {\n",
              "      background-color: #E8F0FE;\n",
              "      border: none;\n",
              "      border-radius: 50%;\n",
              "      cursor: pointer;\n",
              "      display: none;\n",
              "      fill: #1967D2;\n",
              "      height: 32px;\n",
              "      padding: 0 0 0 0;\n",
              "      width: 32px;\n",
              "    }\n",
              "\n",
              "    .colab-df-convert:hover {\n",
              "      background-color: #E2EBFA;\n",
              "      box-shadow: 0px 1px 2px rgba(60, 64, 67, 0.3), 0px 1px 3px 1px rgba(60, 64, 67, 0.15);\n",
              "      fill: #174EA6;\n",
              "    }\n",
              "\n",
              "    [theme=dark] .colab-df-convert {\n",
              "      background-color: #3B4455;\n",
              "      fill: #D2E3FC;\n",
              "    }\n",
              "\n",
              "    [theme=dark] .colab-df-convert:hover {\n",
              "      background-color: #434B5C;\n",
              "      box-shadow: 0px 1px 3px 1px rgba(0, 0, 0, 0.15);\n",
              "      filter: drop-shadow(0px 1px 2px rgba(0, 0, 0, 0.3));\n",
              "      fill: #FFFFFF;\n",
              "    }\n",
              "  </style>\n",
              "\n",
              "      <script>\n",
              "        const buttonEl =\n",
              "          document.querySelector('#df-e37f3f93-d500-4ff3-9d4b-7bd0347ac55b button.colab-df-convert');\n",
              "        buttonEl.style.display =\n",
              "          google.colab.kernel.accessAllowed ? 'block' : 'none';\n",
              "\n",
              "        async function convertToInteractive(key) {\n",
              "          const element = document.querySelector('#df-e37f3f93-d500-4ff3-9d4b-7bd0347ac55b');\n",
              "          const dataTable =\n",
              "            await google.colab.kernel.invokeFunction('convertToInteractive',\n",
              "                                                     [key], {});\n",
              "          if (!dataTable) return;\n",
              "\n",
              "          const docLinkHtml = 'Like what you see? Visit the ' +\n",
              "            '<a target=\"_blank\" href=https://colab.research.google.com/notebooks/data_table.ipynb>data table notebook</a>'\n",
              "            + ' to learn more about interactive tables.';\n",
              "          element.innerHTML = '';\n",
              "          dataTable['output_type'] = 'display_data';\n",
              "          await google.colab.output.renderOutput(dataTable, element);\n",
              "          const docLink = document.createElement('div');\n",
              "          docLink.innerHTML = docLinkHtml;\n",
              "          element.appendChild(docLink);\n",
              "        }\n",
              "      </script>\n",
              "    </div>\n",
              "  </div>\n",
              "  "
            ]
          },
          "metadata": {},
          "execution_count": 11
        }
      ]
    },
    {
      "cell_type": "code",
      "source": [
        "df.shape"
      ],
      "metadata": {
        "colab": {
          "base_uri": "https://localhost:8080/"
        },
        "id": "QP49Mk3TEUYp",
        "outputId": "a1cfd016-c30c-475f-a15b-cace268ccfbe"
      },
      "execution_count": 12,
      "outputs": [
        {
          "output_type": "execute_result",
          "data": {
            "text/plain": [
              "(274093, 786)"
            ]
          },
          "metadata": {},
          "execution_count": 12
        }
      ]
    },
    {
      "cell_type": "code",
      "source": [
        "df.info()"
      ],
      "metadata": {
        "id": "BlLWH9rOI61l",
        "outputId": "d96f7af8-b5ac-4fa5-fd73-678a7ebba601",
        "colab": {
          "base_uri": "https://localhost:8080/"
        }
      },
      "execution_count": 13,
      "outputs": [
        {
          "output_type": "stream",
          "name": "stdout",
          "text": [
            "<class 'pandas.core.frame.DataFrame'>\n",
            "RangeIndex: 274093 entries, 0 to 274092\n",
            "Columns: 786 entries, names to 784\n",
            "dtypes: float64(784), object(2)\n",
            "memory usage: 1.6+ GB\n"
          ]
        }
      ]
    },
    {
      "cell_type": "code",
      "source": [
        "# Extracting unique labels from the dataframe\n",
        "unique_labels = list(df['labels'].unique())\n",
        "\n",
        "# Regular expression patterns for checking different types of characters\n",
        "regex_uc = re.compile(r\"[A-Z]\")  # uppercase\n",
        "regex_lc = re.compile(r\"[a-z]\")  # lowercase\n",
        "regex_numbers = re.compile(r\"[0-9]\")  # digits\n",
        "regex_symbols = re.compile(r\"[\\W]|[\\_\\,]\")  # special symbols\n",
        "\n",
        "# Extracting characters based on the regex patterns\n",
        "lower_case_chars = regex_lc.findall(str(unique_labels))\n",
        "upper_case_chars = regex_uc.findall(str(unique_labels))\n",
        "number_chars = regex_numbers.findall(str(unique_labels))\n",
        "symbol_chars = set(regex_symbols.findall(str(unique_labels)))\n",
        "symbol_chars.discard('_')  # removing unwanted character from set\n",
        "\n",
        "# Grouping the labels based on the extracted characters\n",
        "groups = {'lowercase': lower_case_chars, 'uppercase': upper_case_chars, \n",
        "          'numbers': number_chars, 'symbols': list(symbol_chars)}\n",
        "for i, (group_name, char_list) in enumerate(groups.items(), start=1):\n",
        "    df.loc[df['labels'].isin(char_list), 'group'] = str(i)\n"
      ],
      "metadata": {
        "id": "Z8ykm9Box3MF"
      },
      "execution_count": 14,
      "outputs": []
    },
    {
      "cell_type": "markdown",
      "source": [
        "This code snippet takes a DataFrame containing labels as one of its columns and groups these labels based on the presence of certain characters. The characters that are considered for grouping are lowercase letters, uppercase letters, numbers, and special symbols.\n",
        "\n",
        "The code first extracts all unique labels from the DataFrame and then uses regular expressions to find out which of the four types of characters are present in these labels.\n",
        "\n",
        "Once the relevant characters have been identified, the labels are grouped based on the type of character(s) they contain. Labels that have at least one lowercase letter are grouped into category 1, those with uppercase letters are grouped into category 2, those with numbers are grouped into category 3, and those with special symbols are grouped into category 4.\n",
        "\n",
        "The grouping information is stored in a new column called 'group' in the original DataFrame."
      ],
      "metadata": {
        "id": "SKomv-NqgU3X"
      }
    },
    {
      "cell_type": "code",
      "source": [
        "# defining X and y for training\n",
        "X = df.iloc[:, 2:-1].astype('float32') \n",
        "y  = df[['labels']] "
      ],
      "metadata": {
        "id": "k0yEIGMeiHPK"
      },
      "execution_count": 15,
      "outputs": []
    },
    {
      "cell_type": "code",
      "source": [
        "#preparing the data to create dictionary\n",
        "labels = y['labels'].unique()\n",
        "values = [num for num in range(len(df['labels'].unique()))]\n",
        "label_dict= dict(zip(labels,values)) #Creating Dictionary \n",
        "label_dict_inv = dict(zip(values,labels))"
      ],
      "metadata": {
        "id": "xtNixOD9jedV"
      },
      "execution_count": 16,
      "outputs": []
    },
    {
      "cell_type": "markdown",
      "source": [
        "This code snippet creates a dictionary that maps each unique label in a DataFrame to a corresponding integer value, which is useful for machine learning tasks that require numerical labels."
      ],
      "metadata": {
        "id": "irBpoeI_hZGm"
      }
    },
    {
      "cell_type": "code",
      "source": [
        "# Mapping\n",
        "y['labels'].replace(label_dict, inplace=True) #Maping Values"
      ],
      "metadata": {
        "id": "1EGyZFU_jiUS"
      },
      "execution_count": 17,
      "outputs": []
    },
    {
      "cell_type": "markdown",
      "source": [
        "This code snippet maps the string labels in a DataFrame to their corresponding integer values using a pre-defined dictionary, which is necessary for machine learning tasks that require numerical labels."
      ],
      "metadata": {
        "id": "DA9hE1PgiK81"
      }
    },
    {
      "cell_type": "code",
      "source": [
        "#Checking the mappings\n",
        "print(label_dict)"
      ],
      "metadata": {
        "colab": {
          "base_uri": "https://localhost:8080/"
        },
        "id": "2O1oJVIYjm3G",
        "outputId": "bb4a94b1-2e86-4969-c704-03f99e0f579c"
      },
      "execution_count": 18,
      "outputs": [
        {
          "output_type": "stream",
          "name": "stdout",
          "text": [
            "{'6': 0, 'D': 1, 'f': 2, '/': 3, 'F': 4, 'x': 5, 'J': 6, '8': 7, 'H': 8, 'k': 9, '@': 10, '1': 11, '=': 12, 'g': 13, ')': 14, '2': 15, 'd': 16, '^': 17, '3': 18, 't': 19, '#': 20, '.': 21, '4': 22, 'o': 23, '\"': 24, 'y': 25, 'A': 26, 'u': 27, 'G': 28, '-': 29, 'm': 30, 'W': 31, '&': 32, 'c': 33, '9': 34, 'N': 35, ']': 36, 'P': 37, 'X': 38, '|': 39, '}': 40, 'h': 41, '7': 42, 'j': 43, '5': 44, '>': 45, '?': 46, 'b': 47, '*': 48, 'w': 49, 'l': 50, '0': 51, '$': 52, 'I': 53, 'Y': 54, '%': 55, ':': 56, 'T': 57, 'K': 58, 'E': 59, '<': 60, 'V': 61, '{': 62, 'M': 63, 'S': 64, 'a': 65, 'i': 66, 'r': 67, \"'\": 68, 'p': 69, ';': 70, '[': 71, '+': 72, 'e': 73, 'U': 74, '(': 75, 's': 76, '~': 77, ',': 78, 'C': 79, 'q': 80, '_': 81, 'n': 82, 'B': 83, 'z': 84, 'v': 85, 'O': 86, 'R': 87, '`': 88, 'Z': 89, 'Q': 90, 'L': 91, '!': 92, '\\\\': 93}\n"
          ]
        }
      ]
    },
    {
      "cell_type": "markdown",
      "source": [
        "# **Creating Training and Test sets**"
      ],
      "metadata": {
        "id": "LUBzEe2mu4as"
      }
    },
    {
      "cell_type": "code",
      "source": [
        "# creating test train split of 80% and 20%\n",
        "X_train, X_test, y_train, y_test = train_test_split(X, y, test_size = 0.2)"
      ],
      "metadata": {
        "id": "ejXg867UvBBa"
      },
      "execution_count": 19,
      "outputs": []
    },
    {
      "cell_type": "code",
      "source": [
        "# preping the inputs for training\n",
        "Length, Height = 28,28\n",
        "NCl = y_train.nunique()[0] # Unique targets\n",
        "\n",
        "# N of images 28x28\n",
        "X_train = np.reshape(X_train.values, (X_train.shape[0] ,Length, Height)) \n",
        "X_test = np.reshape(X_test.values, (X_test.shape[0] ,Length, Height))\n",
        "\n",
        "# Target into Categorical Values\n",
        "y_train = to_categorical(y_train, NCl, dtype='int' )\n",
        "y_test = to_categorical(y_test, NCl, dtype='int' )\n",
        "\n",
        "print(f'X:Train, Test data shape:{X_train.shape},{X_test.shape}')\n",
        "print(f'Y:Train, Test data shape:{y_train.shape},{y_test.shape}')"
      ],
      "metadata": {
        "colab": {
          "base_uri": "https://localhost:8080/"
        },
        "id": "iZz7fJcsvHzu",
        "outputId": "45f72273-c10d-447b-dc7c-c287f8759c4a"
      },
      "execution_count": 20,
      "outputs": [
        {
          "output_type": "stream",
          "name": "stdout",
          "text": [
            "X:Train, Test data shape:(219274, 28, 28),(54819, 28, 28)\n",
            "Y:Train, Test data shape:(219274, 94),(54819, 94)\n"
          ]
        }
      ]
    },
    {
      "cell_type": "markdown",
      "source": [
        "This code splits the input data X and the target variable y into training and testing sets using the train_test_split function. The training set contains 80% of the data while the testing set contains 20%.\n",
        "\n",
        "The code then prepares the data for model training by reshaping the input arrays X_train and X_test from 2D to 3D and converting the target variable y into categorical values using to_categorical() from the Keras library.\n",
        "\n",
        "Finally, the code prints the shapes of the training and testing data arrays for both the input and target variables. This code prepares the data for training a machine learning model on image classification tasks."
      ],
      "metadata": {
        "id": "Nmzo8p9GijvY"
      }
    },
    {
      "cell_type": "markdown",
      "source": [
        "# **Showing Examples from the Dataset**"
      ],
      "metadata": {
        "id": "0JRJTA4HvNz8"
      }
    },
    {
      "cell_type": "code",
      "source": [
        "# displaying the charecters of our dataset\n",
        "random = shuffle(X_train[:500]) #Randomly shuffle\n",
        "fig,ax = plt.subplots(3,4 , figsize = (10,10)) \n",
        "axes = ax.flatten()\n",
        "for i in range(12):\n",
        "    img = np.reshape(random[i], (28,28)) # reshaping it for displaying\n",
        "    axes[i].imshow(img, cmap=\"Greys\")\n",
        "    img_final =np.reshape(img, (1,28,28,1)) # reshapng it for passing into model for prediction\n",
        "    axes[i].grid()"
      ],
      "metadata": {
        "colab": {
          "base_uri": "https://localhost:8080/",
          "height": 775
        },
        "id": "4nvWDfiKvV63",
        "outputId": "083f177b-3ffd-4df3-dc72-cbfa83ddf515"
      },
      "execution_count": 21,
      "outputs": [
        {
          "output_type": "display_data",
          "data": {
            "text/plain": [
              "<Figure size 1000x1000 with 12 Axes>"
            ],
            "image/png": "[encoded data removed]"
          },
          "metadata": {}
        }
      ]
    },
    {
      "cell_type": "markdown",
      "source": [
        "This code displays a random sample of 12 characters from the training set of the input data X_train. It reshapes the characters into 28x28 grayscale images, displays them in a 3x4 grid of subplots, adds a grid to each subplot, and reshapes them into 4D arrays for passing into a machine learning model. This code is used to visually inspect a random sample of characters from the training set."
      ],
      "metadata": {
        "id": "eLKDvuAgkWM9"
      }
    },
    {
      "cell_type": "markdown",
      "source": [
        "# **Importing libraries fro building Neural Networks**"
      ],
      "metadata": {
        "id": "JT-EWQvAvcOK"
      }
    },
    {
      "cell_type": "code",
      "source": [
        "# importing libraries for building neural netwrok\n",
        "from tensorflow.keras.models import Sequential,load_model\n",
        "from tensorflow.keras.layers import Dense, Conv2D, MaxPool2D,Flatten,Dropout,BatchNormalization\n",
        "from tensorflow.keras.optimizers import SGD, Adam, RMSprop\n",
        "from tensorflow.keras.callbacks import EarlyStopping"
      ],
      "metadata": {
        "id": "CHiI9bDZvk7_"
      },
      "execution_count": 22,
      "outputs": []
    },
    {
      "cell_type": "markdown",
      "source": [
        "# Preparing the input for CNN</h3>"
      ],
      "metadata": {
        "id": "C6Lpi_VwvxPE"
      }
    },
    {
      "cell_type": "code",
      "source": [
        "RGB = 1  # In this case only one instead of 3 because we dont have Color images\n",
        "X_train = X_train.reshape(X_train.shape[0], X_train.shape[1],X_train.shape[2], RGB)\n",
        "X_test = X_test.reshape(X_test.shape[0], X_test.shape[1], X_test.shape[2],RGB)\n",
        "\n",
        "#normalizing the image data\n",
        "X_train = X_train/255\n",
        "X_test = X_test/255\n",
        "print(f'Train, Test shapes: {X_train.shape},{X_test.shape}')"
      ],
      "metadata": {
        "colab": {
          "base_uri": "https://localhost:8080/"
        },
        "id": "QDAMsAlavv8A",
        "outputId": "97c054a8-d2ae-4bf7-9eac-3fd6fbce5174"
      },
      "execution_count": 23,
      "outputs": [
        {
          "output_type": "stream",
          "name": "stdout",
          "text": [
            "Train, Test shapes: (219274, 28, 28, 1),(54819, 28, 28, 1)\n"
          ]
        }
      ]
    },
    {
      "cell_type": "markdown",
      "source": [
        "This code adds a grayscale color channel to the images in the training and test sets by reshaping them and then normalizes the pixel values of the images in both sets by dividing them by 255. It sets RGB to 1 to indicate grayscale images and prints the shapes of the normalized training and test sets."
      ],
      "metadata": {
        "id": "XidY3T-ClhGZ"
      }
    },
    {
      "cell_type": "markdown",
      "source": [
        "# **Building the CNN Architecture**"
      ],
      "metadata": {
        "id": "vkEsrrCuv_8G"
      }
    },
    {
      "cell_type": "markdown",
      "source": [
        "The CNN architecture used in the code snippet consists of 4 convolutional layers with 32, 64, 128, and 256 filters respectively, followed by batch normalization and activation using ReLU function. Each convolutional layer is also followed by max pooling and dropout layers. The output from the final convolutional layer is flattened and passed through two dense layers with 350 and NCl neurons respectively. The final dense layer uses softmax activation for multi-class classification. The model is compiled using the Adam optimizer with a learning rate of 0.01 and a categorical cross-entropy loss function. The training is performed for 25 epochs with a batch size of 64, and early stopping callback is used to prevent overfitting. The test accuracy of the trained model is evaluated using the evaluate method and the predicted characters are displayed using the Matplotlib library.\n",
        "\n",
        "\n",
        "\n"
      ],
      "metadata": {
        "id": "2qn7EM7Spt42"
      }
    },
    {
      "cell_type": "code",
      "source": [
        "model = Sequential ()\n",
        "\n",
        "# 4 Conv with Maxpool and Dropout [25%] -> Flatten - >  Dense -> Dense -> output \n",
        "model.add(Conv2D(filters = 32 , kernel_size = (3,3),input_shape = (Length, Height, RGB), padding = 'same',))\n",
        "model.add(BatchNormalization())\n",
        "model.add(tf.keras.layers.Activation('relu'))\n",
        "model.add(MaxPool2D(pool_size = (2,2)))\n",
        "model.add(Dropout(0.25))\n",
        "\n",
        "model.add(Conv2D(filters = 64 , kernel_size = (3,3) ,padding = 'same'))\n",
        "model.add(BatchNormalization())\n",
        "model.add(tf.keras.layers.Activation('relu'))\n",
        "model.add(MaxPool2D(pool_size = (2,2)))\n",
        "model.add(Dropout(0.25))\n",
        "\n",
        "model.add(Conv2D(filters = 128 , kernel_size = (3,3) ,padding = 'same'))\n",
        "model.add(BatchNormalization())\n",
        "model.add(tf.keras.layers.Activation('relu'))\n",
        "model.add(MaxPool2D(pool_size = (2,2)))\n",
        "model.add(Dropout(0.25))\n",
        "\n",
        "model.add(Conv2D(filters = 256 , kernel_size = (3,3) ,padding = 'same'))\n",
        "model.add(BatchNormalization())\n",
        "model.add(tf.keras.layers.Activation('relu'))\n",
        "model.add(MaxPool2D(pool_size = (2,2)))\n",
        "model.add(Dropout(0.25))\n",
        "\n",
        "model.add(Flatten())\n",
        "model.add(Dense(350))\n",
        "model.add(BatchNormalization())\n",
        "model.add(tf.keras.layers.Activation('relu'))\n",
        "model.add(Dropout(0.25))\n",
        "model.add(Dense(NCl, activation = 'softmax'))\n",
        "model.summary()"
      ],
      "metadata": {
        "colab": {
          "base_uri": "https://localhost:8080/"
        },
        "id": "4w2WuvQ8wDXl",
        "outputId": "36aa5bd9-57e5-4d6c-f2e5-965254080d13"
      },
      "execution_count": 24,
      "outputs": [
        {
          "output_type": "stream",
          "name": "stdout",
          "text": [
            "Model: \"sequential\"\n",
            "_________________________________________________________________\n",
            " Layer (type)                Output Shape              Param #   \n",
            "=================================================================\n",
            " conv2d (Conv2D)             (None, 28, 28, 32)        320       \n",
            "                                                                 \n",
            " batch_normalization (BatchN  (None, 28, 28, 32)       128       \n",
            " ormalization)                                                   \n",
            "                                                                 \n",
            " activation (Activation)     (None, 28, 28, 32)        0         \n",
            "                                                                 \n",
            " max_pooling2d (MaxPooling2D  (None, 14, 14, 32)       0         \n",
            " )                                                               \n",
            "                                                                 \n",
            " dropout (Dropout)           (None, 14, 14, 32)        0         \n",
            "                                                                 \n",
            " conv2d_1 (Conv2D)           (None, 14, 14, 64)        18496     \n",
            "                                                                 \n",
            " batch_normalization_1 (Batc  (None, 14, 14, 64)       256       \n",
            " hNormalization)                                                 \n",
            "                                                                 \n",
            " activation_1 (Activation)   (None, 14, 14, 64)        0         \n",
            "                                                                 \n",
            " max_pooling2d_1 (MaxPooling  (None, 7, 7, 64)         0         \n",
            " 2D)                                                             \n",
            "                                                                 \n",
            " dropout_1 (Dropout)         (None, 7, 7, 64)          0         \n",
            "                                                                 \n",
            " conv2d_2 (Conv2D)           (None, 7, 7, 128)         73856     \n",
            "                                                                 \n",
            " batch_normalization_2 (Batc  (None, 7, 7, 128)        512       \n",
            " hNormalization)                                                 \n",
            "                                                                 \n",
            " activation_2 (Activation)   (None, 7, 7, 128)         0         \n",
            "                                                                 \n",
            " max_pooling2d_2 (MaxPooling  (None, 3, 3, 128)        0         \n",
            " 2D)                                                             \n",
            "                                                                 \n",
            " dropout_2 (Dropout)         (None, 3, 3, 128)         0         \n",
            "                                                                 \n",
            " conv2d_3 (Conv2D)           (None, 3, 3, 256)         295168    \n",
            "                                                                 \n",
            " batch_normalization_3 (Batc  (None, 3, 3, 256)        1024      \n",
            " hNormalization)                                                 \n",
            "                                                                 \n",
            " activation_3 (Activation)   (None, 3, 3, 256)         0         \n",
            "                                                                 \n",
            " max_pooling2d_3 (MaxPooling  (None, 1, 1, 256)        0         \n",
            " 2D)                                                             \n",
            "                                                                 \n",
            " dropout_3 (Dropout)         (None, 1, 1, 256)         0         \n",
            "                                                                 \n",
            " flatten (Flatten)           (None, 256)               0         \n",
            "                                                                 \n",
            " dense (Dense)               (None, 350)               89950     \n",
            "                                                                 \n",
            " batch_normalization_4 (Batc  (None, 350)              1400      \n",
            " hNormalization)                                                 \n",
            "                                                                 \n",
            " activation_4 (Activation)   (None, 350)               0         \n",
            "                                                                 \n",
            " dropout_4 (Dropout)         (None, 350)               0         \n",
            "                                                                 \n",
            " dense_1 (Dense)             (None, 94)                32994     \n",
            "                                                                 \n",
            "=================================================================\n",
            "Total params: 514,104\n",
            "Trainable params: 512,444\n",
            "Non-trainable params: 1,660\n",
            "_________________________________________________________________\n"
          ]
        }
      ]
    },
    {
      "cell_type": "markdown",
      "source": [
        "The code defines a convolutional neural network model using Keras API for image classification. The model has four sets of convolutional, batch normalization, activation, max-pooling and dropout layers, followed by a flatten layer and two fully connected dense layers with activation functions. The output layer has softmax activation for multi-class classification. A summary of the model architecture is displayed using model.summary()."
      ],
      "metadata": {
        "id": "NxSTRl1cls96"
      }
    },
    {
      "cell_type": "code",
      "source": [
        "#Defining parameters for training\n",
        "optimizer  = Adam(learning_rate=0.01)\n",
        "callback =EarlyStopping(monitor='loss', patience=5)\n",
        "Batch_ = 64\n",
        "Epochs_ = 27\n",
        "\n",
        "model.compile(loss = 'categorical_crossentropy', optimizer = optimizer, metrics = ['accuracy'])"
      ],
      "metadata": {
        "id": "81A1jibNwV4a"
      },
      "execution_count": 25,
      "outputs": []
    },
    {
      "cell_type": "markdown",
      "source": [
        "In this code block, the optimizer, callback, batch size, and number of epochs are defined for the training of the model. The Adam optimizer is used with a learning rate of 0.01, and early stopping is used to prevent overfitting. The batch size is set to 64, and the number of epochs is set to 27. Finally, the model is compiled with categorical cross-entropy loss, the defined optimizer, and accuracy as a metric."
      ],
      "metadata": {
        "id": "sjNsXtgRl-TB"
      }
    },
    {
      "cell_type": "markdown",
      "source": [
        "# **Training the model**"
      ],
      "metadata": {
        "id": "uzpQAbscwexc"
      }
    },
    {
      "cell_type": "code",
      "source": [
        "#Training\n",
        "history= model.fit(X_train,y_train, validation_data = (X_test,y_test),batch_size = Batch_ ,\n",
        "                   epochs = Epochs_, verbose = 1)"
      ],
      "metadata": {
        "colab": {
          "base_uri": "https://localhost:8080/"
        },
        "id": "wxqJubpJwgX5",
        "outputId": "35ca3cfa-5e58-4550-b283-1c16faf32d99"
      },
      "execution_count": 26,
      "outputs": [
        {
          "output_type": "stream",
          "name": "stdout",
          "text": [
            "Epoch 1/27\n",
            "3427/3427 [==============================] - 45s 9ms/step - loss: 0.6329 - accuracy: 0.8143 - val_loss: 0.2999 - val_accuracy: 0.9076\n",
            "Epoch 2/27\n",
            "3427/3427 [==============================] - 30s 9ms/step - loss: 0.3950 - accuracy: 0.8790 - val_loss: 0.2536 - val_accuracy: 0.9210\n",
            "Epoch 3/27\n",
            "3427/3427 [==============================] - 30s 9ms/step - loss: 0.3561 - accuracy: 0.8900 - val_loss: 0.2603 - val_accuracy: 0.9140\n",
            "Epoch 4/27\n",
            "3427/3427 [==============================] - 29s 9ms/step - loss: 0.3377 - accuracy: 0.8959 - val_loss: 0.2850 - val_accuracy: 0.9059\n",
            "Epoch 5/27\n",
            "3427/3427 [==============================] - 29s 8ms/step - loss: 0.3218 - accuracy: 0.9005 - val_loss: 0.2216 - val_accuracy: 0.9304\n",
            "Epoch 6/27\n",
            "3427/3427 [==============================] - 29s 9ms/step - loss: 0.3100 - accuracy: 0.9045 - val_loss: 0.2373 - val_accuracy: 0.9230\n",
            "Epoch 7/27\n",
            "3427/3427 [==============================] - 29s 8ms/step - loss: 0.3006 - accuracy: 0.9056 - val_loss: 0.2190 - val_accuracy: 0.9311\n",
            "Epoch 8/27\n",
            "3427/3427 [==============================] - 32s 9ms/step - loss: 0.2938 - accuracy: 0.9081 - val_loss: 0.2232 - val_accuracy: 0.9281\n",
            "Epoch 9/27\n",
            "3427/3427 [==============================] - 29s 9ms/step - loss: 0.2871 - accuracy: 0.9098 - val_loss: 0.2139 - val_accuracy: 0.9322\n",
            "Epoch 10/27\n",
            "3427/3427 [==============================] - 32s 9ms/step - loss: 0.2823 - accuracy: 0.9116 - val_loss: 0.2078 - val_accuracy: 0.9328\n",
            "Epoch 11/27\n",
            "3427/3427 [==============================] - 29s 8ms/step - loss: 0.2785 - accuracy: 0.9126 - val_loss: 0.2049 - val_accuracy: 0.9333\n",
            "Epoch 12/27\n",
            "3427/3427 [==============================] - 29s 9ms/step - loss: 0.2726 - accuracy: 0.9137 - val_loss: 0.1999 - val_accuracy: 0.9339\n",
            "Epoch 13/27\n",
            "3427/3427 [==============================] - 30s 9ms/step - loss: 0.2721 - accuracy: 0.9143 - val_loss: 0.2006 - val_accuracy: 0.9366\n",
            "Epoch 14/27\n",
            "3427/3427 [==============================] - 29s 8ms/step - loss: 0.2686 - accuracy: 0.9151 - val_loss: 0.1994 - val_accuracy: 0.9375\n",
            "Epoch 15/27\n",
            "3427/3427 [==============================] - 30s 9ms/step - loss: 0.2650 - accuracy: 0.9164 - val_loss: 0.1921 - val_accuracy: 0.9386\n",
            "Epoch 16/27\n",
            "3427/3427 [==============================] - 29s 9ms/step - loss: 0.2630 - accuracy: 0.9167 - val_loss: 0.1903 - val_accuracy: 0.9379\n",
            "Epoch 17/27\n",
            "3427/3427 [==============================] - 29s 8ms/step - loss: 0.2619 - accuracy: 0.9172 - val_loss: 0.1960 - val_accuracy: 0.9364\n",
            "Epoch 18/27\n",
            "3427/3427 [==============================] - 30s 9ms/step - loss: 0.2603 - accuracy: 0.9171 - val_loss: 0.1955 - val_accuracy: 0.9375\n",
            "Epoch 19/27\n",
            "3427/3427 [==============================] - 29s 8ms/step - loss: 0.2598 - accuracy: 0.9179 - val_loss: 0.1890 - val_accuracy: 0.9414\n",
            "Epoch 20/27\n",
            "3427/3427 [==============================] - 32s 9ms/step - loss: 0.2562 - accuracy: 0.9187 - val_loss: 0.1929 - val_accuracy: 0.9383\n",
            "Epoch 21/27\n",
            "3427/3427 [==============================] - 29s 9ms/step - loss: 0.2566 - accuracy: 0.9190 - val_loss: 0.1906 - val_accuracy: 0.9409\n",
            "Epoch 22/27\n",
            "3427/3427 [==============================] - 29s 9ms/step - loss: 0.2548 - accuracy: 0.9191 - val_loss: 0.2036 - val_accuracy: 0.9372\n",
            "Epoch 23/27\n",
            "3427/3427 [==============================] - 29s 9ms/step - loss: 0.2515 - accuracy: 0.9198 - val_loss: 0.2006 - val_accuracy: 0.9338\n",
            "Epoch 24/27\n",
            "3427/3427 [==============================] - 29s 8ms/step - loss: 0.2510 - accuracy: 0.9196 - val_loss: 0.2004 - val_accuracy: 0.9386\n",
            "Epoch 25/27\n",
            "3427/3427 [==============================] - 32s 9ms/step - loss: 0.2491 - accuracy: 0.9205 - val_loss: 0.1896 - val_accuracy: 0.9395\n",
            "Epoch 26/27\n",
            "3427/3427 [==============================] - 29s 9ms/step - loss: 0.2490 - accuracy: 0.9208 - val_loss: 0.1857 - val_accuracy: 0.9410\n",
            "Epoch 27/27\n",
            "3427/3427 [==============================] - 32s 9ms/step - loss: 0.2490 - accuracy: 0.9211 - val_loss: 0.1883 - val_accuracy: 0.9408\n"
          ]
        }
      ]
    },
    {
      "cell_type": "markdown",
      "source": [
        "This code is for training the defined CNN model on the preprocessed training dataset (X_train and y_train) for a specified number of epochs and batch size. The validation dataset (X_test and y_test) is also passed as an argument to validate the training process. The training process is saved in a history variable for future analysis."
      ],
      "metadata": {
        "id": "WCkV43zrmKFW"
      }
    },
    {
      "cell_type": "markdown",
      "source": [
        "# **Evaluating the model**"
      ],
      "metadata": {
        "id": "mSmwG8zCwuIn"
      }
    },
    {
      "cell_type": "code",
      "source": [
        "#Evaluating model accuracy on test data\n",
        "score = model.evaluate(X_test,y_test, batch_size = Batch_,verbose = 0)\n",
        "print(f\"Test Accuracy:{round(score[1],4)*100}%\")"
      ],
      "metadata": {
        "id": "rqIjhrKdwyFa",
        "colab": {
          "base_uri": "https://localhost:8080/"
        },
        "outputId": "8a2598c6-ae00-45b9-f556-7c6a874e9374"
      },
      "execution_count": 27,
      "outputs": [
        {
          "output_type": "stream",
          "name": "stdout",
          "text": [
            "Test Accuracy:94.08%\n"
          ]
        }
      ]
    },
    {
      "cell_type": "markdown",
      "source": [
        "During the evaluation on the test dataset, the model achieved an accuracy of 0.9408 and a loss of 0.1883. This means that the model predicted the correct label for 94.08% of the test images which is pretty good for 4 layer CNN"
      ],
      "metadata": {
        "id": "bdSM7TycQpbY"
      }
    },
    {
      "cell_type": "markdown",
      "source": [
        "## **Visualizing the model performance**"
      ],
      "metadata": {
        "id": "B-oK0WFZw3Ez"
      }
    },
    {
      "cell_type": "code",
      "source": [
        "# Function for Plotting\n",
        "def plot_history(history):\n",
        "    fig, ax = plt.subplots(1, 2, figsize=(20, 7))\n",
        "    # summarize history for accuracy\n",
        "    ax[0].plot(history.history['accuracy'])\n",
        "    ax[0].plot(history.history['val_accuracy'])\n",
        "    ax[0].set_title('Model Accuracy')\n",
        "    ax[0].legend(['Train', 'Validation'], loc='upper left')\n",
        "\n",
        "    # summarize history for loss\n",
        "    ax[1].plot(history.history['loss'])\n",
        "    ax[1].plot(history.history['val_loss'])\n",
        "    ax[1].set_title('Model Loss')\n",
        "    ax[1].legend(['Train', 'Validation'], loc='upper left')\n",
        "    plt.show()\n"
      ],
      "metadata": {
        "id": "cKB63aYUwHKw"
      },
      "execution_count": 28,
      "outputs": []
    },
    {
      "cell_type": "markdown",
      "source": [
        "This is a function definition for a function called \"Plott\". The function takes one argument called \"data\". It creates a figure with two subplots, one for plotting model accuracy and the other for plotting model loss. It then plots the training and validation accuracy and loss from the \"data\" argument passed to it, and displays the plot using the Matplotlib library."
      ],
      "metadata": {
        "id": "fZMcnQ3LmWJO"
      }
    },
    {
      "cell_type": "code",
      "source": [
        "plot_history(history)"
      ],
      "metadata": {
        "id": "wD4JxR6Cw8zt",
        "colab": {
          "base_uri": "https://localhost:8080/",
          "height": 613
        },
        "outputId": "68356daa-52c8-4f18-f109-ad754877ee08"
      },
      "execution_count": 29,
      "outputs": [
        {
          "output_type": "display_data",
          "data": {
            "text/plain": [
              "<Figure size 2000x700 with 2 Axes>"
            ],
            "image/png": "[encoded data removed]"
          },
          "metadata": {}
        }
      ]
    },
    {
      "cell_type": "markdown",
      "source": [
        "# **Making Final Predictions**"
      ],
      "metadata": {
        "id": "dgzoddVexECd"
      }
    },
    {
      "cell_type": "code",
      "source": [
        "#predicting the charecters using trained model\n",
        "fig, axes = plt.subplots(3,3, figsize=(8,9))\n",
        "axes = axes.flatten()\n",
        "\n",
        "for i,ax in enumerate(axes):\n",
        "    img = np.reshape(X_test[i], (28,28)) # reshaping it for displaying\n",
        "    ax.imshow(img, cmap=\"Greys\")\n",
        "    img_final =np.reshape(img, (1,28,28,1)) # reshapng it for passing into model for prediction\n",
        "    pred = label_dict_inv[np.argmax(model.predict(img_final))]\n",
        "    ax.set_title(\"Prediction: \"+pred)\n",
        "    ax.grid()"
      ],
      "metadata": {
        "id": "JfLxyGJAxH0Z",
        "colab": {
          "base_uri": "https://localhost:8080/",
          "height": 918
        },
        "outputId": "4838c312-449d-4bb6-dea7-40ae4f588272"
      },
      "execution_count": 30,
      "outputs": [
        {
          "output_type": "stream",
          "name": "stdout",
          "text": [
            "1/1 [==============================] - 0s 306ms/step\n",
            "1/1 [==============================] - 0s 20ms/step\n",
            "1/1 [==============================] - 0s 18ms/step\n",
            "1/1 [==============================] - 0s 17ms/step\n",
            "1/1 [==============================] - 0s 26ms/step\n",
            "1/1 [==============================] - 0s 18ms/step\n",
            "1/1 [==============================] - 0s 18ms/step\n",
            "1/1 [==============================] - 0s 17ms/step\n",
            "1/1 [==============================] - 0s 18ms/step\n"
          ]
        },
        {
          "output_type": "display_data",
          "data": {
            "text/plain": [
              "<Figure size 800x900 with 9 Axes>"
            ],
            "image/png": "[encoded data removed]"
          },
          "metadata": {}
        }
      ]
    },
    {
      "cell_type": "markdown",
      "source": [
        "This code is creating a grid of 3x3 subplots and displaying the predicted characters for each of them using the trained model. For each subplot, it reshapes the corresponding image in X_test to (28,28) to display it, then reshapes it again to (1,28,28,1) to pass it into the model for prediction. The predicted character is then displayed as the title of the subplot along with the label \"Prediction\".\n"
      ],
      "metadata": {
        "id": "mN6XLrcaoHqu"
      }
    },
    {
      "cell_type": "markdown",
      "source": [
        "# **Takeaways**"
      ],
      "metadata": {
        "id": "gIdzjaIuSuUp"
      }
    },
    {
      "cell_type": "markdown",
      "source": [
        "Data Preparation: In this step, the MNIST dataset is loaded and preprocessed. The images are reshaped to have a single color channel and normalized.\n",
        "\n",
        "Convolutional Neural Network (CNN) Architecture: The CNN model is built using Keras Sequential API. It consists of four convolutional layers followed by max-pooling, batch normalization, activation function, and dropout layers. Then the output is flattened and passed through two dense layers and an output layer with softmax activation.\n",
        "\n",
        "Training: The model is trained on the training dataset using the Adam optimizer and categorical cross-entropy loss function. The model is trained for 27 epochs with a batch size of 64. The accuracy and loss of the model are monitored during training using the validation set.\n",
        "\n",
        "Evaluation: The trained model is evaluated on the test dataset, and the accuracy of the model is calculated.\n",
        "\n",
        "Visualization: Finally, a function is defined to visualize the training and validation accuracy and loss, and another function is defined to predict the characters from the test dataset using the trained model."
      ],
      "metadata": {
        "id": "5XXhBLYXp_hk"
      }
    },
    {
      "cell_type": "markdown",
      "source": [
        "# **Conclusion**"
      ],
      "metadata": {
        "id": "XnGxtGGvrBab"
      }
    },
    {
      "cell_type": "markdown",
      "source": [
        "In conclusion, the process of building and training a CNN for recognizing handwritten characters from the TMNIST dataset is a well-defined and structured process. By following the steps of data preparation, CNN architecture building, training, evaluation, and visualization, we can create a highly accurate and reliable model for character recognition. In this case, the trained model achieved an accuracy of 94.08% and a loss of 0.1883 on the test dataset, indicating its strong performance in accurately identifying handwritten characters. This is a great achievement considering the relatively simple 4-layer CNN architecture used in this project."
      ],
      "metadata": {
        "id": "rVbTW251Suls"
      }
    },
    {
      "cell_type": "markdown",
      "source": [
        "# **References**\n",
        "\n",
        "1. https://www.tensorflow.org/quantum/tutorials/mnist\n",
        "2. https://www.youtube.com/watch?v=iqQgED9vV7k\n",
        "3. https://www.kaggle.com/code/huchunjun/99-1-tmnist-typefacemnist-chunjunhu\n",
        "4. https://chat.openai.com/\n",
        "5. https://www.kaggle.com/code/sheshngupta/tminst-character-recognition-94-4-accuracy"
      ],
      "metadata": {
        "id": "xvZnBRMDNc6X"
      }
    },
    {
      "cell_type": "markdown",
      "source": [
        "MIT License\n",
        "\n",
        "**Copyright (c) 2023 Sameer Sanjay Nimse and AISkunks**\n",
        "\n",
        "Permission is hereby granted, free of charge, to any person obtaining a copy of this software and associated documentation files (the \"Software\"), to deal in the Software without restriction, including without limitation the rights to use, copy, modify, merge, publish, distribute, sublicense, and/or sell copies of the Software, and to permit persons to whom the Software is furnished to do so, subject to the following conditions:\n",
        "\n",
        "The above copyright notice and this permission notice shall be included in all copies or substantial portions of the Software.\n",
        "\n",
        "THE SOFTWARE IS PROVIDED \"AS IS\", WITHOUT WARRANTY OF ANY KIND, EXPRESS OR IMPLIED, INCLUDING BUT NOT LIMITED TO THE WARRANTIES OF MERCHANTABILITY, FITNESS FOR A PARTICULAR PURPOSE AND NONINFRINGEMENT. IN NO EVENT SHALL THE AUTHORS OR COPYRIGHT HOLDERS BE LIABLE FOR ANY CLAIM, DAMAGES OR OTHER LIABILITY, WHETHER IN AN ACTION OF CONTRACT, TORT OR OTHERWISE, ARISING FROM, OUT OF OR IN CONNECTION WITH THE SOFTWARE OR THE USE OR OTHER DEALINGS IN THE SOFTWARE."
      ],
      "metadata": {
        "id": "BYSSy23HuDiB"
      }
    }
  ]
}